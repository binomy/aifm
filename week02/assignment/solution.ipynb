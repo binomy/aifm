{
 "cells": [
  {
   "cell_type": "code",
   "execution_count": 6,
   "metadata": {},
   "outputs": [],
   "source": [
    "import pandas as pd\n",
    "import yfinance as yf\n",
    "\n",
    "df_nifty = pd.read_csv('../../data/Nify100_Info.csv')"
   ]
  },
  {
   "cell_type": "code",
   "execution_count": 22,
   "metadata": {},
   "outputs": [
    {
     "name": "stdout",
     "output_type": "stream",
     "text": [
      "[*********************100%***********************]  100 of 100 completed\n"
     ]
    }
   ],
   "source": [
    "tickers = list(df_nifty['symbol'])\n",
    "\n",
    "df = yf.download(tickers)['Close']"
   ]
  },
  {
   "cell_type": "code",
   "execution_count": 23,
   "metadata": {},
   "outputs": [],
   "source": [
    "df.reset_index(inplace=True)"
   ]
  },
  {
   "cell_type": "code",
   "execution_count": 25,
   "metadata": {},
   "outputs": [
    {
     "data": {
      "text/html": [
       "<div>\n",
       "<style scoped>\n",
       "    .dataframe tbody tr th:only-of-type {\n",
       "        vertical-align: middle;\n",
       "    }\n",
       "\n",
       "    .dataframe tbody tr th {\n",
       "        vertical-align: top;\n",
       "    }\n",
       "\n",
       "    .dataframe thead th {\n",
       "        text-align: right;\n",
       "    }\n",
       "</style>\n",
       "<table border=\"1\" class=\"dataframe\">\n",
       "  <thead>\n",
       "    <tr style=\"text-align: right;\">\n",
       "      <th></th>\n",
       "      <th>Date</th>\n",
       "      <th>symbol</th>\n",
       "      <th>price</th>\n",
       "    </tr>\n",
       "  </thead>\n",
       "  <tbody>\n",
       "    <tr>\n",
       "      <th>0</th>\n",
       "      <td>1995-12-25</td>\n",
       "      <td>ACC.NS</td>\n",
       "      <td>NaN</td>\n",
       "    </tr>\n",
       "    <tr>\n",
       "      <th>1</th>\n",
       "      <td>1995-12-26</td>\n",
       "      <td>ACC.NS</td>\n",
       "      <td>NaN</td>\n",
       "    </tr>\n",
       "    <tr>\n",
       "      <th>2</th>\n",
       "      <td>1995-12-27</td>\n",
       "      <td>ACC.NS</td>\n",
       "      <td>NaN</td>\n",
       "    </tr>\n",
       "    <tr>\n",
       "      <th>3</th>\n",
       "      <td>1995-12-28</td>\n",
       "      <td>ACC.NS</td>\n",
       "      <td>NaN</td>\n",
       "    </tr>\n",
       "    <tr>\n",
       "      <th>4</th>\n",
       "      <td>1995-12-29</td>\n",
       "      <td>ACC.NS</td>\n",
       "      <td>NaN</td>\n",
       "    </tr>\n",
       "  </tbody>\n",
       "</table>\n",
       "</div>"
      ],
      "text/plain": [
       "        Date  symbol  price\n",
       "0 1995-12-25  ACC.NS    NaN\n",
       "1 1995-12-26  ACC.NS    NaN\n",
       "2 1995-12-27  ACC.NS    NaN\n",
       "3 1995-12-28  ACC.NS    NaN\n",
       "4 1995-12-29  ACC.NS    NaN"
      ]
     },
     "execution_count": 25,
     "metadata": {},
     "output_type": "execute_result"
    }
   ],
   "source": [
    "df_prices = pd.melt(df, id_vars=['Date'], var_name='symbol', value_name='price')\n",
    "df_prices.head()"
   ]
  },
  {
   "cell_type": "code",
   "execution_count": 27,
   "metadata": {},
   "outputs": [
    {
     "data": {
      "text/plain": [
       "<bound method DataFrame.count of              Date      symbol       price\n",
       "1700   2002-07-01      ACC.NS  161.750000\n",
       "1701   2002-07-02      ACC.NS  160.399994\n",
       "1702   2002-07-03      ACC.NS  159.800003\n",
       "1703   2002-07-04      ACC.NS  158.000000\n",
       "1704   2002-07-05      ACC.NS  157.550003\n",
       "...           ...         ...         ...\n",
       "651295 2021-11-12  YESBANK.NS   13.150000\n",
       "651296 2021-11-15  YESBANK.NS   13.050000\n",
       "651297 2021-11-16  YESBANK.NS   13.050000\n",
       "651298 2021-11-17  YESBANK.NS   13.000000\n",
       "651299 2021-11-18  YESBANK.NS   12.850000\n",
       "\n",
       "[459842 rows x 3 columns]>"
      ]
     },
     "execution_count": 27,
     "metadata": {},
     "output_type": "execute_result"
    }
   ],
   "source": [
    "df_prices.dropna(inplace=True)\n",
    "\n",
    "count = 0\n",
    "\n",
    "for tick in tickers:\n",
    "  if df_prices[tick]"
   ]
  },
  {
   "cell_type": "code",
   "execution_count": null,
   "metadata": {},
   "outputs": [],
   "source": []
  }
 ],
 "metadata": {
  "interpreter": {
   "hash": "55d0b4ccffeb9b154e341e407456d5cea6d771368bb7675a33e5fa1472ae1b00"
  },
  "kernelspec": {
   "display_name": "Python 3.9.5 64-bit ('3.9.5': pyenv)",
   "language": "python",
   "name": "python3"
  },
  "language_info": {
   "codemirror_mode": {
    "name": "ipython",
    "version": 3
   },
   "file_extension": ".py",
   "mimetype": "text/x-python",
   "name": "python",
   "nbconvert_exporter": "python",
   "pygments_lexer": "ipython3",
   "version": "3.9.5"
  },
  "orig_nbformat": 4
 },
 "nbformat": 4,
 "nbformat_minor": 2
}
