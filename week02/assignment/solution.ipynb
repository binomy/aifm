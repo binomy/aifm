{
 "cells": [
  {
   "cell_type": "code",
   "execution_count": 6,
   "metadata": {},
   "outputs": [],
   "source": [
    "import pandas as pd\n",
    "import yfinance as yf\n",
    "\n",
    "df_nifty = pd.read_csv('../../data/Nify100_Info.csv')"
   ]
  },
  {
   "cell_type": "code",
   "execution_count": 56,
   "metadata": {},
   "outputs": [
    {
     "name": "stdout",
     "output_type": "stream",
     "text": [
      "[*********************100%***********************]  100 of 100 completed\n"
     ]
    }
   ],
   "source": [
    "tickers = list(df_nifty['symbol'])\n",
    "\n",
    "df = yf.download(tickers)['Close']"
   ]
  },
  {
   "cell_type": "code",
   "execution_count": 35,
   "metadata": {},
   "outputs": [],
   "source": [
    "df.reset_index(inplace=True)"
   ]
  },
  {
   "cell_type": "code",
   "execution_count": 40,
   "metadata": {},
   "outputs": [
    {
     "data": {
      "text/html": [
       "<div>\n",
       "<style scoped>\n",
       "    .dataframe tbody tr th:only-of-type {\n",
       "        vertical-align: middle;\n",
       "    }\n",
       "\n",
       "    .dataframe tbody tr th {\n",
       "        vertical-align: top;\n",
       "    }\n",
       "\n",
       "    .dataframe thead th {\n",
       "        text-align: right;\n",
       "    }\n",
       "</style>\n",
       "<table border=\"1\" class=\"dataframe\">\n",
       "  <thead>\n",
       "    <tr style=\"text-align: right;\">\n",
       "      <th></th>\n",
       "      <th>Date</th>\n",
       "      <th>symbol</th>\n",
       "      <th>price</th>\n",
       "    </tr>\n",
       "  </thead>\n",
       "  <tbody>\n",
       "    <tr>\n",
       "      <th>0</th>\n",
       "      <td>1995-12-25</td>\n",
       "      <td>ACC.NS</td>\n",
       "      <td>NaN</td>\n",
       "    </tr>\n",
       "    <tr>\n",
       "      <th>1</th>\n",
       "      <td>1995-12-26</td>\n",
       "      <td>ACC.NS</td>\n",
       "      <td>NaN</td>\n",
       "    </tr>\n",
       "    <tr>\n",
       "      <th>2</th>\n",
       "      <td>1995-12-27</td>\n",
       "      <td>ACC.NS</td>\n",
       "      <td>NaN</td>\n",
       "    </tr>\n",
       "    <tr>\n",
       "      <th>3</th>\n",
       "      <td>1995-12-28</td>\n",
       "      <td>ACC.NS</td>\n",
       "      <td>NaN</td>\n",
       "    </tr>\n",
       "    <tr>\n",
       "      <th>4</th>\n",
       "      <td>1995-12-29</td>\n",
       "      <td>ACC.NS</td>\n",
       "      <td>NaN</td>\n",
       "    </tr>\n",
       "  </tbody>\n",
       "</table>\n",
       "</div>"
      ],
      "text/plain": [
       "        Date  symbol  price\n",
       "0 1995-12-25  ACC.NS    NaN\n",
       "1 1995-12-26  ACC.NS    NaN\n",
       "2 1995-12-27  ACC.NS    NaN\n",
       "3 1995-12-28  ACC.NS    NaN\n",
       "4 1995-12-29  ACC.NS    NaN"
      ]
     },
     "execution_count": 40,
     "metadata": {},
     "output_type": "execute_result"
    }
   ],
   "source": [
    "df_prices = pd.melt(df, id_vars=['Date'], var_name='symbol', value_name='price')\n",
    "df_prices.head()"
   ]
  },
  {
   "cell_type": "code",
   "execution_count": 41,
   "metadata": {},
   "outputs": [],
   "source": [
    "df_prices.dropna(inplace=True)"
   ]
  },
  {
   "cell_type": "code",
   "execution_count": 53,
   "metadata": {},
   "outputs": [
    {
     "data": {
      "text/plain": [
       "min_date    18\n",
       "dtype: int64"
      ]
     },
     "execution_count": 53,
     "metadata": {},
     "output_type": "execute_result"
    }
   ],
   "source": [
    "import numpy as np\n",
    "count = 0\n",
    "df_count = df_prices.groupby(['symbol'])\n",
    "df_count = df_count.agg(min_date=('Date', np.min))\n",
    "df_count.loc[df_count['min_date'] > '2010'].count()"
   ]
  },
  {
   "cell_type": "code",
   "execution_count": 67,
   "metadata": {},
   "outputs": [
    {
     "data": {
      "text/plain": [
       "<bound method DataFrame.count of                ACC.NS  ADANIENT.NS  ADANIGREEN.NS  ADANIPORTS.NS  \\\n",
       "Date                                                               \n",
       "2020-12-31  -5.125951    20.368975      -7.374168      17.543437   \n",
       "2021-01-31  -0.853092     5.651133      -4.531631       5.364344   \n",
       "2021-02-28   8.064967    64.541604      15.419439      32.607418   \n",
       "2021-03-31   9.811335    23.690997      -4.741993       3.920698   \n",
       "2021-04-30  -1.077105    12.369677      -7.774808       3.936498   \n",
       "2021-05-31   5.486658    13.601459      24.461449       5.410588   \n",
       "2021-06-30   1.447597    14.529362     -11.299474      -8.556946   \n",
       "2021-07-31  18.825692    -5.790856     -21.566364      -4.149497   \n",
       "2021-08-31   0.797788    11.783135      21.086931      10.941436   \n",
       "2021-09-30  -6.576328    -7.527085       7.324379      -1.389812   \n",
       "2021-10-31   3.499663    -3.031129       0.545090      -6.084838   \n",
       "2021-11-30   4.589873    18.625318      16.732448       4.769118   \n",
       "\n",
       "            ADANITRANS.NS  AMBUJACEM.NS  APOLLOHOSP.NS  ASIANPAINT.NS  \\\n",
       "Date                                                                    \n",
       "2020-12-31      16.263623     -4.673427       2.764179      24.791222   \n",
       "2021-01-31       5.177141     -2.210167       6.152601     -12.919150   \n",
       "2021-02-28      62.990331     12.389560      19.420201      -5.406366   \n",
       "2021-03-31      21.120003     12.925048      -5.100290      11.426311   \n",
       "2021-04-30      15.576838      0.064750      10.157963      -0.039410   \n",
       "2021-05-31      40.356219      5.743407      -0.899140      17.390795   \n",
       "2021-06-30     -28.104644      4.238068      14.235901       0.510494   \n",
       "2021-07-31     -15.668502     20.695729      11.468704      -1.144452   \n",
       "2021-08-31      76.909727      2.407879      23.161086       8.210386   \n",
       "2021-09-30      -1.398202     -4.951900      -9.818791       1.352548   \n",
       "2021-10-31      13.403916      1.149419      -4.898926      -4.455020   \n",
       "2021-11-30       8.255065     -0.975786      31.124702       4.088578   \n",
       "\n",
       "            AUROPHARMA.NS  AXISBANK.NS  ...  TATASTEEL.NS     TCS.NS  \\\n",
       "Date                                    ...                            \n",
       "2020-12-31       6.073341     3.133317  ...     11.483511   6.832986   \n",
       "2021-01-31      -1.742102     6.841810  ...     -6.626276   8.683961   \n",
       "2021-02-28      -5.528858     9.337752  ...     18.993348  -6.976073   \n",
       "2021-03-31       3.051915    -3.773451  ...     13.521632   9.796844   \n",
       "2021-04-30      11.295812     2.501973  ...     27.363433  -4.474729   \n",
       "2021-05-31       1.743390     5.007692  ...      8.863639   4.068322   \n",
       "2021-06-30      -3.281728    -0.319705  ...      3.637894   5.906655   \n",
       "2021-07-31      -5.035230    -5.265263  ...     22.947032  -5.329150   \n",
       "2021-08-31     -20.652410    10.946533  ...      1.112037  19.542535   \n",
       "2021-09-30      -0.343737    -2.536556  ...    -11.125666  -0.287866   \n",
       "2021-10-31      -4.891006    -3.202660  ...      2.098683 -10.006490   \n",
       "2021-11-30      -7.224195    -4.804586  ...     -9.829399   2.294164   \n",
       "\n",
       "             TECHM.NS   TITAN.NS  TORNTPHARM.NS  ULTRACEMCO.NS     UPL.NS  \\\n",
       "Date                                                                        \n",
       "2020-12-31  10.988201  15.130038       7.173716      10.123905  11.647113   \n",
       "2021-01-31  -1.212494  -9.370512      -6.941523       0.739391  20.220868   \n",
       "2021-02-28  -4.425842  -0.943464      -6.899525      14.787179   0.160521   \n",
       "2021-03-31   7.901185  10.743480       4.812211      10.187248  14.299704   \n",
       "2021-04-30  -3.131775  -4.261739      -1.406654      -6.812161  -5.445190   \n",
       "2021-05-31   6.377551   7.012367       9.249780       6.833146  34.305477   \n",
       "2021-06-30   7.223602   8.535630       5.845660       1.013715  -2.729726   \n",
       "2021-07-31  10.415820  -1.036072       5.841604      12.443923   1.980200   \n",
       "2021-08-31  19.685004  12.076050       1.133138       2.798850  -8.323541   \n",
       "2021-09-30  -4.631648  12.502609      -0.656811      -5.571055  -4.526137   \n",
       "2021-10-31   7.044039  10.255103      -7.295417       3.244273   4.592341   \n",
       "2021-11-30   6.083163   3.970963      -2.415741       1.724064   0.168873   \n",
       "\n",
       "              VEDL.NS   WIPRO.NS  YESBANK.NS  \n",
       "Date                                          \n",
       "2020-12-31  33.664591  10.199715   21.428576  \n",
       "2021-01-31  -0.092933   8.194173  -11.764708  \n",
       "2021-02-28  28.558141  -1.818618    0.000000  \n",
       "2021-03-31  10.347321   0.938339   -0.952379  \n",
       "2021-04-30  12.459016  18.978633   -6.730770  \n",
       "2021-05-31   6.588926   9.396243   -7.216496  \n",
       "2021-06-30  -4.139316   1.224383    0.370372  \n",
       "2021-07-31  14.837359   7.605608   -5.904060  \n",
       "2021-08-31   0.314720   9.162903  -15.294116  \n",
       "2021-09-30  -5.003301  -1.068732   16.203703  \n",
       "2021-10-31   5.683993   1.994957    1.992032  \n",
       "2021-11-30   1.825654   0.726712    0.390626  \n",
       "\n",
       "[12 rows x 100 columns]>"
      ]
     },
     "execution_count": 67,
     "metadata": {},
     "output_type": "execute_result"
    }
   ],
   "source": [
    "df_monthly_returns = df.resample('M').ffill().pct_change().copy()\n",
    "df_monthly_returns.dropna(inplace=True)\n",
    "df_monthly_returns = df_monthly_returns*100\n",
    "df_monthly_returns.count"
   ]
  },
  {
   "cell_type": "code",
   "execution_count": 69,
   "metadata": {},
   "outputs": [
    {
     "name": "stdout",
     "output_type": "stream",
     "text": [
      "               ACC.NS  ADANIENT.NS  ADANIGREEN.NS  ADANIPORTS.NS  \\\n",
      "Date                                                               \n",
      "2021-03-31  17.655239   115.024513       4.963899      45.198971   \n",
      "2021-06-30   5.861030    46.200845       1.814730       0.185078   \n",
      "2021-09-30  11.896960    -2.616833       1.929056       4.860027   \n",
      "2021-12-31   8.250166    15.029632      17.368745      -1.605914   \n",
      "\n",
      "            ADANITRANS.NS  AMBUJACEM.NS  APOLLOHOSP.NS  ASIANPAINT.NS  \\\n",
      "Date                                                                    \n",
      "2021-03-31     107.634291     24.110910      20.302132      -8.214871   \n",
      "2021-06-30      16.628129     10.296256      24.708464      17.943567   \n",
      "2021-09-30      47.104637     17.481291      23.806234       8.418818   \n",
      "2021-12-31      22.765483      0.162417      24.700999      -0.548589   \n",
      "\n",
      "            AUROPHARMA.NS  AXISBANK.NS  ...  TATASTEEL.NS     TCS.NS  \\\n",
      "Date                                    ...                            \n",
      "2021-03-31      -4.341691    12.410347  ...     26.132206  11.006902   \n",
      "2021-06-30       9.520030     7.290842  ...     43.696497   5.283443   \n",
      "2021-09-30     -24.906757     2.438861  ...     10.483461  12.846150   \n",
      "2021-12-31     -11.761866    -7.853371  ...     -7.937004  -7.941892   \n",
      "\n",
      "             TECHM.NS   TITAN.NS  TORNTPHARM.NS  ULTRACEMCO.NS     UPL.NS  \\\n",
      "Date                                                                        \n",
      "2021-03-31   1.875257  -0.580670      -9.192918      27.416021  37.632672   \n",
      "2021-06-30  10.489681  11.196685      14.009550       0.564709  23.525747   \n",
      "2021-09-30  26.030402  24.782112       6.337879       9.151418 -10.739732   \n",
      "2021-12-31  13.555702  14.633293      -9.534920       5.024271   4.768970   \n",
      "\n",
      "              VEDL.NS   WIPRO.NS  YESBANK.NS  \n",
      "Date                                          \n",
      "2021-03-31  41.728630   7.223299  -12.605042  \n",
      "2021-06-30  14.907106  31.751789  -13.141027  \n",
      "2021-09-30   9.435034  16.210015   -7.380074  \n",
      "2021-12-31   7.613417   2.736167    2.390440  \n",
      "\n",
      "[4 rows x 100 columns]\n"
     ]
    }
   ],
   "source": [
    "df_quarterly_returns = df.resample('Q').ffill().pct_change().copy()\n",
    "df_quarterly_returns.dropna(inplace=True)\n",
    "df_quarterly_returns = df_quarterly_returns*100\n",
    "print(df_quarterly_returns)"
   ]
  },
  {
   "cell_type": "code",
   "execution_count": null,
   "metadata": {},
   "outputs": [],
   "source": []
  }
 ],
 "metadata": {
  "interpreter": {
   "hash": "55d0b4ccffeb9b154e341e407456d5cea6d771368bb7675a33e5fa1472ae1b00"
  },
  "kernelspec": {
   "display_name": "Python 3.9.5 64-bit ('3.9.5': pyenv)",
   "language": "python",
   "name": "python3"
  },
  "language_info": {
   "codemirror_mode": {
    "name": "ipython",
    "version": 3
   },
   "file_extension": ".py",
   "mimetype": "text/x-python",
   "name": "python",
   "nbconvert_exporter": "python",
   "pygments_lexer": "ipython3",
   "version": "3.9.5"
  },
  "orig_nbformat": 4
 },
 "nbformat": 4,
 "nbformat_minor": 2
}
