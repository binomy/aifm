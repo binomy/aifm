{
  "cells": [
    {
      "cell_type": "markdown",
      "metadata": {
        "id": "3IvUguIsB5LF"
      },
      "source": [
        "# Import required modules"
      ]
    },
    {
      "cell_type": "code",
      "execution_count": 1,
      "metadata": {
        "id": "93zagLQdBq3v"
      },
      "outputs": [],
      "source": [
        "import pandas as pd\n",
        "import pulp"
      ]
    },
    {
      "cell_type": "markdown",
      "metadata": {
        "id": "dQXuqDsyB-YU"
      },
      "source": [
        "# 1) Problem Statement"
      ]
    },
    {
      "cell_type": "code",
      "execution_count": 2,
      "metadata": {
        "colab": {
          "base_uri": "https://localhost:8080/",
          "height": 206
        },
        "id": "ceQ1obcRB9WT",
        "outputId": "fe1375e4-1a60-4659-b043-cc2a61df7941"
      },
      "outputs": [
        {
          "data": {
            "text/html": [
              "<div>\n",
              "<style scoped>\n",
              "    .dataframe tbody tr th:only-of-type {\n",
              "        vertical-align: middle;\n",
              "    }\n",
              "\n",
              "    .dataframe tbody tr th {\n",
              "        vertical-align: top;\n",
              "    }\n",
              "\n",
              "    .dataframe thead th {\n",
              "        text-align: right;\n",
              "    }\n",
              "</style>\n",
              "<table border=\"1\" class=\"dataframe\">\n",
              "  <thead>\n",
              "    <tr style=\"text-align: right;\">\n",
              "      <th></th>\n",
              "      <th>Type</th>\n",
              "      <th>Annual_Growth</th>\n",
              "      <th>Probability_Loss</th>\n",
              "      <th>Probability_Success</th>\n",
              "    </tr>\n",
              "  </thead>\n",
              "  <tbody>\n",
              "    <tr>\n",
              "      <th>2</th>\n",
              "      <td>Balanced</td>\n",
              "      <td>0.11</td>\n",
              "      <td>0.09</td>\n",
              "      <td>0.91</td>\n",
              "    </tr>\n",
              "    <tr>\n",
              "      <th>4</th>\n",
              "      <td>Bond</td>\n",
              "      <td>0.08</td>\n",
              "      <td>0.03</td>\n",
              "      <td>0.97</td>\n",
              "    </tr>\n",
              "    <tr>\n",
              "      <th>0</th>\n",
              "      <td>Equity</td>\n",
              "      <td>0.15</td>\n",
              "      <td>0.18</td>\n",
              "      <td>0.82</td>\n",
              "    </tr>\n",
              "    <tr>\n",
              "      <th>3</th>\n",
              "      <td>Foreign</td>\n",
              "      <td>0.19</td>\n",
              "      <td>0.19</td>\n",
              "      <td>0.81</td>\n",
              "    </tr>\n",
              "    <tr>\n",
              "      <th>1</th>\n",
              "      <td>SpecialEquity</td>\n",
              "      <td>0.21</td>\n",
              "      <td>0.31</td>\n",
              "      <td>0.69</td>\n",
              "    </tr>\n",
              "  </tbody>\n",
              "</table>\n",
              "</div>"
            ],
            "text/plain": [
              "            Type  Annual_Growth  Probability_Loss  Probability_Success\n",
              "2       Balanced           0.11              0.09                 0.91\n",
              "4           Bond           0.08              0.03                 0.97\n",
              "0         Equity           0.15              0.18                 0.82\n",
              "3        Foreign           0.19              0.19                 0.81\n",
              "1  SpecialEquity           0.21              0.31                 0.69"
            ]
          },
          "execution_count": 2,
          "metadata": {},
          "output_type": "execute_result"
        }
      ],
      "source": [
        "investment_options = pd.DataFrame({'Type':['Equity','SpecialEquity','Balanced','Foreign','Bond'],\n",
        "                                   'Annual_Growth':[0.15,0.21,0.11,0.19,0.08],\n",
        "                                   'Probability_Loss':[0.18,0.31,0.09,0.19,0.03]})\n",
        "investment_options['Probability_Success'] = 1 - investment_options['Probability_Loss']\n",
        "investment_options.sort_values('Type',inplace=True)\n",
        "investment_options"
      ]
    },
    {
      "cell_type": "markdown",
      "metadata": {
        "id": "YVzPEI0zCHPC"
      },
      "source": [
        "# 2) Variable names required for solver"
      ]
    },
    {
      "cell_type": "code",
      "execution_count": 5,
      "metadata": {
        "colab": {
          "base_uri": "https://localhost:8080/",
          "height": 206
        },
        "id": "VRK87k8sCDXS",
        "outputId": "57e28f85-fafe-4b1a-e744-1d35498f5539"
      },
      "outputs": [
        {
          "name": "stdout",
          "output_type": "stream",
          "text": [
            "<class 'pandas.core.frame.DataFrame'>\n",
            "Int64Index: 5 entries, 2 to 1\n",
            "Data columns (total 5 columns):\n",
            " #   Column               Non-Null Count  Dtype  \n",
            "---  ------               --------------  -----  \n",
            " 0   Type                 5 non-null      object \n",
            " 1   Annual_Growth        5 non-null      float64\n",
            " 2   Probability_Loss     5 non-null      float64\n",
            " 3   Probability_Success  5 non-null      float64\n",
            " 4   var_name             5 non-null      object \n",
            "dtypes: float64(3), object(2)\n",
            "memory usage: 240.0+ bytes\n"
          ]
        }
      ],
      "source": [
        "per_ast_lower_bound = 0\n",
        "var_names = []\n",
        "for var in investment_options['Type']:\n",
        "    var_names.append(pulp.LpVariable(var, lowBound=per_ast_lower_bound))\n",
        "investment_options['var_name'] = var_names\n",
        "investment_options.info()"
      ]
    },
    {
      "cell_type": "markdown",
      "metadata": {
        "id": "dqI7BIhKCPa2"
      },
      "source": [
        "# 3) Initializing the solver"
      ]
    },
    {
      "cell_type": "code",
      "execution_count": 3,
      "metadata": {
        "colab": {
          "base_uri": "https://localhost:8080/"
        },
        "id": "8jHagJYgCOMU",
        "outputId": "9d55e5f9-3d93-461e-d2aa-81dcca7dc986"
      },
      "outputs": [
        {
          "data": {
            "text/plain": [
              "Maximizing_the_portfolio_returns:\n",
              "MAXIMIZE\n",
              "None\n",
              "VARIABLES"
            ]
          },
          "execution_count": 3,
          "metadata": {},
          "output_type": "execute_result"
        }
      ],
      "source": [
        "maximize_rets = pulp.LpProblem(\"Maximizing_the_portfolio_returns\", pulp.LpMaximize)\n",
        "maximize_rets"
      ]
    },
    {
      "cell_type": "markdown",
      "metadata": {
        "id": "OjRvgxXQCWdl"
      },
      "source": [
        "# 4) Creating objective function"
      ]
    },
    {
      "cell_type": "code",
      "execution_count": 6,
      "metadata": {
        "colab": {
          "base_uri": "https://localhost:8080/"
        },
        "id": "XuToH402CVCl",
        "outputId": "8d8eae83-592f-4dff-9a5a-78a7ce52bcb1"
      },
      "outputs": [
        {
          "data": {
            "text/plain": [
              "Maximizing_the_portfolio_returns:\n",
              "MAXIMIZE\n",
              "0.10010000000000001*Balanced + 0.0776*Bond + 0.123*Equity + 0.1539*Foreign + 0.14489999999999997*SpecialEquity + 0.0\n",
              "VARIABLES\n",
              "Balanced Continuous\n",
              "Bond Continuous\n",
              "Equity Continuous\n",
              "Foreign Continuous\n",
              "SpecialEquity Continuous"
            ]
          },
          "execution_count": 6,
          "metadata": {},
          "output_type": "execute_result"
        }
      ],
      "source": [
        "investment_options['objective_function'] = investment_options['var_name'] * (investment_options['Annual_Growth'] * investment_options['Probability_Success'])\n",
        "portfolio_rets_eq = list(investment_options['objective_function'])\n",
        "maximize_rets += pulp.lpSum([i for i in portfolio_rets_eq]) ,'Objective_(Portfolio_PL)'\n",
        "maximize_rets"
      ]
    },
    {
      "cell_type": "markdown",
      "metadata": {
        "id": "BhaEMaXOCf6z"
      },
      "source": [
        "# 5) Adding Constraints"
      ]
    },
    {
      "cell_type": "markdown",
      "metadata": {
        "id": "mcnN5u-SCkVl"
      },
      "source": [
        "## Sum of all weights to be equal to 1"
      ]
    },
    {
      "cell_type": "code",
      "execution_count": 7,
      "metadata": {
        "colab": {
          "base_uri": "https://localhost:8080/"
        },
        "id": "pCtkN_4XCe-R",
        "outputId": "85847e77-7394-4e15-b8c9-57fba534c299"
      },
      "outputs": [
        {
          "data": {
            "text/plain": [
              "Maximizing_the_portfolio_returns:\n",
              "MAXIMIZE\n",
              "0.10010000000000001*Balanced + 0.0776*Bond + 0.123*Equity + 0.1539*Foreign + 0.14489999999999997*SpecialEquity + 0.0\n",
              "SUBJECT TO\n",
              "Sum_of_wts_=_1: Balanced + Bond + Equity + Foreign + SpecialEquity = 1\n",
              "\n",
              "VARIABLES\n",
              "Balanced Continuous\n",
              "Bond Continuous\n",
              "Equity Continuous\n",
              "Foreign Continuous\n",
              "SpecialEquity Continuous"
            ]
          },
          "execution_count": 7,
          "metadata": {},
          "output_type": "execute_result"
        }
      ],
      "source": [
        "sum_of_wts = list(investment_options['var_name'])\n",
        "maximize_rets += pulp.lpSum([i for i in sum_of_wts]) == 1 ,'Sum_of_wts_=_1'\n",
        "maximize_rets"
      ]
    },
    {
      "cell_type": "markdown",
      "metadata": {
        "id": "EGuMWWmYCql3"
      },
      "source": [
        "## (Bonds + Balanced) >= 35%"
      ]
    },
    {
      "cell_type": "code",
      "execution_count": null,
      "metadata": {
        "colab": {
          "base_uri": "https://localhost:8080/"
        },
        "id": "_DZYIOWkCpAA",
        "outputId": "b3307aa6-1f1e-4c23-dec4-e6c01aad7baf"
      },
      "outputs": [
        {
          "data": {
            "text/plain": [
              "Maximizing_the_portfolio_returns:\n",
              "MAXIMIZE\n",
              "0.10010000000000001*Balanced + 0.0776*Bond + 0.123*Equity + 0.1539*Foreign + 0.14489999999999997*SpecialEquity + 0.0\n",
              "SUBJECT TO\n",
              "Sum_of_wts_=_1: Balanced + Bond + Equity + Foreign + SpecialEquity = 1\n",
              "\n",
              "sum(Bnd,Bal)>=35%: Balanced + Bond >= 0.35\n",
              "\n",
              "VARIABLES\n",
              "Balanced Continuous\n",
              "Bond Continuous\n",
              "Equity Continuous\n",
              "Foreign Continuous\n",
              "SpecialEquity Continuous"
            ]
          },
          "execution_count": 8,
          "metadata": {},
          "output_type": "execute_result"
        }
      ],
      "source": [
        "balanced_var = investment_options.loc[investment_options['Type']=='Balanced','var_name']\n",
        "bond_var = investment_options.loc[investment_options['Type']=='Bond','var_name']\n",
        "maximize_rets += pulp.lpSum([balanced_var,bond_var])>= 0.35, 'sum(Bnd,Bal)>=35%'\n",
        "maximize_rets"
      ]
    },
    {
      "cell_type": "markdown",
      "metadata": {
        "id": "VApqSR1-C0Vj"
      },
      "source": [
        "## Equity >= 0.5 * (Equity + Special Equity + Foreign)"
      ]
    },
    {
      "cell_type": "code",
      "execution_count": null,
      "metadata": {
        "colab": {
          "base_uri": "https://localhost:8080/"
        },
        "id": "vNLUsq7uCxCO",
        "outputId": "c23b00a4-0867-4e45-9956-0657b9d655d5"
      },
      "outputs": [
        {
          "data": {
            "text/plain": [
              "Maximizing_the_portfolio_returns:\n",
              "MAXIMIZE\n",
              "0.10010000000000001*Balanced + 0.0776*Bond + 0.123*Equity + 0.1539*Foreign + 0.14489999999999997*SpecialEquity + 0.0\n",
              "SUBJECT TO\n",
              "Sum_of_wts_=_1: Balanced + Bond + Equity + Foreign + SpecialEquity = 1\n",
              "\n",
              "sum(Bnd,Bal)>=35%: Balanced + Bond >= 0.35\n",
              "\n",
              "Eq>=sum(SpEq,For): Equity - Foreign - SpecialEquity >= 0\n",
              "\n",
              "VARIABLES\n",
              "Balanced Continuous\n",
              "Bond Continuous\n",
              "Equity Continuous\n",
              "Foreign Continuous\n",
              "SpecialEquity Continuous"
            ]
          },
          "execution_count": 9,
          "metadata": {},
          "output_type": "execute_result"
        }
      ],
      "source": [
        "equity_var = investment_options.loc[investment_options['Type']=='Equity','var_name']\n",
        "special_eq_var = investment_options.loc[investment_options['Type']=='SpecialEquity','var_name']\n",
        "foreign_var = investment_options.loc[investment_options['Type']=='Foreign','var_name']\n",
        "maximize_rets += pulp.lpSum([equity_var,- special_eq_var,- foreign_var]) >= 0, 'Eq>=sum(SpEq,For)'\n",
        "maximize_rets"
      ]
    },
    {
      "cell_type": "markdown",
      "metadata": {
        "id": "EhY1yNnLDCPI"
      },
      "source": [
        "## Expected loss percentage to be under 10%"
      ]
    },
    {
      "cell_type": "code",
      "execution_count": null,
      "metadata": {
        "colab": {
          "base_uri": "https://localhost:8080/"
        },
        "id": "URdolYPJC_KX",
        "outputId": "aca3563c-d1e3-4f08-8205-322160eca255"
      },
      "outputs": [
        {
          "data": {
            "text/plain": [
              "Maximizing_the_portfolio_returns:\n",
              "MAXIMIZE\n",
              "0.10010000000000001*Balanced + 0.0776*Bond + 0.123*Equity + 0.1539*Foreign + 0.14489999999999997*SpecialEquity + 0.0\n",
              "SUBJECT TO\n",
              "Sum_of_wts_=_1: Balanced + Bond + Equity + Foreign + SpecialEquity = 1\n",
              "\n",
              "sum(Bnd,Bal)>=35%: Balanced + Bond >= 0.35\n",
              "\n",
              "Eq>=sum(SpEq,For): Equity - Foreign - SpecialEquity >= 0\n",
              "\n",
              "Expected_Loss<=10%: 0.09 Balanced + 0.03 Bond + 0.18 Equity + 0.19 Foreign\n",
              " + 0.31 SpecialEquity <= 0.1\n",
              "\n",
              "VARIABLES\n",
              "Balanced Continuous\n",
              "Bond Continuous\n",
              "Equity Continuous\n",
              "Foreign Continuous\n",
              "SpecialEquity Continuous"
            ]
          },
          "execution_count": 10,
          "metadata": {},
          "output_type": "execute_result"
        }
      ],
      "source": [
        "expected_loss = list(investment_options['var_name'] * investment_options['Probability_Loss'])\n",
        "maximize_rets += pulp.lpSum([i for i in expected_loss]) <= 0.1 ,'Expected_Loss<=10%'\n",
        "maximize_rets"
      ]
    },
    {
      "cell_type": "markdown",
      "metadata": {
        "id": "EoV1z4MiDSAM"
      },
      "source": [
        "# 6) Run the solver"
      ]
    },
    {
      "cell_type": "code",
      "execution_count": null,
      "metadata": {
        "colab": {
          "base_uri": "https://localhost:8080/"
        },
        "id": "wpHynScvDP-n",
        "outputId": "29e32781-ca00-4c4f-f639-d161e3c8d477"
      },
      "outputs": [
        {
          "name": "stdout",
          "output_type": "stream",
          "text": [
            "Solver Status:  Optimal\n",
            "The optimized solution : 0.105080644965\n"
          ]
        }
      ],
      "source": [
        "maximize_rets.solve()\n",
        "print('Solver Status: ',pulp.LpStatus[maximize_rets.status])\n",
        "print(\"The optimized solution :\", pulp.value(maximize_rets.objective))"
      ]
    },
    {
      "cell_type": "markdown",
      "metadata": {
        "id": "pkKu_6YhDZnS"
      },
      "source": [
        "# 7) Get the final weights"
      ]
    },
    {
      "cell_type": "code",
      "execution_count": null,
      "metadata": {
        "colab": {
          "base_uri": "https://localhost:8080/",
          "height": 293
        },
        "id": "44qd0XhIDWjT",
        "outputId": "bc042884-cbce-4aec-bc97-87a41c998b2f"
      },
      "outputs": [
        {
          "name": "stdout",
          "output_type": "stream",
          "text": [
            "Balanced 0.0\n",
            "Bond 0.5483871\n",
            "Equity 0.22580645\n",
            "Foreign 0.22580645\n",
            "SpecialEquity 0.0\n"
          ]
        },
        {
          "data": {
            "text/html": [
              "\n",
              "  <div id=\"df-e82f238c-c6fb-4266-8b03-480c90c90034\">\n",
              "    <div class=\"colab-df-container\">\n",
              "      <div>\n",
              "<style scoped>\n",
              "    .dataframe tbody tr th:only-of-type {\n",
              "        vertical-align: middle;\n",
              "    }\n",
              "\n",
              "    .dataframe tbody tr th {\n",
              "        vertical-align: top;\n",
              "    }\n",
              "\n",
              "    .dataframe thead th {\n",
              "        text-align: right;\n",
              "    }\n",
              "</style>\n",
              "<table border=\"1\" class=\"dataframe\">\n",
              "  <thead>\n",
              "    <tr style=\"text-align: right;\">\n",
              "      <th></th>\n",
              "      <th>Type</th>\n",
              "      <th>Annual_Growth</th>\n",
              "      <th>Probability_Loss</th>\n",
              "      <th>Probability_Success</th>\n",
              "      <th>var_name</th>\n",
              "      <th>objective_function</th>\n",
              "      <th>final_wts</th>\n",
              "    </tr>\n",
              "  </thead>\n",
              "  <tbody>\n",
              "    <tr>\n",
              "      <th>2</th>\n",
              "      <td>Balanced</td>\n",
              "      <td>0.11</td>\n",
              "      <td>0.09</td>\n",
              "      <td>0.91</td>\n",
              "      <td>Balanced</td>\n",
              "      <td>{Balanced: 0.10010000000000001}</td>\n",
              "      <td>0.000000</td>\n",
              "    </tr>\n",
              "    <tr>\n",
              "      <th>4</th>\n",
              "      <td>Bond</td>\n",
              "      <td>0.08</td>\n",
              "      <td>0.03</td>\n",
              "      <td>0.97</td>\n",
              "      <td>Bond</td>\n",
              "      <td>{Bond: 0.0776}</td>\n",
              "      <td>0.548387</td>\n",
              "    </tr>\n",
              "    <tr>\n",
              "      <th>0</th>\n",
              "      <td>Equity</td>\n",
              "      <td>0.15</td>\n",
              "      <td>0.18</td>\n",
              "      <td>0.82</td>\n",
              "      <td>Equity</td>\n",
              "      <td>{Equity: 0.123}</td>\n",
              "      <td>0.225806</td>\n",
              "    </tr>\n",
              "    <tr>\n",
              "      <th>3</th>\n",
              "      <td>Foreign</td>\n",
              "      <td>0.19</td>\n",
              "      <td>0.19</td>\n",
              "      <td>0.81</td>\n",
              "      <td>Foreign</td>\n",
              "      <td>{Foreign: 0.1539}</td>\n",
              "      <td>0.225806</td>\n",
              "    </tr>\n",
              "    <tr>\n",
              "      <th>1</th>\n",
              "      <td>SpecialEquity</td>\n",
              "      <td>0.21</td>\n",
              "      <td>0.31</td>\n",
              "      <td>0.69</td>\n",
              "      <td>SpecialEquity</td>\n",
              "      <td>{SpecialEquity: 0.14489999999999997}</td>\n",
              "      <td>0.000000</td>\n",
              "    </tr>\n",
              "  </tbody>\n",
              "</table>\n",
              "</div>\n",
              "      <button class=\"colab-df-convert\" onclick=\"convertToInteractive('df-e82f238c-c6fb-4266-8b03-480c90c90034')\"\n",
              "              title=\"Convert this dataframe to an interactive table.\"\n",
              "              style=\"display:none;\">\n",
              "        \n",
              "  <svg xmlns=\"http://www.w3.org/2000/svg\" height=\"24px\"viewBox=\"0 0 24 24\"\n",
              "       width=\"24px\">\n",
              "    <path d=\"M0 0h24v24H0V0z\" fill=\"none\"/>\n",
              "    <path d=\"M18.56 5.44l.94 2.06.94-2.06 2.06-.94-2.06-.94-.94-2.06-.94 2.06-2.06.94zm-11 1L8.5 8.5l.94-2.06 2.06-.94-2.06-.94L8.5 2.5l-.94 2.06-2.06.94zm10 10l.94 2.06.94-2.06 2.06-.94-2.06-.94-.94-2.06-.94 2.06-2.06.94z\"/><path d=\"M17.41 7.96l-1.37-1.37c-.4-.4-.92-.59-1.43-.59-.52 0-1.04.2-1.43.59L10.3 9.45l-7.72 7.72c-.78.78-.78 2.05 0 2.83L4 21.41c.39.39.9.59 1.41.59.51 0 1.02-.2 1.41-.59l7.78-7.78 2.81-2.81c.8-.78.8-2.07 0-2.86zM5.41 20L4 18.59l7.72-7.72 1.47 1.35L5.41 20z\"/>\n",
              "  </svg>\n",
              "      </button>\n",
              "      \n",
              "  <style>\n",
              "    .colab-df-container {\n",
              "      display:flex;\n",
              "      flex-wrap:wrap;\n",
              "      gap: 12px;\n",
              "    }\n",
              "\n",
              "    .colab-df-convert {\n",
              "      background-color: #E8F0FE;\n",
              "      border: none;\n",
              "      border-radius: 50%;\n",
              "      cursor: pointer;\n",
              "      display: none;\n",
              "      fill: #1967D2;\n",
              "      height: 32px;\n",
              "      padding: 0 0 0 0;\n",
              "      width: 32px;\n",
              "    }\n",
              "\n",
              "    .colab-df-convert:hover {\n",
              "      background-color: #E2EBFA;\n",
              "      box-shadow: 0px 1px 2px rgba(60, 64, 67, 0.3), 0px 1px 3px 1px rgba(60, 64, 67, 0.15);\n",
              "      fill: #174EA6;\n",
              "    }\n",
              "\n",
              "    [theme=dark] .colab-df-convert {\n",
              "      background-color: #3B4455;\n",
              "      fill: #D2E3FC;\n",
              "    }\n",
              "\n",
              "    [theme=dark] .colab-df-convert:hover {\n",
              "      background-color: #434B5C;\n",
              "      box-shadow: 0px 1px 3px 1px rgba(0, 0, 0, 0.15);\n",
              "      filter: drop-shadow(0px 1px 2px rgba(0, 0, 0, 0.3));\n",
              "      fill: #FFFFFF;\n",
              "    }\n",
              "  </style>\n",
              "\n",
              "      <script>\n",
              "        const buttonEl =\n",
              "          document.querySelector('#df-e82f238c-c6fb-4266-8b03-480c90c90034 button.colab-df-convert');\n",
              "        buttonEl.style.display =\n",
              "          google.colab.kernel.accessAllowed ? 'block' : 'none';\n",
              "\n",
              "        async function convertToInteractive(key) {\n",
              "          const element = document.querySelector('#df-e82f238c-c6fb-4266-8b03-480c90c90034');\n",
              "          const dataTable =\n",
              "            await google.colab.kernel.invokeFunction('convertToInteractive',\n",
              "                                                     [key], {});\n",
              "          if (!dataTable) return;\n",
              "\n",
              "          const docLinkHtml = 'Like what you see? Visit the ' +\n",
              "            '<a target=\"_blank\" href=https://colab.research.google.com/notebooks/data_table.ipynb>data table notebook</a>'\n",
              "            + ' to learn more about interactive tables.';\n",
              "          element.innerHTML = '';\n",
              "          dataTable['output_type'] = 'display_data';\n",
              "          await google.colab.output.renderOutput(dataTable, element);\n",
              "          const docLink = document.createElement('div');\n",
              "          docLink.innerHTML = docLinkHtml;\n",
              "          element.appendChild(docLink);\n",
              "        }\n",
              "      </script>\n",
              "    </div>\n",
              "  </div>\n",
              "  "
            ],
            "text/plain": [
              "            Type  ...  final_wts\n",
              "2       Balanced  ...   0.000000\n",
              "4           Bond  ...   0.548387\n",
              "0         Equity  ...   0.225806\n",
              "3        Foreign  ...   0.225806\n",
              "1  SpecialEquity  ...   0.000000\n",
              "\n",
              "[5 rows x 7 columns]"
            ]
          },
          "execution_count": 12,
          "metadata": {},
          "output_type": "execute_result"
        }
      ],
      "source": [
        "final_wts = []\n",
        "for variable in maximize_rets.variables():\n",
        "    final_wts.append(variable.varValue)\n",
        "    #print(variable.name, variable.varValue)\n",
        "investment_options['final_wts'] = final_wts\n",
        "investment_options"
      ]
    },
    {
      "cell_type": "markdown",
      "metadata": {
        "id": "tNFLswzsDgGR"
      },
      "source": [
        "# 8) Sense check"
      ]
    },
    {
      "cell_type": "code",
      "execution_count": null,
      "metadata": {
        "colab": {
          "base_uri": "https://localhost:8080/"
        },
        "id": "x1Eqg53eEa0U",
        "outputId": "eaf7f2be-aad4-424a-8ba7-0010fbe71de2"
      },
      "outputs": [
        {
          "name": "stdout",
          "output_type": "stream",
          "text": [
            "Sum of all wts:  1.0\n"
          ]
        }
      ],
      "source": [
        "sum_of_all_wts = investment_options['final_wts'].sum()\n",
        "print('Sum of all wts: ',sum_of_all_wts)"
      ]
    },
    {
      "cell_type": "code",
      "execution_count": null,
      "metadata": {
        "id": "VT1iAQx0EpyJ"
      },
      "outputs": [],
      "source": [
        "# (Balanced + Bond) > 0.35"
      ]
    },
    {
      "cell_type": "code",
      "execution_count": null,
      "metadata": {
        "id": "hzsZCze0E87t"
      },
      "outputs": [],
      "source": [
        "# (EQ>= 0.5 * (Eq+Sp_Eq+Foreign))"
      ]
    },
    {
      "cell_type": "code",
      "execution_count": null,
      "metadata": {
        "colab": {
          "base_uri": "https://localhost:8080/"
        },
        "id": "8M38md16DfBt",
        "outputId": "5f9fd6f8-b71a-4764-fa80-b0c2001b45ac"
      },
      "outputs": [
        {
          "name": "stdout",
          "output_type": "stream",
          "text": [
            "Probability of loss:  0.09999999949999999\n"
          ]
        }
      ],
      "source": [
        "prob_loss = (investment_options['final_wts'] * investment_options['Probability_Loss']).sum()\n",
        "print('Probability of loss: ',prob_loss)"
      ]
    },
    {
      "cell_type": "code",
      "execution_count": null,
      "metadata": {
        "id": "4UIuStOmDke8"
      },
      "outputs": [],
      "source": []
    }
  ],
  "metadata": {
    "colab": {
      "collapsed_sections": [],
      "name": "20220205_AIFM_C1_Day15_Sample_LinearOptimization.ipynb",
      "provenance": [],
      "toc_visible": true
    },
    "kernelspec": {
      "display_name": "Python 3",
      "name": "python3"
    },
    "language_info": {
      "codemirror_mode": {
        "name": "ipython",
        "version": 3
      },
      "file_extension": ".py",
      "mimetype": "text/x-python",
      "name": "python",
      "nbconvert_exporter": "python",
      "pygments_lexer": "ipython3",
      "version": "3.8.12"
    }
  },
  "nbformat": 4,
  "nbformat_minor": 0
}
