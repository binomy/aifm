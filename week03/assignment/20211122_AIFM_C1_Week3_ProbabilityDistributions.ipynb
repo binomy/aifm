{
 "cells": [
  {
   "cell_type": "code",
   "execution_count": 1,
   "id": "1d55b794",
   "metadata": {},
   "outputs": [],
   "source": [
    "#@title Please enter your registration id to start: { run: \"auto\", display-mode: \"form\" }\n",
    "Id = \"you can get your id from the dashboard\" #@param {type:\"string\"}"
   ]
  },
  {
   "cell_type": "code",
   "execution_count": 2,
   "id": "e9bf8398",
   "metadata": {},
   "outputs": [],
   "source": [
    "import yfinance as yf\n",
    "import pandas as pd\n",
    "import numpy as np\n",
    "from scipy.stats import binom, norm"
   ]
  },
  {
   "cell_type": "code",
   "execution_count": 3,
   "id": "a6e83a5c",
   "metadata": {},
   "outputs": [],
   "source": [
    "nifty = yf.download('^NSEI', end='2021-11-21')"
   ]
  },
  {
   "cell_type": "code",
   "execution_count": 4,
   "id": "5c5e4936",
   "metadata": {},
   "outputs": [],
   "source": [
    "nifty.info()"
   ]
  },
  {
   "cell_type": "code",
   "execution_count": 5,
   "id": "eb619ec8",
   "metadata": {},
   "outputs": [],
   "source": [
    "nifty['volume' === 0]"
   ]
  },
  {
   "cell_type": "code",
   "execution_count": 6,
   "id": "4f3eb1d4",
   "metadata": {},
   "outputs": [],
   "source": [
    "print(nifty['volume' == 0])"
   ]
  },
  {
   "cell_type": "code",
   "execution_count": 7,
   "id": "ae647aed",
   "metadata": {},
   "outputs": [],
   "source": [
    "print(nifty[nifty['volume'] == 0])"
   ]
  },
  {
   "cell_type": "code",
   "execution_count": 8,
   "id": "e0d3487b",
   "metadata": {},
   "outputs": [],
   "source": [
    "print(nifty[nifty['volume'] == 0].count)"
   ]
  },
  {
   "cell_type": "code",
   "execution_count": 9,
   "id": "727400c9",
   "metadata": {},
   "outputs": [],
   "source": [
    "print(nifty[nifty['volume'] == 0].count())"
   ]
  },
  {
   "cell_type": "code",
   "execution_count": 10,
   "id": "94fd824d",
   "metadata": {},
   "outputs": [],
   "source": [
    "nifty['volume' == 0].count()"
   ]
  },
  {
   "cell_type": "code",
   "execution_count": 11,
   "id": "c0ca6b40",
   "metadata": {},
   "outputs": [],
   "source": [
    "nifty"
   ]
  },
  {
   "cell_type": "code",
   "execution_count": 12,
   "id": "63a7e2c6",
   "metadata": {},
   "outputs": [],
   "source": [
    "nifty.isna().any()"
   ]
  },
  {
   "cell_type": "code",
   "execution_count": 13,
   "id": "049c300d",
   "metadata": {},
   "outputs": [],
   "source": [
    "nifty['volume'].replace(0, np.NaN)\n",
    "nifty.isna().any()"
   ]
  },
  {
   "cell_type": "code",
   "execution_count": 14,
   "id": "85b38c17",
   "metadata": {},
   "outputs": [],
   "source": [
    "nifty['volume'].replace(0, np.NaN)"
   ]
  },
  {
   "cell_type": "code",
   "execution_count": 15,
   "id": "e344146e",
   "metadata": {},
   "outputs": [],
   "source": [
    "nifty['volume'].replace({0: np.NaN})"
   ]
  },
  {
   "cell_type": "code",
   "execution_count": 16,
   "id": "b1887dbf",
   "metadata": {},
   "outputs": [],
   "source": [
    "nifty.head()\n",
    "nifty['volume'].replace({0: np.NaN})"
   ]
  },
  {
   "cell_type": "code",
   "execution_count": 17,
   "id": "922686f0",
   "metadata": {},
   "outputs": [],
   "source": [
    "nifty.head()\n",
    "# nifty['volume'].replace({0: np.NaN})"
   ]
  },
  {
   "cell_type": "code",
   "execution_count": 18,
   "id": "0380dbab",
   "metadata": {},
   "outputs": [],
   "source": [
    "nifty.head()\n",
    "nifty.replace(to_replace={\n",
    "  'volume':{0: np.nan}\n",
    "})"
   ]
  },
  {
   "cell_type": "code",
   "execution_count": 19,
   "id": "9733f494",
   "metadata": {},
   "outputs": [],
   "source": [
    "nifty.replace(to_replace={\n",
    "  'volume':{0: np.nan}\n",
    "})\n",
    "nifty.isna().any()"
   ]
  },
  {
   "cell_type": "code",
   "execution_count": 20,
   "id": "a6ffecba",
   "metadata": {},
   "outputs": [],
   "source": [
    "nifty_nan = nifty.replace(to_replace={\n",
    "  'volume':{0: np.nan}\n",
    "})\n",
    "nifty_nan.isna().any()"
   ]
  },
  {
   "cell_type": "code",
   "execution_count": 21,
   "id": "28f634fe",
   "metadata": {},
   "outputs": [],
   "source": [
    "nifty_nan = nifty.replace(to_replace={\n",
    "  'volume':{0: np.nan, '0': np.nan}\n",
    "})\n",
    "nifty_nan.isna().any()"
   ]
  },
  {
   "cell_type": "code",
   "execution_count": 22,
   "id": "68483ad0",
   "metadata": {},
   "outputs": [],
   "source": [
    "nifty_nan = nifty.replace(to_replace={\n",
    "  'volume':{0: np.nan, '0': np.nan}\n",
    "})\n",
    "nifty_nan.isna().any()\n",
    "nifty"
   ]
  },
  {
   "cell_type": "code",
   "execution_count": 23,
   "id": "3d5de3eb",
   "metadata": {},
   "outputs": [],
   "source": [
    "nifty_nan = nifty.replace(to_replace={\n",
    "  'Volume':{0: np.nan, '0': np.nan}\n",
    "})\n",
    "nifty_nan.isna().any()"
   ]
  },
  {
   "cell_type": "code",
   "execution_count": 24,
   "id": "e30b58a0",
   "metadata": {},
   "outputs": [],
   "source": [
    "nifty_nan = nifty.replace(to_replace={\n",
    "  'Volume':{0: np.nan, '0': np.nan}\n",
    "})\n",
    "nifty_nan.isna().any()\n",
    "nifty_nan"
   ]
  },
  {
   "cell_type": "code",
   "execution_count": 25,
   "id": "e2cdee0a",
   "metadata": {},
   "outputs": [],
   "source": [
    "nifty.replace(to_replace={\n",
    "  'Volume':{0: np.nan, '0': np.nan}\n",
    "}, inplace=True).fillna(method='ffill')\n",
    "\n",
    "nifty.isna().any()"
   ]
  },
  {
   "cell_type": "code",
   "execution_count": 26,
   "id": "1018d752",
   "metadata": {},
   "outputs": [],
   "source": [
    "nifty.replace(to_replace={\n",
    "  'Volume':{0: np.nan, '0': np.nan}\n",
    "}, inplace=True)\n",
    "\n",
    "nifty.fillna(method='ffill')\n",
    "\n",
    "nifty.isna().any()"
   ]
  },
  {
   "cell_type": "code",
   "execution_count": 27,
   "id": "0bb58941",
   "metadata": {},
   "outputs": [],
   "source": [
    "nifty.replace(to_replace={\n",
    "  'Volume':{0: np.nan, '0': np.nan}\n",
    "}, inplace=True)\n",
    "\n",
    "nifty.fillna(method='ffill')\n",
    "\n",
    "print(nifty.isna().any())\n",
    "nifty"
   ]
  },
  {
   "cell_type": "code",
   "execution_count": 28,
   "id": "ad50b0b4",
   "metadata": {},
   "outputs": [],
   "source": [
    "nifty.replace(to_replace={\n",
    "  'Volume':{0: np.nan, '0': np.nan}\n",
    "}, inplace=True)\n",
    "\n",
    "nifty.fillna(method='ffill', inplace=True)\n",
    "\n",
    "print(nifty.isna().any())\n",
    "nifty"
   ]
  },
  {
   "cell_type": "code",
   "execution_count": 29,
   "id": "49244e3b",
   "metadata": {},
   "outputs": [],
   "source": [
    "nifty.replace(to_replace={\n",
    "  'Volume':{0: np.nan, '0': np.nan}\n",
    "}, inplace=True)\n",
    "\n",
    "nifty.fillna(method='ffill', inplace=True)\n",
    "\n",
    "print(nifty.isna().any().count)\n",
    "nifty"
   ]
  },
  {
   "cell_type": "code",
   "execution_count": 30,
   "id": "ab973497",
   "metadata": {},
   "outputs": [],
   "source": [
    "nifty.replace(to_replace={\n",
    "  'Volume':{0: np.nan, '0': np.nan}\n",
    "}, inplace=True)\n",
    "\n",
    "nifty.fillna(method='ffill', inplace=True)\n",
    "\n",
    "print(nifty.isna().any().count())\n",
    "nifty"
   ]
  },
  {
   "cell_type": "code",
   "execution_count": 31,
   "id": "4ecf812f",
   "metadata": {},
   "outputs": [],
   "source": [
    "nifty = yf.download('^NSEI', end='2021-11-21')"
   ]
  },
  {
   "cell_type": "code",
   "execution_count": 32,
   "id": "b8b4d597",
   "metadata": {},
   "outputs": [],
   "source": [
    "nifty.replace(to_replace={\n",
    "  'Volume':{0: np.nan, '0': np.nan}\n",
    "}, inplace=True)\n",
    "\n",
    "# nifty.fillna(method='ffill', inplace=True)\n",
    "\n",
    "print(nifty.isna().any().count())\n",
    "nifty"
   ]
  },
  {
   "cell_type": "code",
   "execution_count": 33,
   "id": "2a5939e6",
   "metadata": {},
   "outputs": [],
   "source": [
    "nifty.replace(to_replace={\n",
    "  'Volume':{0: np.nan, '0': np.nan}\n",
    "}, inplace=True)\n",
    "\n",
    "nifty.fillna(method='bfill', inplace=True)\n",
    "\n",
    "print(nifty.isna().any().count())\n",
    "nifty"
   ]
  },
  {
   "cell_type": "code",
   "execution_count": 34,
   "id": "2a8320db",
   "metadata": {},
   "outputs": [],
   "source": [
    "nifty.replace(to_replace={\n",
    "  'Volume':{0: np.nan, '0': np.nan}\n",
    "}, inplace=True)\n",
    "\n",
    "nifty.fillna(method='ffill', inplace=True)\n",
    "\n",
    "nifty.dropna()\n",
    "print(nifty.isna().any())"
   ]
  },
  {
   "cell_type": "code",
   "execution_count": 35,
   "id": "e7e7435c",
   "metadata": {},
   "outputs": [],
   "source": [
    "nifty['daily_returns'] = nifty.Close.pct_change()\n",
    "nifty"
   ]
  },
  {
   "cell_type": "code",
   "execution_count": 36,
   "id": "25d5f89f",
   "metadata": {},
   "outputs": [],
   "source": [
    "nifty['daily_returns'] = nifty.Close.pct_change().mul(100)\n",
    "nifty"
   ]
  },
  {
   "cell_type": "code",
   "execution_count": 37,
   "id": "e351bd5c",
   "metadata": {},
   "outputs": [],
   "source": [
    "nifty['daily_returns'] = nifty.Close.pct_change().mul(100)\n",
    "q75 = nifty['daily_returns'].quantile(0.75)\n",
    "q75"
   ]
  },
  {
   "cell_type": "code",
   "execution_count": 38,
   "id": "aefa2f45",
   "metadata": {},
   "outputs": [],
   "source": [
    "nifty['daily_returns'] = nifty.Close.pct_change().mul(100)\n",
    "q75 = nifty['daily_returns'].quantile(0.75)\n",
    "nifty['daily_ret_signal'] = nifty['daily_returns'] >= q75\n",
    "nifty"
   ]
  },
  {
   "cell_type": "code",
   "execution_count": 39,
   "id": "216b35f8",
   "metadata": {},
   "outputs": [],
   "source": [
    "nifty['daily_returns'] = nifty.Close.pct_change().mul(100)\n",
    "q75 = nifty['daily_returns'].quantile(0.75)\n",
    "nifty['daily_ret_signal'] = nifty['daily_returns'] >= q75\n",
    "nifty['daily_ret_signal'] = nifty['daily_ret_signal'].astype(int)\n",
    "nifty"
   ]
  },
  {
   "cell_type": "code",
   "execution_count": 40,
   "id": "03b3b5a2",
   "metadata": {},
   "outputs": [],
   "source": [
    "nifty['vol_change'] = nifty.Volume.pct_change().mul(100)\n",
    "q75 = nifty['vol_change'].quantile(0.75)\n",
    "nifty['vol_change_signal'] = nifty['vol_change'] >= q75\n",
    "nifty['vol_change_signal'] = nifty['vol_change'].astype(int)\n",
    "nifty"
   ]
  },
  {
   "cell_type": "code",
   "execution_count": 41,
   "id": "12b8c995",
   "metadata": {},
   "outputs": [],
   "source": [
    "nifty['vol_change'] = nifty.Volume.pct_change().mul(100)\n",
    "# q75 = nifty['vol_change'].quantile(0.75)\n",
    "# nifty['vol_change_signal'] = nifty['vol_change'] >= q75\n",
    "# nifty['vol_change_signal'] = nifty['vol_change'].astype(int)\n",
    "nifty"
   ]
  },
  {
   "cell_type": "code",
   "execution_count": 42,
   "id": "4eb1f38f",
   "metadata": {},
   "outputs": [],
   "source": [
    "nifty['vol_change'] = nifty.Volume.pct_change().mul(100)\n",
    "q75 = nifty['vol_change'].quantile(0.75)\n",
    "nifty['vol_change_signal'] = nifty['vol_change'] >= q75\n",
    "# nifty['vol_change_signal'] = nifty['vol_change'].astype(int)\n",
    "nifty"
   ]
  },
  {
   "cell_type": "code",
   "execution_count": 43,
   "id": "c9bcb057",
   "metadata": {},
   "outputs": [],
   "source": [
    "nifty['vol_change'] = nifty.Volume.pct_change().mul(100)\n",
    "q75 = nifty['vol_change'].quantile(0.75)\n",
    "nifty['vol_change_signal'] = nifty['vol_change'] >= q75\n",
    "nifty['vol_change_signal'] = nifty['vol_change'].astype(int)\n",
    "nifty"
   ]
  },
  {
   "cell_type": "code",
   "execution_count": 44,
   "id": "78d79939",
   "metadata": {},
   "outputs": [],
   "source": [
    "nifty['vol_change'] = nifty.Volume.pct_change().mul(100)\n",
    "q75 = nifty['vol_change'].quantile(0.75)\n",
    "nifty['vol_change_signal'] = nifty['vol_change'] >= q75\n",
    "# nifty['vol_change_signal'] = nifty['vol_change'].astype(int)\n",
    "nifty.isna().any()\n",
    "# nifty"
   ]
  },
  {
   "cell_type": "code",
   "execution_count": 45,
   "id": "50eae318",
   "metadata": {},
   "outputs": [],
   "source": [
    "nifty['vol_change'] = nifty.Volume.pct_change().mul(100)\n",
    "q75 = nifty['vol_change'].quantile(0.75)\n",
    "nifty['vol_change_signal'] = nifty['vol_change'] >= q75\n",
    "# nifty['vol_change_signal'] = nifty['vol_change'].astype(int)\n",
    "nifty.isna().any().count()\n",
    "# nifty"
   ]
  },
  {
   "cell_type": "code",
   "execution_count": 46,
   "id": "bc8b39d2",
   "metadata": {},
   "outputs": [],
   "source": [
    "nifty['vol_change'] = nifty.Volume.pct_change().mul(100)\n",
    "q75 = nifty['vol_change'].quantile(0.75)\n",
    "nifty['vol_change_signal'] = nifty['vol_change'] >= q75\n",
    "# nifty['vol_change_signal'] = nifty['vol_change'].astype(int)\n",
    "nifty.vol_change.isna().any().count()\n",
    "# nifty"
   ]
  },
  {
   "cell_type": "code",
   "execution_count": 47,
   "id": "91331cb6",
   "metadata": {},
   "outputs": [],
   "source": [
    "nifty['vol_change'] = nifty.Volume.pct_change().mul(100)\n",
    "q75 = nifty['vol_change'].quantile(0.75)\n",
    "nifty['vol_change_signal'] = nifty['vol_change'] >= q75\n",
    "# nifty['vol_change_signal'] = nifty['vol_change'].astype(int)\n",
    "nifty['vol_change'].isna().any().count()\n",
    "# nifty"
   ]
  },
  {
   "cell_type": "code",
   "execution_count": 48,
   "id": "9848351f",
   "metadata": {},
   "outputs": [],
   "source": [
    "nifty['vol_change'] = nifty.Volume.pct_change().mul(100)\n",
    "q75 = nifty['vol_change'].quantile(0.75)\n",
    "nifty['vol_change_signal'] = nifty['vol_change'] >= q75\n",
    "nifty.replace(to_replace={\n",
    "  'vol_change_signal': {True: 1, False: 0}\n",
    "}, inplace=True)\n",
    "nifty"
   ]
  },
  {
   "cell_type": "code",
   "execution_count": 49,
   "id": "73c27771",
   "metadata": {},
   "outputs": [],
   "source": [
    "nifty['vol_change'] = nifty.Volume.pct_change().mul(100)\n",
    "q75 = nifty['vol_change'].quantile(0.75)\n",
    "nifty['vol_change_signal'] = nifty['vol_change'] >= q75\n",
    "nifty.replace(to_replace={\n",
    "  'vol_change_signal': {True: 1, False: 0}\n",
    "}, inplace=True)\n",
    "nifty.isna().any()"
   ]
  },
  {
   "cell_type": "code",
   "execution_count": 50,
   "id": "d2b53fc4",
   "metadata": {},
   "outputs": [],
   "source": [
    "nifty['vol_change'] = nifty.Volume.pct_change().mul(100)\n",
    "q75 = nifty['vol_change'].quantile(0.75)\n",
    "nifty['vol_change_signal'] = nifty['vol_change'] >= q75\n",
    "nifty.replace(to_replace={\n",
    "  'vol_change_signal': {True: 1, False: 0}\n",
    "}, inplace=True)\n",
    "nifty.isna().any().count()"
   ]
  },
  {
   "cell_type": "code",
   "execution_count": 51,
   "id": "04e77625",
   "metadata": {},
   "outputs": [],
   "source": [
    "nifty_corr = pd.crosstab(nifty['vol_change_signal'], nifty['daily_ret_signal'], margins=False)\n",
    "nifty_corr"
   ]
  },
  {
   "cell_type": "code",
   "execution_count": 52,
   "id": "89701aa3",
   "metadata": {},
   "outputs": [],
   "source": [
    "p_ret_success = len(nifty['daily_returns' > 0]) / len(nifty['daily_returns'])\n",
    "p_ret_success"
   ]
  },
  {
   "cell_type": "code",
   "execution_count": 53,
   "id": "0905ef8e",
   "metadata": {},
   "outputs": [],
   "source": [
    "daily_returns = nifty['Close'].pct_change().copy()\n",
    "\n",
    "p_ret_success = len(daily_returns[daily_returns>0]) / len(daily_returns)\n",
    "p_ret_success"
   ]
  },
  {
   "cell_type": "code",
   "execution_count": 54,
   "id": "c5acdc5c",
   "metadata": {},
   "outputs": [],
   "source": [
    "daily_returns = nifty['daily_ret_signal'].copy()\n",
    "\n",
    "p_ret_success = len(daily_returns[daily_returns>0]) / len(daily_returns)\n",
    "p_ret_success"
   ]
  },
  {
   "cell_type": "code",
   "execution_count": 55,
   "id": "21f04233",
   "metadata": {},
   "outputs": [],
   "source": [
    "daily_returns = nifty['daily_ret_signal'].copy()\n",
    "print(daily_returns)\n",
    "p_ret_success = len(daily_returns[daily_returns>0]) / len(daily_returns)\n",
    "p_ret_success"
   ]
  },
  {
   "cell_type": "code",
   "execution_count": 56,
   "id": "5fe295f6",
   "metadata": {},
   "outputs": [],
   "source": [
    "p_success = 0.250144\n",
    "days = 7\n",
    "\n",
    "prob_pmf = binom.pmf(2, days, p_success)\n",
    "prob_pmf\n",
    "# prob_cdf = binom.cdf(12, 30, p_success)"
   ]
  },
  {
   "cell_type": "code",
   "execution_count": 57,
   "id": "cb8563c0",
   "metadata": {},
   "outputs": [],
   "source": [
    "prob_cdf = binom.cdf(15, 30, p_success)\n",
    "prob_cdf"
   ]
  },
  {
   "cell_type": "code",
   "execution_count": 58,
   "id": "aa92298b",
   "metadata": {},
   "outputs": [],
   "source": [
    "# daily_returns = nifty['daily_ret_signal'].copy()\n",
    "# print(daily_returns)\n",
    "# p_ret_success = len(daily_returns[daily_returns>0]) / len(daily_returns)\n",
    "# p_ret_success\n",
    "\n",
    "vol_change = nifty['Close'].pct_change().copy()\n",
    "q75 = vol_change.quantile(0.75)\n",
    "print(q75)\n",
    "p_success = len(vol_change[vol_change>0]) / len(vol_change)\n",
    "print(p_success)\n",
    "vol_change.head()"
   ]
  },
  {
   "cell_type": "code",
   "execution_count": 59,
   "id": "e5317c7b",
   "metadata": {},
   "outputs": [],
   "source": [
    "nifty.replace(to_replace={\n",
    "  'Volume':{0: np.nan, '0': np.nan}\n",
    "}, inplace=True)\n",
    "\n",
    "nifty.fillna(method='ffill', inplace=True)\n",
    "\n",
    "nifty.dropna(inplace=True)\n",
    "print(nifty.isna().any())"
   ]
  },
  {
   "cell_type": "code",
   "execution_count": 60,
   "id": "34754fc5",
   "metadata": {},
   "outputs": [],
   "source": [
    "nifty['daily_returns'] = nifty.Close.pct_change().mul(100)\n",
    "q75 = nifty['daily_returns'].quantile(0.75)\n",
    "nifty['daily_ret_signal'] = nifty['daily_returns'] >= q75\n",
    "nifty['daily_ret_signal'] = nifty['daily_ret_signal'].astype(int)\n",
    "nifty"
   ]
  },
  {
   "cell_type": "code",
   "execution_count": 61,
   "id": "b06db0ae",
   "metadata": {},
   "outputs": [],
   "source": [
    "# daily_returns = nifty['daily_ret_signal'].copy()\n",
    "# print(daily_returns)\n",
    "# p_ret_success = len(daily_returns[daily_returns>0]) / len(daily_returns)\n",
    "# p_ret_success\n",
    "\n",
    "vol_change = nifty['Close'].pct_change().copy()\n",
    "q75 = vol_change.quantile(0.75)\n",
    "print(q75)\n",
    "p_success = len(vol_change[vol_change>0]) / len(vol_change)\n",
    "print(p_success)\n",
    "vol_change.head()"
   ]
  },
  {
   "cell_type": "code",
   "execution_count": 62,
   "id": "71a889e4",
   "metadata": {},
   "outputs": [],
   "source": [
    "# daily_returns = nifty['daily_ret_signal'].copy()\n",
    "# print(daily_returns)\n",
    "# p_ret_success = len(daily_returns[daily_returns>0]) / len(daily_returns)\n",
    "# p_ret_success\n",
    "\n",
    "vol_change = nifty['Volume'].pct_change().copy()\n",
    "q75 = vol_change.quantile(0.75)\n",
    "print(q75)\n",
    "p_success = len(vol_change[vol_change>0]) / len(vol_change)\n",
    "print(p_success)\n",
    "vol_change.head()"
   ]
  },
  {
   "cell_type": "code",
   "execution_count": 63,
   "id": "86f7cb8c",
   "metadata": {},
   "outputs": [],
   "source": [
    "# nifty['daily_returns'] = nifty.Close.pct_change().mul(100)\n",
    "# q75 = nifty['daily_returns'].quantile(0.75)\n",
    "# nifty['daily_ret_signal'] = nifty['daily_returns'] >= q75\n",
    "# nifty['daily_ret_signal'] = nifty['daily_ret_signal'].astype(int)\n",
    "# nifty\n",
    "\n",
    "daily_returns = nifty['Close'].pct_change().copy()\n",
    "q75 = daily_returns.quantile(0.75)\n",
    "print(q75)\n",
    "p_success = len(daily_returns[daily_returns>0]) / len(daily_returns)\n",
    "print(p_success)\n",
    "daily_returns.head()"
   ]
  },
  {
   "cell_type": "code",
   "execution_count": 64,
   "id": "be410499",
   "metadata": {},
   "outputs": [],
   "source": [
    "# nifty['daily_returns'] = nifty.Close.pct_change().mul(100)\n",
    "# q75 = nifty['daily_returns'].quantile(0.75)\n",
    "# nifty['daily_ret_signal'] = nifty['daily_returns'] >= q75\n",
    "# nifty['daily_ret_signal'] = nifty['daily_ret_signal'].astype(int)\n",
    "# nifty\n",
    "\n",
    "daily_returns = nifty['Close'].pct_change().copy()\n",
    "q75 = daily_returns.quantile(0.75)\n",
    "p_success = len(daily_returns[daily_returns>0]) / len(daily_returns)\n",
    "\n",
    "events = pd.Series([0]*len(daily_returns), index = daily_returns.index)\n",
    "print(events.head())\n",
    "events[daily_returns>0] = 1\n",
    "events"
   ]
  },
  {
   "cell_type": "code",
   "execution_count": 65,
   "id": "b11c4e9c",
   "metadata": {},
   "outputs": [],
   "source": [
    "# nifty['daily_returns'] = nifty.Close.pct_change().mul(100)\n",
    "# q75 = nifty['daily_returns'].quantile(0.75)\n",
    "# nifty['daily_ret_signal'] = nifty['daily_returns'] >= q75\n",
    "# nifty['daily_ret_signal'] = nifty['daily_ret_signal'].astype(int)\n",
    "# nifty\n",
    "\n",
    "daily_returns = nifty['Close'].pct_change().copy()\n",
    "q75 = daily_returns.quantile(0.75)\n",
    "p_success = len(daily_returns[daily_returns>0]) / len(daily_returns)\n",
    "\n",
    "events = pd.Series([0]*len(daily_returns), index = daily_returns.index)\n",
    "events[daily_returns>q75] = 1\n",
    "events"
   ]
  },
  {
   "cell_type": "code",
   "execution_count": 66,
   "id": "0f9ad0fb",
   "metadata": {},
   "outputs": [],
   "source": [
    "# nifty['daily_returns'] = nifty.Close.pct_change().mul(100)\n",
    "# q75 = nifty['daily_returns'].quantile(0.75)\n",
    "# nifty['daily_ret_signal'] = nifty['daily_returns'] >= q75\n",
    "# nifty['daily_ret_signal'] = nifty['daily_ret_signal'].astype(int)\n",
    "# nifty\n",
    "\n",
    "daily_returns = nifty['Close'].pct_change().copy()\n",
    "q75 = daily_returns.quantile(0.75)\n",
    "p_success = len(daily_returns[daily_returns>0]) / len(daily_returns)\n",
    "\n",
    "events = pd.Series([0]*len(daily_returns), index = daily_returns.index)\n",
    "events[daily_returns>q75] = 1\n",
    "events\n",
    "\n",
    "nifty['daily_ret_signal'] = events"
   ]
  },
  {
   "cell_type": "code",
   "execution_count": 67,
   "id": "3462ae1f",
   "metadata": {},
   "outputs": [],
   "source": [
    "nifty"
   ]
  },
  {
   "cell_type": "code",
   "execution_count": 68,
   "id": "b245790a",
   "metadata": {},
   "outputs": [],
   "source": [
    "# nifty['vol_change'] = nifty.Volume.pct_change().mul(100)\n",
    "# q75 = nifty['vol_change'].quantile(0.75)\n",
    "# nifty['vol_change_signal'] = nifty['vol_change'] >= q75\n",
    "# nifty.replace(to_replace={\n",
    "#   'vol_change_signal': {True: 1, False: 0}\n",
    "# }, inplace=True)\n",
    "# nifty\n",
    "\n",
    "vol_change = nifty['Volume'].pct_change().copy()\n",
    "q75 = vol_change.quantile(0.75)\n",
    "p_success = len(vol_change[vol_change>0]) / len(vol_change)\n",
    "\n",
    "events = pd.Series([0]*len(vol_change), index = vol_change.index)\n",
    "events[vol_change>q75] = 1\n",
    "events\n",
    "\n",
    "nifty['vol_change_signal'] = events\n",
    "nifty"
   ]
  },
  {
   "cell_type": "code",
   "execution_count": 69,
   "id": "7145ca4f",
   "metadata": {},
   "outputs": [],
   "source": [
    "nifty = yf.download('^NSEI', end='2021-11-21')"
   ]
  },
  {
   "cell_type": "code",
   "execution_count": 70,
   "id": "2a696d64",
   "metadata": {},
   "outputs": [],
   "source": [
    "nifty.replace(to_replace={\n",
    "  'Volume':{0: np.nan, '0': np.nan}\n",
    "}, inplace=True)\n",
    "\n",
    "nifty.fillna(method='ffill', inplace=True)\n",
    "\n",
    "nifty.dropna(inplace=True)\n",
    "print(nifty.isna().any())"
   ]
  },
  {
   "cell_type": "code",
   "execution_count": 71,
   "id": "393e37a0",
   "metadata": {},
   "outputs": [],
   "source": [
    "# nifty['daily_returns'] = nifty.Close.pct_change().mul(100)\n",
    "# q75 = nifty['daily_returns'].quantile(0.75)\n",
    "# nifty['daily_ret_signal'] = nifty['daily_returns'] >= q75\n",
    "# nifty['daily_ret_signal'] = nifty['daily_ret_signal'].astype(int)\n",
    "# nifty\n",
    "\n",
    "daily_returns = nifty['Close'].pct_change().copy()\n",
    "q75 = daily_returns.quantile(0.75)\n",
    "p_success = len(daily_returns[daily_returns>0]) / len(daily_returns)\n",
    "\n",
    "events = pd.Series([0]*len(daily_returns), index = daily_returns.index)\n",
    "events[daily_returns>q75] = 1\n",
    "events\n",
    "\n",
    "nifty['daily_ret_signal'] = events"
   ]
  },
  {
   "cell_type": "code",
   "execution_count": 72,
   "id": "891a6c16",
   "metadata": {},
   "outputs": [],
   "source": [
    "# nifty['vol_change'] = nifty.Volume.pct_change().mul(100)\n",
    "# q75 = nifty['vol_change'].quantile(0.75)\n",
    "# nifty['vol_change_signal'] = nifty['vol_change'] >= q75\n",
    "# nifty.replace(to_replace={\n",
    "#   'vol_change_signal': {True: 1, False: 0}\n",
    "# }, inplace=True)\n",
    "# nifty\n",
    "\n",
    "vol_change = nifty['Volume'].pct_change().copy()\n",
    "q75 = vol_change.quantile(0.75)\n",
    "p_success = len(vol_change[vol_change>0]) / len(vol_change)\n",
    "\n",
    "events = pd.Series([0]*len(vol_change), index = vol_change.index)\n",
    "events[vol_change>q75] = 1\n",
    "events\n",
    "\n",
    "nifty['vol_change_signal'] = events\n",
    "nifty"
   ]
  },
  {
   "cell_type": "code",
   "execution_count": 73,
   "id": "e8b01adb",
   "metadata": {},
   "outputs": [],
   "source": [
    "nifty_corr = pd.crosstab(nifty['vol_change_signal'], nifty['daily_ret_signal'], margins=False)\n",
    "nifty_corr"
   ]
  },
  {
   "cell_type": "code",
   "execution_count": 74,
   "id": "5e93d3a2",
   "metadata": {},
   "outputs": [],
   "source": [
    "prob_cdf = binom.cdf(15, 30, 0.3028026581912742)\n",
    "prob_cdf"
   ]
  },
  {
   "cell_type": "code",
   "execution_count": 75,
   "id": "32770c25",
   "metadata": {},
   "outputs": [],
   "source": [
    "# daily_returns = nifty['daily_ret_signal'].copy()\n",
    "# print(daily_returns)\n",
    "# p_ret_success = len(daily_returns[daily_returns>0]) / len(daily_returns)\n",
    "# p_ret_success\n",
    "\n",
    "vol_change = nifty['Volume'].pct_change().copy()\n",
    "q75 = vol_change.quantile(0.75)\n",
    "print(q75)\n",
    "p_success = len(vol_change[vol_change>q75]) / len(vol_change)\n",
    "print(p_success)\n",
    "vol_change.head()"
   ]
  },
  {
   "cell_type": "code",
   "execution_count": 76,
   "id": "4ed6b26c",
   "metadata": {},
   "outputs": [],
   "source": [
    "prob_cdf = binom.cdf(15, 30, 0.24976873265494912)\n",
    "prob_cdf"
   ]
  },
  {
   "cell_type": "code",
   "execution_count": 77,
   "id": "e0bdb123",
   "metadata": {},
   "outputs": [],
   "source": [
    "nifty = yf.download('^NSEI', end='2021-11-21')\n",
    "\n",
    "nifty.tail()"
   ]
  },
  {
   "cell_type": "code",
   "execution_count": 78,
   "id": "f2e930a7",
   "metadata": {},
   "outputs": [],
   "source": [
    "nifty = yf.download('^NSEI', end='2021-11-23')\n",
    "\n",
    "nifty.tail()"
   ]
  },
  {
   "cell_type": "code",
   "execution_count": 79,
   "id": "f4f0ad89",
   "metadata": {},
   "outputs": [],
   "source": [
    "nifty = yf.download('^NSEI', end='2021-11-21')\n",
    "\n",
    "nifty.tail()"
   ]
  },
  {
   "cell_type": "code",
   "execution_count": 80,
   "id": "4fa4a679",
   "metadata": {},
   "outputs": [],
   "source": [
    "nifty.replace(to_replace={\n",
    "  'Volume':{0: np.nan, '0': np.nan}\n",
    "}, inplace=True)\n",
    "\n",
    "nifty.fillna(method='bfill', inplace=True)\n",
    "\n",
    "nifty.dropna(inplace=True)\n",
    "print(nifty.isna().any())"
   ]
  },
  {
   "cell_type": "code",
   "execution_count": 81,
   "id": "5ff0883c",
   "metadata": {},
   "outputs": [],
   "source": [
    "# nifty['daily_returns'] = nifty.Close.pct_change().mul(100)\n",
    "# q75 = nifty['daily_returns'].quantile(0.75)\n",
    "# nifty['daily_ret_signal'] = nifty['daily_returns'] >= q75\n",
    "# nifty['daily_ret_signal'] = nifty['daily_ret_signal'].astype(int)\n",
    "# nifty\n",
    "\n",
    "daily_returns = nifty['Close'].pct_change().copy()\n",
    "q75 = daily_returns.quantile(0.75)\n",
    "p_success = len(daily_returns[daily_returns>0]) / len(daily_returns)\n",
    "\n",
    "events = pd.Series([0]*len(daily_returns), index = daily_returns.index)\n",
    "events[daily_returns>q75] = 1\n",
    "events\n",
    "\n",
    "nifty['daily_ret_signal'] = events"
   ]
  },
  {
   "cell_type": "code",
   "execution_count": 82,
   "id": "640a4e7f",
   "metadata": {},
   "outputs": [],
   "source": [
    "# nifty['vol_change'] = nifty.Volume.pct_change().mul(100)\n",
    "# q75 = nifty['vol_change'].quantile(0.75)\n",
    "# nifty['vol_change_signal'] = nifty['vol_change'] >= q75\n",
    "# nifty.replace(to_replace={\n",
    "#   'vol_change_signal': {True: 1, False: 0}\n",
    "# }, inplace=True)\n",
    "# nifty\n",
    "\n",
    "vol_change = nifty['Volume'].pct_change().copy()\n",
    "q75 = vol_change.quantile(0.75)\n",
    "p_success = len(vol_change[vol_change>0]) / len(vol_change)\n",
    "\n",
    "events = pd.Series([0]*len(vol_change), index = vol_change.index)\n",
    "events[vol_change>q75] = 1\n",
    "events\n",
    "\n",
    "nifty['vol_change_signal'] = events\n",
    "nifty"
   ]
  },
  {
   "cell_type": "code",
   "execution_count": 83,
   "id": "cb544d06",
   "metadata": {},
   "outputs": [],
   "source": [
    "nifty_corr = pd.crosstab(nifty['vol_change_signal'], nifty['daily_ret_signal'], margins=False)\n",
    "nifty_corr"
   ]
  },
  {
   "cell_type": "code",
   "execution_count": 84,
   "id": "00e1815f",
   "metadata": {},
   "outputs": [],
   "source": [
    "# daily_returns = nifty['daily_ret_signal'].copy()\n",
    "# print(daily_returns)\n",
    "# p_ret_success = len(daily_returns[daily_returns>0]) / len(daily_returns)\n",
    "# p_ret_success\n",
    "\n",
    "vol_change = nifty['Volume'].pct_change().copy()\n",
    "q75 = vol_change.quantile(0.75)\n",
    "print(q75)\n",
    "p_success = len(vol_change[vol_change>q75]) / len(vol_change)\n",
    "print(p_success)\n",
    "vol_change.head()"
   ]
  },
  {
   "cell_type": "code",
   "execution_count": 85,
   "id": "9bc3c80b",
   "metadata": {},
   "outputs": [],
   "source": [
    "p_success = 0.24985557481224727\n",
    "days = 7\n",
    "\n",
    "prob_pmf = binom.pmf(2, days, p_success)\n",
    "prob_pmf\n",
    "# prob_cdf = binom.cdf(12, 30, p_success)"
   ]
  },
  {
   "cell_type": "code",
   "execution_count": 86,
   "id": "ae44f5df",
   "metadata": {},
   "outputs": [],
   "source": [
    "prob_cdf = binom.cdf(15, 30, 0.24985557481224727)\n",
    "prob_cdf"
   ]
  },
  {
   "cell_type": "code",
   "execution_count": 87,
   "id": "550348a8",
   "metadata": {},
   "outputs": [],
   "source": [
    "# nifty['daily_returns'] = nifty.Close.pct_change().mul(100)\n",
    "# q75 = nifty['daily_returns'].quantile(0.75)\n",
    "# nifty['daily_ret_signal'] = nifty['daily_returns'] >= q75\n",
    "# nifty['daily_ret_signal'] = nifty['daily_ret_signal'].astype(int)\n",
    "# nifty\n",
    "\n",
    "daily_returns = nifty['Close'].pct_change().copy()\n",
    "q75 = daily_returns.quantile(0.75)\n",
    "pr_success = len(daily_returns[daily_returns>0]) / len(daily_returns)\n",
    "print(pr_success)\n",
    "events = pd.Series([0]*len(daily_returns), index = daily_returns.index)\n",
    "events[daily_returns>=q75] = 1\n",
    "events\n",
    "\n",
    "nifty['daily_ret_signal'] = events"
   ]
  },
  {
   "cell_type": "code",
   "execution_count": 88,
   "id": "f4c3260f",
   "metadata": {},
   "outputs": [],
   "source": [
    "# nifty['daily_returns'] = nifty.Close.pct_change().mul(100)\n",
    "# q75 = nifty['daily_returns'].quantile(0.75)\n",
    "# nifty['daily_ret_signal'] = nifty['daily_returns'] >= q75\n",
    "# nifty['daily_ret_signal'] = nifty['daily_ret_signal'].astype(int)\n",
    "# nifty\n",
    "\n",
    "daily_returns = nifty['Close'].pct_change().copy()\n",
    "q75 = daily_returns.quantile(0.75)\n",
    "print(q75)\n",
    "pr_success = len(daily_returns[daily_returns>0]) / len(daily_returns)\n",
    "print(pr_success)\n",
    "events = pd.Series([0]*len(daily_returns), index = daily_returns.index)\n",
    "events[daily_returns>=q75] = 1\n",
    "events\n",
    "\n",
    "nifty['daily_ret_signal'] = events"
   ]
  },
  {
   "cell_type": "code",
   "execution_count": 89,
   "id": "9c975db1",
   "metadata": {},
   "outputs": [],
   "source": [
    "# nifty['vol_change'] = nifty.Volume.pct_change().mul(100)\n",
    "# q75 = nifty['vol_change'].quantile(0.75)\n",
    "# nifty['vol_change_signal'] = nifty['vol_change'] >= q75\n",
    "# nifty.replace(to_replace={\n",
    "#   'vol_change_signal': {True: 1, False: 0}\n",
    "# }, inplace=True)\n",
    "# nifty\n",
    "\n",
    "vol_change = nifty['Volume'].pct_change().copy()\n",
    "q75 = vol_change.quantile(0.75)\n",
    "print(q75)\n",
    "vol_success = len(vol_change[vol_change>q75]) / len(vol_change)\n",
    "print(vol_success)\n",
    "events = pd.Series([0]*len(vol_change), index = vol_change.index)\n",
    "events[vol_change>=q75] = 1\n",
    "events\n",
    "\n",
    "nifty['vol_change_signal'] = events\n",
    "nifty"
   ]
  },
  {
   "cell_type": "code",
   "execution_count": 90,
   "id": "eaab0935",
   "metadata": {},
   "outputs": [],
   "source": [
    "nifty_corr = pd.crosstab(nifty['vol_change_signal'], nifty['daily_ret_signal'], margins=False)\n",
    "nifty_corr"
   ]
  },
  {
   "cell_type": "code",
   "execution_count": 91,
   "id": "825b9529",
   "metadata": {},
   "outputs": [],
   "source": [
    "# nifty['daily_returns'] = nifty.Close.pct_change().mul(100)\n",
    "# q75 = nifty['daily_returns'].quantile(0.75)\n",
    "# nifty['daily_ret_signal'] = nifty['daily_returns'] >= q75\n",
    "# nifty['daily_ret_signal'] = nifty['daily_ret_signal'].astype(int)\n",
    "# nifty\n",
    "\n",
    "daily_returns = nifty['Close'].pct_change().copy()\n",
    "print(isinstance(daily_returns, pd.DataFrame))\n",
    "q75 = daily_returns.quantile(0.75)\n",
    "print(q75)\n",
    "pr_success = len(daily_returns[daily_returns>q75]) / len(daily_returns)\n",
    "print(pr_success)\n",
    "events = pd.Series([0]*len(daily_returns), index = daily_returns.index)\n",
    "events[daily_returns>=q75] = 1\n",
    "events\n",
    "\n",
    "nifty['daily_ret_signal'] = events"
   ]
  },
  {
   "cell_type": "code",
   "execution_count": 92,
   "id": "0d873b1a",
   "metadata": {},
   "outputs": [],
   "source": [
    "# nifty['daily_returns'] = nifty.Close.pct_change().mul(100)\n",
    "# q75 = nifty['daily_returns'].quantile(0.75)\n",
    "# nifty['daily_ret_signal'] = nifty['daily_returns'] >= q75\n",
    "# nifty['daily_ret_signal'] = nifty['daily_ret_signal'].astype(int)\n",
    "# nifty\n",
    "\n",
    "daily_returns = nifty['Close'].pct_change().copy()\n",
    "print(isinstance(daily_returns, pd.Series))\n",
    "q75 = daily_returns.quantile(0.75)\n",
    "print(q75)\n",
    "pr_success = len(daily_returns[daily_returns>q75]) / len(daily_returns)\n",
    "print(pr_success)\n",
    "events = pd.Series([0]*len(daily_returns), index = daily_returns.index)\n",
    "events[daily_returns>=q75] = 1\n",
    "events\n",
    "\n",
    "nifty['daily_ret_signal'] = events"
   ]
  },
  {
   "cell_type": "code",
   "execution_count": 93,
   "id": "a61d8388",
   "metadata": {},
   "outputs": [],
   "source": [
    "# nifty['daily_returns'] = nifty.Close.pct_change().mul(100)\n",
    "# q75 = nifty['daily_returns'].quantile(0.75)\n",
    "# nifty['daily_ret_signal'] = nifty['daily_returns'] >= q75\n",
    "# nifty['daily_ret_signal'] = nifty['daily_ret_signal'].astype(int)\n",
    "# nifty\n",
    "\n",
    "daily_returns = nifty['Close'].pct_change().copy()\n",
    "q75 = daily_returns.quantile(.75)\n",
    "print(q75)\n",
    "pr_success = len(daily_returns[daily_returns>q75]) / len(daily_returns)\n",
    "print(pr_success)\n",
    "events = pd.Series([0]*len(daily_returns), index = daily_returns.index)\n",
    "events[daily_returns>=q75] = 1\n",
    "events\n",
    "\n",
    "nifty['daily_ret_signal'] = events"
   ]
  },
  {
   "cell_type": "code",
   "execution_count": 94,
   "id": "22239c0e",
   "metadata": {},
   "outputs": [],
   "source": [
    "# nifty['daily_returns'] = nifty.Close.pct_change().mul(100)\n",
    "# q75 = nifty['daily_returns'].quantile(0.75)\n",
    "# nifty['daily_ret_signal'] = nifty['daily_returns'] >= q75\n",
    "# nifty['daily_ret_signal'] = nifty['daily_ret_signal'].astype(int)\n",
    "# nifty\n",
    "\n",
    "daily_returns = nifty['Close'].pct_change().copy()\n",
    "q = daily_returns.quantile([0.25, .5, .75])\n",
    "print(q)\n",
    "pr_success = len(daily_returns[daily_returns>q75]) / len(daily_returns)\n",
    "print(pr_success)\n",
    "events = pd.Series([0]*len(daily_returns), index = daily_returns.index)\n",
    "events[daily_returns>=q75] = 1\n",
    "events\n",
    "\n",
    "nifty['daily_ret_signal'] = events"
   ]
  },
  {
   "cell_type": "code",
   "execution_count": 95,
   "id": "7c839d9a",
   "metadata": {},
   "outputs": [],
   "source": [
    "# nifty['daily_returns'] = nifty.Close.pct_change().mul(100)\n",
    "# q75 = nifty['daily_returns'].quantile(0.75)\n",
    "# nifty['daily_ret_signal'] = nifty['daily_returns'] >= q75\n",
    "# nifty['daily_ret_signal'] = nifty['daily_ret_signal'].astype(int)\n",
    "# nifty\n",
    "\n",
    "daily_returns = nifty['Close'].pct_change().mul(100).copy()\n",
    "q = daily_returns.quantile([0.25, .5, .75])\n",
    "print(q)\n",
    "pr_success = len(daily_returns[daily_returns>q75]) / len(daily_returns)\n",
    "print(pr_success)\n",
    "events = pd.Series([0]*len(daily_returns), index = daily_returns.index)\n",
    "events[daily_returns>=q75] = 1\n",
    "events\n",
    "\n",
    "nifty['daily_ret_signal'] = events"
   ]
  },
  {
   "cell_type": "code",
   "execution_count": 96,
   "id": "53c24eac",
   "metadata": {},
   "outputs": [],
   "source": [
    "# nifty['daily_returns'] = nifty.Close.pct_change().mul(100)\n",
    "# q75 = nifty['daily_returns'].quantile(0.75)\n",
    "# nifty['daily_ret_signal'] = nifty['daily_returns'] >= q75\n",
    "# nifty['daily_ret_signal'] = nifty['daily_ret_signal'].astype(int)\n",
    "# nifty\n",
    "\n",
    "daily_returns = nifty['Close'].pct_change().mul(100).copy()\n",
    "q75 = daily_returns.quantile(.75)\n",
    "print(q75)\n",
    "pr_success = len(daily_returns[daily_returns>q75]) / len(daily_returns)\n",
    "print(pr_success)\n",
    "events = pd.Series([0]*len(daily_returns), index = daily_returns.index)\n",
    "events[daily_returns>=q75] = 1\n",
    "events\n",
    "\n",
    "nifty['daily_ret_signal'] = events"
   ]
  },
  {
   "cell_type": "code",
   "execution_count": 97,
   "id": "23476efc",
   "metadata": {},
   "outputs": [],
   "source": [
    "# nifty['daily_returns'] = nifty.Close.pct_change().mul(100)\n",
    "# q75 = nifty['daily_returns'].quantile(0.75)\n",
    "# nifty['daily_ret_signal'] = nifty['daily_returns'] >= q75\n",
    "# nifty['daily_ret_signal'] = nifty['daily_ret_signal'].astype(int)\n",
    "# nifty\n",
    "\n",
    "daily_returns = nifty['Close'].pct_change().mul(100).copy()\n",
    "q75 = daily_returns.quantile(.75)\n",
    "print(q75)\n",
    "pr_success = len(daily_returns[daily_returns>=q75]) / len(daily_returns)\n",
    "print(pr_success)\n",
    "events = pd.Series([0]*len(daily_returns), index = daily_returns.index)\n",
    "events[daily_returns>=q75] = 1\n",
    "events\n",
    "\n",
    "nifty['daily_ret_signal'] = events"
   ]
  },
  {
   "cell_type": "code",
   "execution_count": 98,
   "id": "57a40aca",
   "metadata": {},
   "outputs": [],
   "source": [
    "# nifty['vol_change'] = nifty.Volume.pct_change().mul(100)\n",
    "# q75 = nifty['vol_change'].quantile(0.75)\n",
    "# nifty['vol_change_signal'] = nifty['vol_change'] >= q75\n",
    "# nifty.replace(to_replace={\n",
    "#   'vol_change_signal': {True: 1, False: 0}\n",
    "# }, inplace=True)\n",
    "# nifty\n",
    "\n",
    "vol_change = nifty['Volume'].pct_change().copy()\n",
    "q75 = vol_change.quantile(.75)\n",
    "print(q75)\n",
    "vol_success = len(vol_change[vol_change>=q75]) / len(vol_change)\n",
    "print(vol_success)\n",
    "events = pd.Series([0]*len(vol_change), index = vol_change.index)\n",
    "events[vol_change>=q75] = 1\n",
    "events\n",
    "\n",
    "nifty['vol_change_signal'] = events\n",
    "nifty"
   ]
  },
  {
   "cell_type": "code",
   "execution_count": 99,
   "id": "eddcb726",
   "metadata": {},
   "outputs": [],
   "source": [
    "# nifty['vol_change'] = nifty.Volume.pct_change().mul(100)\n",
    "# q75 = nifty['vol_change'].quantile(0.75)\n",
    "# nifty['vol_change_signal'] = nifty['vol_change'] >= q75\n",
    "# nifty.replace(to_replace={\n",
    "#   'vol_change_signal': {True: 1, False: 0}\n",
    "# }, inplace=True)\n",
    "# nifty\n",
    "\n",
    "vol_change = nifty['Volume'].pct_change().mul(100).copy()\n",
    "q75 = vol_change.quantile(.75)\n",
    "print(q75)\n",
    "vol_success = len(vol_change[vol_change>=q75]) / len(vol_change)\n",
    "print(vol_success)\n",
    "events = pd.Series([0]*len(vol_change), index = vol_change.index)\n",
    "events[vol_change>=q75] = 1\n",
    "events\n",
    "\n",
    "nifty['vol_change_signal'] = events\n",
    "nifty"
   ]
  },
  {
   "cell_type": "code",
   "execution_count": 100,
   "id": "07d059bb",
   "metadata": {},
   "outputs": [],
   "source": [
    "nifty_corr = pd.crosstab(nifty['vol_change_signal'], nifty['daily_ret_signal'], margins=False)\n",
    "nifty_corr"
   ]
  },
  {
   "cell_type": "code",
   "execution_count": 101,
   "id": "66c36162",
   "metadata": {},
   "outputs": [],
   "source": [
    "p_success = 0.25014442518775276\n",
    "days = 7\n",
    "\n",
    "prob_pmf = binom.pmf(2, days, p_success)\n",
    "prob_pmf\n",
    "# prob_cdf = binom.cdf(12, 30, p_success)"
   ]
  },
  {
   "cell_type": "code",
   "execution_count": 102,
   "id": "df2c8eb1",
   "metadata": {},
   "outputs": [],
   "source": [
    "prob_cdf = binom.cdf(15, 30, 0.25014442518775276)\n",
    "prob_cdf"
   ]
  },
  {
   "cell_type": "code",
   "execution_count": 103,
   "id": "5d924ece",
   "metadata": {},
   "outputs": [],
   "source": [
    "aggs = nifty['Close'].pct_change().mul(100).aggs(['mean', 'std'])\n",
    "print(aggs)\n",
    "risk = norm.ppf(0.05, mean_return, std)\n",
    "\n",
    "print(\"Value at Risk: \", risk)"
   ]
  },
  {
   "cell_type": "code",
   "execution_count": 104,
   "id": "56b966c2",
   "metadata": {},
   "outputs": [],
   "source": [
    "aggs = nifty['Close'].pct_change().mul(100).aggs(['mean', 'std'])\n",
    "print(aggs)\n",
    "# risk = norm.ppf(0.05, mean_return, std)\n",
    "\n",
    "# print(\"Value at Risk: \", risk)"
   ]
  },
  {
   "cell_type": "code",
   "execution_count": 105,
   "id": "fff1d44d",
   "metadata": {},
   "outputs": [],
   "source": [
    "aggs = nifty['Close'].pct_change().aggs(['mean', 'std'])\n",
    "print(aggs)\n",
    "# risk = norm.ppf(0.05, mean_return, std)\n",
    "\n",
    "# print(\"Value at Risk: \", risk)"
   ]
  },
  {
   "cell_type": "code",
   "execution_count": 106,
   "id": "0076ec16",
   "metadata": {},
   "outputs": [],
   "source": [
    "aggs = nifty['Close'].pct_change().agg(['mean', 'std'])\n",
    "print(aggs)\n",
    "# risk = norm.ppf(0.05, mean_return, std)\n",
    "\n",
    "# print(\"Value at Risk: \", risk)"
   ]
  },
  {
   "cell_type": "code",
   "execution_count": 107,
   "id": "0ced3665",
   "metadata": {},
   "outputs": [],
   "source": [
    "aggs = nifty['Close'].pct_change().agg(['mean', 'std'])\n",
    "print(aggs)\n",
    "risk = norm.ppf(0.05, 0.000497, 0.014115)\n",
    "\n",
    "print(\"Value at Risk: \", risk)"
   ]
  },
  {
   "cell_type": "code",
   "execution_count": 108,
   "id": "ac3e8e1a",
   "metadata": {},
   "outputs": [],
   "source": [
    "aggs = nifty['Close'].pct_change().mul(100).agg(['mean', 'std'])\n",
    "print(aggs)\n",
    "risk = norm.ppf(0.05, 0.000497, 0.014115)\n",
    "\n",
    "print(\"Value at Risk: \", risk)"
   ]
  },
  {
   "cell_type": "code",
   "execution_count": 109,
   "id": "a5a707bd",
   "metadata": {},
   "outputs": [],
   "source": [
    "nifty['daily_returns'] = daily_returns\n",
    "nifty"
   ]
  },
  {
   "cell_type": "code",
   "execution_count": 110,
   "id": "c94419d0",
   "metadata": {},
   "outputs": [],
   "source": [
    "diff = daily_returns.diff()\n",
    "diff"
   ]
  },
  {
   "cell_type": "code",
   "execution_count": 111,
   "id": "81b3eb50",
   "metadata": {},
   "outputs": [],
   "source": [
    "diff = daily_returns.diff()\n",
    "diff[diff < -2]"
   ]
  },
  {
   "cell_type": "code",
   "execution_count": 112,
   "id": "87ee01c7",
   "metadata": {},
   "outputs": [],
   "source": [
    "diff = daily_returns.diff()\n",
    "len(diff[diff < -2])/len(diff)"
   ]
  },
  {
   "cell_type": "code",
   "execution_count": 113,
   "id": "ceb57705",
   "metadata": {},
   "outputs": [],
   "source": [
    "norm.cdf(2)"
   ]
  },
  {
   "cell_type": "code",
   "execution_count": 114,
   "id": "43a5c754",
   "metadata": {},
   "outputs": [],
   "source": [
    "diff = daily_returns.diff()\n",
    "len(daily_returns[daily_returns < -2])/len(daily_returns)"
   ]
  },
  {
   "cell_type": "code",
   "execution_count": 115,
   "id": "3d4bb24f",
   "metadata": {},
   "outputs": [],
   "source": [
    "daily_returns\n",
    "len(daily_returns[daily_returns < -2])/len(daily_returns)"
   ]
  },
  {
   "cell_type": "code",
   "execution_count": 116,
   "id": "c31fa515",
   "metadata": {},
   "outputs": [],
   "source": [
    "print(daily_returns)\n",
    "len(daily_returns[daily_returns < -2])/len(daily_returns)"
   ]
  },
  {
   "cell_type": "code",
   "execution_count": 117,
   "id": "23106535",
   "metadata": {},
   "outputs": [],
   "source": [
    "print(daily_returns)\n",
    "len(daily_returns[daily_returns < -2])/len(daily_returns)\n",
    "daily_returns[daily_returns < -2]"
   ]
  },
  {
   "cell_type": "code",
   "execution_count": 118,
   "id": "2dbe0dd3",
   "metadata": {},
   "outputs": [],
   "source": [
    "norm.cdf(-2)"
   ]
  },
  {
   "cell_type": "code",
   "execution_count": 119,
   "id": "c425a728",
   "metadata": {},
   "outputs": [],
   "source": [
    "nifty_price = nifty['Close']\n",
    "nifty_volume = nifty['Volume']\n",
    "\n",
    "print(nifty_price)\n",
    "# nifty.replace(to_replace={\n",
    "#   'Volume':{0: np.nan, '0': np.nan}\n",
    "# }, inplace=True)\n",
    "\n",
    "# nifty.fillna(method='bfill', inplace=True)\n",
    "\n",
    "# nifty.dropna(inplace=True)\n",
    "# print(nifty.isna().any())"
   ]
  },
  {
   "cell_type": "code",
   "execution_count": 120,
   "id": "d4785a4b",
   "metadata": {},
   "outputs": [],
   "source": [
    "nifty_price = nifty['Close']\n",
    "nifty_volume = nifty['Volume']\n",
    "\n",
    "print(nifty_price)\n",
    "print(nifty_volume)\n",
    "# nifty.replace(to_replace={\n",
    "#   'Volume':{0: np.nan, '0': np.nan}\n",
    "# }, inplace=True)\n",
    "\n",
    "# nifty.fillna(method='bfill', inplace=True)\n",
    "\n",
    "# nifty.dropna(inplace=True)\n",
    "# print(nifty.isna().any())"
   ]
  },
  {
   "cell_type": "code",
   "execution_count": 121,
   "id": "f13d58ba",
   "metadata": {},
   "outputs": [],
   "source": [
    "nifty_price = nifty['Close']\n",
    "nifty_volume = nifty['Volume']\n",
    "\n",
    "print(nifty_price)\n",
    "print(nifty_volume)\n",
    "# nifty.replace(to_replace={\n",
    "#   'Volume':{0: np.nan, '0': np.nan}\n",
    "# }, inplace=True)\n",
    "\n",
    "# nifty.fillna(method='bfill', inplace=True)\n",
    "\n",
    "# nifty.dropna(inplace=True)\n",
    "print(nifty_volume.isna())"
   ]
  },
  {
   "cell_type": "code",
   "execution_count": 122,
   "id": "0d9a09df",
   "metadata": {},
   "outputs": [],
   "source": [
    "nifty_price = nifty['Close']\n",
    "nifty_volume = nifty['Volume']\n",
    "\n",
    "print(nifty_price)\n",
    "print(nifty_volume)\n",
    "# nifty.replace(to_replace={\n",
    "#   'Volume':{0: np.nan, '0': np.nan}\n",
    "# }, inplace=True)\n",
    "\n",
    "# nifty.fillna(method='bfill', inplace=True)\n",
    "\n",
    "# nifty.dropna(inplace=True)\n",
    "print(nifty_volume.isna().any())"
   ]
  },
  {
   "cell_type": "code",
   "execution_count": 123,
   "id": "0e923f4a",
   "metadata": {},
   "outputs": [],
   "source": [
    "nifty = yf.download('^NSEI', end='2021-11-21')\n",
    "\n",
    "nifty.tail()"
   ]
  },
  {
   "cell_type": "code",
   "execution_count": 124,
   "id": "4c171c62",
   "metadata": {},
   "outputs": [],
   "source": [
    "nifty_price = nifty['Close']\n",
    "nifty_volume = nifty['Volume']\n",
    "\n",
    "print(nifty_price)\n",
    "print(nifty_volume)\n",
    "# nifty.replace(to_replace={\n",
    "#   'Volume':{0: np.nan, '0': np.nan}\n",
    "# }, inplace=True)\n",
    "\n",
    "# nifty.fillna(method='bfill', inplace=True)\n",
    "\n",
    "# nifty.dropna(inplace=True)\n",
    "print(nifty_volume.isna().any())"
   ]
  },
  {
   "cell_type": "code",
   "execution_count": 125,
   "id": "91245fc4",
   "metadata": {},
   "outputs": [],
   "source": [
    "nifty_price = nifty['Close']\n",
    "nifty_volume = nifty['Volume']\n",
    "\n",
    "print(nifty_price)\n",
    "print(nifty_volume)\n",
    "nifty_volume.replace(0, np.nan)\n",
    "\n",
    "# nifty.fillna(method='bfill', inplace=True)\n",
    "\n",
    "# nifty.dropna(inplace=True)\n",
    "print(nifty_volume.isna().any())"
   ]
  },
  {
   "cell_type": "code",
   "execution_count": 126,
   "id": "9c419cbb",
   "metadata": {},
   "outputs": [],
   "source": [
    "nifty_price = nifty['Close']\n",
    "nifty_volume = nifty['Volume']\n",
    "\n",
    "print(nifty_price)\n",
    "print(nifty_volume)\n",
    "nifty_volume.replace(0, np.nan, inplace=True)\n",
    "\n",
    "# nifty.fillna(method='bfill', inplace=True)\n",
    "\n",
    "# nifty.dropna(inplace=True)\n",
    "print(nifty_volume.isna().any())"
   ]
  },
  {
   "cell_type": "code",
   "execution_count": 127,
   "id": "6fb703b4",
   "metadata": {},
   "outputs": [],
   "source": [
    "nifty_price = nifty['Close']\n",
    "nifty_volume = nifty['Volume']\n",
    "\n",
    "print(nifty_price)\n",
    "nifty_volume.replace(0, np.nan, inplace=True)\n",
    "print(nifty_volume)\n",
    "\n",
    "# nifty.fillna(method='bfill', inplace=True)\n",
    "\n",
    "# nifty.dropna(inplace=True)\n",
    "print(nifty_volume.isna().any())"
   ]
  },
  {
   "cell_type": "code",
   "execution_count": 128,
   "id": "0c71d0ea",
   "metadata": {},
   "outputs": [],
   "source": [
    "nifty_price = nifty['Close']\n",
    "nifty_volume = nifty['Volume']\n",
    "\n",
    "print(nifty_price)\n",
    "nifty_volume.replace(0, np.nan, inplace=True)\n",
    "print(nifty_volume)\n",
    "\n",
    "nifty_volume.fillna(method='ffill', inplace=True)\n",
    "\n",
    "# nifty.dropna(inplace=True)\n",
    "print(nifty_volume.isna().any())"
   ]
  },
  {
   "cell_type": "code",
   "execution_count": 129,
   "id": "b4aad3e8",
   "metadata": {},
   "outputs": [],
   "source": [
    "nifty_price = nifty['Close']\n",
    "nifty_volume = nifty['Volume']\n",
    "\n",
    "nifty_volume.replace(0, np.nan, inplace=True)\n",
    "nifty_volume.fillna(method='ffill', inplace=True)\n",
    "\n",
    "nifty_volume.dropna(inplace=True)\n",
    "print(nifty_volume.isna().any())"
   ]
  },
  {
   "cell_type": "code",
   "execution_count": 130,
   "id": "58dd1adb",
   "metadata": {},
   "outputs": [],
   "source": [
    "nifty_price = nifty['Close']\n",
    "nifty_volume = nifty['Volume']\n",
    "\n",
    "nifty_volume.replace(0, np.nan, inplace=True)\n",
    "nifty_volume.fillna(method='ffill', inplace=True)\n",
    "\n",
    "nifty_volume.dropna(inplace=True)\n",
    "print(nifty_volume.isna())"
   ]
  },
  {
   "cell_type": "code",
   "execution_count": 131,
   "id": "a7f2bb48",
   "metadata": {},
   "outputs": [],
   "source": [
    "nifty_price = nifty['Close']\n",
    "nifty_volume = nifty['Volume']\n",
    "\n",
    "nifty_volume.replace(0, np.nan, inplace=True)\n",
    "nifty_volume.fillna(method='ffill', inplace=True)\n",
    "\n",
    "nifty_volume.dropna(inplace=True)\n",
    "print(nifty_volume.isna().any())"
   ]
  },
  {
   "cell_type": "code",
   "execution_count": 132,
   "id": "3d064917",
   "metadata": {},
   "outputs": [],
   "source": [
    "# nifty['daily_returns'] = nifty.Close.pct_change().mul(100)\n",
    "# q75 = nifty['daily_returns'].quantile(0.75)\n",
    "# nifty['daily_ret_signal'] = nifty['daily_returns'] >= q75\n",
    "# nifty['daily_ret_signal'] = nifty['daily_ret_signal'].astype(int)\n",
    "# nifty\n",
    "\n",
    "daily_returns = nifty_price.pct_change().mul(100).copy()\n",
    "q75 = daily_returns.quantile(.75)\n",
    "print(q75)\n",
    "pr_success = len(daily_returns[daily_returns>=q75]) / len(daily_returns)\n",
    "print(pr_success)\n",
    "events = pd.Series([0]*len(daily_returns), index = daily_returns.index)\n",
    "events[daily_returns>=q75] = 1\n",
    "events\n",
    "df = pd.DataFrame()\n",
    "df['daily_ret_signal'] = events\n",
    "df"
   ]
  },
  {
   "cell_type": "code",
   "execution_count": 133,
   "id": "a014b3fe",
   "metadata": {},
   "outputs": [],
   "source": [
    "# nifty['vol_change'] = nifty.Volume.pct_change().mul(100)\n",
    "# q75 = nifty['vol_change'].quantile(0.75)\n",
    "# nifty['vol_change_signal'] = nifty['vol_change'] >= q75\n",
    "# nifty.replace(to_replace={\n",
    "#   'vol_change_signal': {True: 1, False: 0}\n",
    "# }, inplace=True)\n",
    "# nifty\n",
    "\n",
    "vol_change = nifty_volume.pct_change().mul(100).copy()\n",
    "q75 = vol_change.quantile(.75)\n",
    "print(q75)\n",
    "vol_success = len(vol_change[vol_change>=q75]) / len(vol_change)\n",
    "print(vol_success)\n",
    "events = pd.Series([0]*len(vol_change), index = vol_change.index)\n",
    "events[vol_change>=q75] = 1\n",
    "events\n",
    "\n",
    "df['vol_change_signal'] = events\n",
    "df"
   ]
  },
  {
   "cell_type": "code",
   "execution_count": 134,
   "id": "c15eac20",
   "metadata": {},
   "outputs": [],
   "source": [
    "nifty_price = nifty['Close']\n",
    "nifty_volume = nifty['Volume']\n",
    "\n",
    "nifty_volume.replace(0, np.nan, inplace=True)\n",
    "nifty_volume.fillna(method='ffill', inplace=True)\n",
    "\n",
    "nifty_volume.dropna(inplace=True)\n",
    "print(nifty_volume.isna().any())\n",
    "nifty_volume"
   ]
  },
  {
   "cell_type": "code",
   "execution_count": 135,
   "id": "f8a5699a",
   "metadata": {},
   "outputs": [],
   "source": [
    "# nifty['vol_change'] = nifty.Volume.pct_change().mul(100)\n",
    "# q75 = nifty['vol_change'].quantile(0.75)\n",
    "# nifty['vol_change_signal'] = nifty['vol_change'] >= q75\n",
    "# nifty.replace(to_replace={\n",
    "#   'vol_change_signal': {True: 1, False: 0}\n",
    "# }, inplace=True)\n",
    "# nifty\n",
    "\n",
    "vol_change = nifty_volume.pct_change().mul(100).copy()\n",
    "print(vol_change)\n",
    "q75 = vol_change.quantile(.75)\n",
    "print(q75)\n",
    "vol_success = len(vol_change[vol_change>=q75]) / len(vol_change)\n",
    "print(vol_success)\n",
    "events = pd.Series([0]*len(vol_change), index = vol_change.index)\n",
    "events[vol_change>=q75] = 1\n",
    "events\n",
    "\n",
    "df['vol_change_signal'] = events\n",
    "df"
   ]
  },
  {
   "cell_type": "code",
   "execution_count": 136,
   "id": "48370fb3",
   "metadata": {},
   "outputs": [],
   "source": [
    "nifty_corr = pd.crosstab(df['vol_change_signal'], df['daily_ret_signal'], margins=False)\n",
    "nifty_corr"
   ]
  },
  {
   "cell_type": "code",
   "execution_count": 137,
   "id": "b9b499d5",
   "metadata": {},
   "outputs": [],
   "source": [
    "# nifty['daily_returns'] = nifty.Close.pct_change().mul(100)\n",
    "# q75 = nifty['daily_returns'].quantile(0.75)\n",
    "# nifty['daily_ret_signal'] = nifty['daily_returns'] >= q75\n",
    "# nifty['daily_ret_signal'] = nifty['daily_ret_signal'].astype(int)\n",
    "# nifty\n",
    "\n",
    "daily_returns = nifty_price.pct_change().mul(100).copy()\n",
    "q75 = daily_returns.quantile(.75)\n",
    "print(q75)\n",
    "events = pd.Series([0]*len(daily_returns), index = daily_returns.index)\n",
    "events[daily_returns>=q75] = 1\n",
    "events\n",
    "\n",
    "pr_success = len(events[events>0]) / len(events)\n",
    "print(pr_success)\n",
    "\n",
    "df = pd.DataFrame()\n",
    "df['daily_ret_signal'] = events\n",
    "df"
   ]
  },
  {
   "cell_type": "code",
   "execution_count": 138,
   "id": "207d44fe",
   "metadata": {},
   "outputs": [],
   "source": [
    "nifty_corr = pd.crosstab(df['vol_change_signal'], df['daily_ret_signal'], normalize=True)\n",
    "nifty_corr"
   ]
  },
  {
   "cell_type": "code",
   "execution_count": 139,
   "id": "d620801c",
   "metadata": {},
   "outputs": [],
   "source": [
    "# nifty['vol_change'] = nifty.Volume.pct_change().mul(100)\n",
    "# q75 = nifty['vol_change'].quantile(0.75)\n",
    "# nifty['vol_change_signal'] = nifty['vol_change'] >= q75\n",
    "# nifty.replace(to_replace={\n",
    "#   'vol_change_signal': {True: 1, False: 0}\n",
    "# }, inplace=True)\n",
    "# nifty\n",
    "\n",
    "vol_change = nifty_volume.pct_change().mul(100).copy()\n",
    "print(vol_change)\n",
    "q75 = vol_change.quantile(.75)\n",
    "print(q75)\n",
    "vol_success = len(vol_change[vol_change>=q75]) / len(vol_change)\n",
    "print(vol_success)\n",
    "events = pd.Series([0]*len(vol_change), index = vol_change.index)\n",
    "events[vol_change>=q75] = 1\n",
    "events\n",
    "\n",
    "df['vol_change_signal'] = events\n",
    "df"
   ]
  },
  {
   "cell_type": "code",
   "execution_count": 140,
   "id": "1fa32b28",
   "metadata": {},
   "outputs": [],
   "source": [
    "# nifty['daily_returns'] = nifty.Close.pct_change().mul(100)\n",
    "# q75 = nifty['daily_returns'].quantile(0.75)\n",
    "# nifty['daily_ret_signal'] = nifty['daily_returns'] >= q75\n",
    "# nifty['daily_ret_signal'] = nifty['daily_ret_signal'].astype(int)\n",
    "# nifty\n",
    "\n",
    "daily_returns = nifty_price.pct_change().mul(100).copy()\n",
    "q75 = daily_returns.quantile(.75)\n",
    "print(q75)\n",
    "events = pd.Series([0]*len(daily_returns), index = daily_returns.index)\n",
    "events[daily_returns>=q75] = 1\n",
    "events\n",
    "\n",
    "pr_success = len(events[events>0]) / len(events)\n",
    "print(pr_success)\n",
    "\n",
    "df = pd.DataFrame()\n",
    "df['daily_ret_signal'] = events\n",
    "df"
   ]
  },
  {
   "cell_type": "code",
   "execution_count": 141,
   "id": "24ffafed",
   "metadata": {},
   "outputs": [],
   "source": [
    "nifty_corr = pd.crosstab(df['vol_change_signal'], df['daily_ret_signal'], normalize=True)\n",
    "nifty_corr"
   ]
  },
  {
   "cell_type": "code",
   "execution_count": 142,
   "id": "a764f417",
   "metadata": {},
   "outputs": [],
   "source": [
    "nifty_corr = pd.crosstab(df['vol_change_signal'], df['daily_ret_signal'])\n",
    "nifty_corr"
   ]
  },
  {
   "cell_type": "code",
   "execution_count": 143,
   "id": "713d4da9",
   "metadata": {},
   "outputs": [],
   "source": [
    "#@title Please enter your registration id to start: { run: \"auto\", display-mode: \"form\" }\n",
    "Id = \"you can get your id from the dashboard\" #@param {type:\"string\"}"
   ]
  },
  {
   "cell_type": "code",
   "execution_count": 144,
   "id": "c77662f5",
   "metadata": {},
   "outputs": [],
   "source": [
    "#@title Please enter your password (your registered phone number) to continue: { run: \"auto\", display-mode: \"form\" }\n",
    "password = \"your registered mobile number\" #@param {type:\"string\"}"
   ]
  }
 ],
 "metadata": {},
 "nbformat": 4,
 "nbformat_minor": 5
}
