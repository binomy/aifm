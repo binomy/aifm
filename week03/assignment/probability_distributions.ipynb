{
  "cells": [
    {
      "cell_type": "markdown",
      "metadata": {
        "id": "Vf7UdufgUVRm"
      },
      "source": [
        "# Advanced Program in AI for Financial Markets\n",
        "## A program by NSE Academy & TalentSprint\n",
        "### Assignment :  Probability distributions"
      ]
    },
    {
      "cell_type": "markdown",
      "metadata": {
        "id": "BNLA8HiKxQhc"
      },
      "source": [
        "### Setup Steps:"
      ]
    },
    {
      "cell_type": "code",
      "execution_count": 143,
      "metadata": {
        "id": "2YzfoPvJDiTX"
      },
      "outputs": [],
      "source": [
        "#@title Please enter your registration id to start: { run: \"auto\", display-mode: \"form\" }\n",
        "Id = \"you can get your id from the dashboard\" #@param {type:\"string\"}"
      ]
    },
    {
      "cell_type": "code",
      "execution_count": 144,
      "metadata": {
        "id": "AjoZJWGErxGf"
      },
      "outputs": [],
      "source": [
        "#@title Please enter your password (your registered phone number) to continue: { run: \"auto\", display-mode: \"form\" }\n",
        "password = \"your registered mobile number\" #@param {type:\"string\"}"
      ]
    },
    {
      "cell_type": "code",
      "execution_count": 145,
      "metadata": {
        "cellView": "form",
        "id": "WBPPuGmBlDIN"
      },
      "outputs": [
        {
          "name": "stdout",
          "output_type": "stream",
          "text": [
            "Please enter valid Id\n"
          ]
        }
      ],
      "source": [
        "#@title Run this cell to complete the setup for this Notebook\n",
        "from IPython import get_ipython\n",
        "\n",
        "ipython = get_ipython()\n",
        "  \n",
        "notebook= \"20211122_AIFM_C1_Week3_ProbabilityDistributions\" #name of the notebook\n",
        "\n",
        "def setup():\n",
        "#  ipython.magic(\"sx pip3 install torch\")  \n",
        "    \n",
        "    from IPython.display import HTML, display\n",
        "    display(HTML('<script src=\"https://dashboard.talentsprint.com/aiml/record_ip.html?traineeId={0}&recordId={1}\"></script>'.format(getId(),submission_id)))\n",
        "    print(\"Setup completed successfully\")\n",
        "    return\n",
        "\n",
        "def submit_notebook():\n",
        "    ipython.magic(\"notebook -e \"+ notebook + \".ipynb\")\n",
        "    \n",
        "    import requests, json, base64, datetime\n",
        "\n",
        "    url = \"https://dashboard.talentsprint.com/xp/app/save_notebook_attempts\"\n",
        "    if not submission_id:\n",
        "      data = {\"id\" : getId(), \"notebook\" : notebook, \"mobile\" : getPassword()}\n",
        "      r = requests.post(url, data = data)\n",
        "      r = json.loads(r.text)\n",
        "\n",
        "      if r[\"status\"] == \"Success\":\n",
        "          return r[\"record_id\"]\n",
        "      elif \"err\" in r:        \n",
        "        print(r[\"err\"])\n",
        "        return None        \n",
        "      else:\n",
        "        print (\"Something is wrong, the notebook will not be submitted for grading\")\n",
        "        return None\n",
        "    \n",
        "    elif getAnswer1() and getAnswer2() and getAnswer3() and getAnswer4() and getAnswer5() and getComplexity() and getAdditional() and getConcepts() and getComments() and getMentorSupport():\n",
        "      f = open(notebook + \".ipynb\", \"rb\")\n",
        "      file_hash = base64.b64encode(f.read())\n",
        "\n",
        "      data = {\"complexity\" : Complexity, \"additional\" :Additional, \n",
        "              \"concepts\" : Concepts, \"record_id\" : submission_id, \n",
        "              \"answer1\" : Answer1, \"answer2\" : Answer2,\n",
        "              \"answer3\" : Answer3,\"answer4\" : Answer4,\"answer5\" : Answer5,\n",
        "              \"id\" : Id, \"file_hash\" : file_hash,\n",
        "              \"notebook\" : notebook,\n",
        "              \"feedback_experiments_input\" : Comments,\n",
        "              \"feedback_mentor_support\": Mentor_support}\n",
        "      r = requests.post(url, data = data)\n",
        "      r = json.loads(r.text)\n",
        "      if \"err\" in r:        \n",
        "        print(r[\"err\"])\n",
        "        return None   \n",
        "      else:\n",
        "        print(\"Your submission is successful.\")\n",
        "        print(\"Ref Id:\", submission_id)\n",
        "        print(\"Date of submission: \", r[\"date\"])\n",
        "        print(\"Time of submission: \", r[\"time\"])\n",
        "        print(\"View your submissions: http://aifm.nse.talentsprint.com/notebook_submissions\")\n",
        "        #print(\"For any queries/discrepancies, please connect with mentors through the chat icon in LMS dashboard.\")\n",
        "        return submission_id\n",
        "    else: submission_id\n",
        "    \n",
        "\n",
        "def getAdditional():\n",
        "  try:\n",
        "    if not Additional: \n",
        "      raise NameError\n",
        "    else:\n",
        "      return Additional  \n",
        "  except NameError:\n",
        "    print (\"Please answer Additional Question\")\n",
        "    return None\n",
        "\n",
        "def getComplexity():\n",
        "  try:\n",
        "    if not Complexity:\n",
        "      raise NameError\n",
        "    else:\n",
        "      return Complexity\n",
        "  except NameError:\n",
        "    print (\"Please answer Complexity Question\")\n",
        "    return None\n",
        "  \n",
        "def getConcepts():\n",
        "  try:\n",
        "    if not Concepts:\n",
        "      raise NameError\n",
        "    else:\n",
        "      return Concepts\n",
        "  except NameError:\n",
        "    print (\"Please answer Concepts Question\")\n",
        "    return None\n",
        "  \n",
        "  \n",
        "# def getWalkthrough():\n",
        "#   try:\n",
        "#     if not Walkthrough:\n",
        "#       raise NameError\n",
        "#     else:\n",
        "#       return Walkthrough\n",
        "#   except NameError:\n",
        "#     print (\"Please answer Walkthrough Question\")\n",
        "#     return None\n",
        "  \n",
        "def getComments():\n",
        "  try:\n",
        "    if not Comments:\n",
        "      raise NameError\n",
        "    else:\n",
        "      return Comments\n",
        "  except NameError:\n",
        "    print (\"Please answer Comments Question\")\n",
        "    return None\n",
        "  \n",
        "\n",
        "def getMentorSupport():\n",
        "  try:\n",
        "    if not Mentor_support:\n",
        "      raise NameError\n",
        "    else:\n",
        "      return Mentor_support\n",
        "  except NameError:\n",
        "    print (\"Please answer Mentor support Question\")\n",
        "    return None\n",
        "\n",
        "def getAnswer1():\n",
        "  try:\n",
        "    if not Answer1:\n",
        "      raise NameError \n",
        "    else: \n",
        "      return Answer1\n",
        "  except NameError:\n",
        "    print (\"Please answer Question1\")\n",
        "    return None\n",
        "\n",
        "def getAnswer2():\n",
        "  try:\n",
        "    if not Answer2:\n",
        "      raise NameError \n",
        "    else: \n",
        "      return Answer2\n",
        "  except NameError:\n",
        "    print (\"Please answer Question2\")\n",
        "    return None\n",
        "\n",
        "def getAnswer3():\n",
        "  try:\n",
        "    if not Answer3:\n",
        "      raise NameError \n",
        "    else: \n",
        "      return Answer3\n",
        "  except NameError:\n",
        "    print (\"Please answer Question3\")\n",
        "    return None\n",
        "\n",
        "def getAnswer4():\n",
        "  try:\n",
        "    if not Answer4:\n",
        "      raise NameError \n",
        "    else: \n",
        "      return Answer4\n",
        "  except NameError:\n",
        "    print (\"Please answer Question4\")\n",
        "    return None\n",
        "\n",
        "def getAnswer5():\n",
        "  try:\n",
        "    if not Answer5:\n",
        "      raise NameError \n",
        "    else: \n",
        "      return Answer5\n",
        "  except NameError:\n",
        "    print (\"Please answer Question5\")\n",
        "    return None\n",
        "\n",
        "def getId():\n",
        "  try: \n",
        "    return Id if Id else None\n",
        "  except NameError:\n",
        "    return None\n",
        "\n",
        "def getPassword():\n",
        "  try:\n",
        "    return password if password else None\n",
        "  except NameError:\n",
        "    return None\n",
        "\n",
        "submission_id = None\n",
        "### Setup \n",
        "if getPassword() and getId():\n",
        "  submission_id = submit_notebook()\n",
        "  if submission_id:\n",
        "    setup() \n",
        "else:\n",
        "  print (\"Please complete Id and Password cells before running setup\")\n",
        "\n"
      ]
    },
    {
      "cell_type": "markdown",
      "metadata": {
        "id": "ONVSuUdcD5Vw"
      },
      "source": [
        "# 1) Install yfinance module"
      ]
    },
    {
      "cell_type": "code",
      "execution_count": 146,
      "metadata": {
        "id": "beZO75wpZzPk"
      },
      "outputs": [],
      "source": [
        "# Your code here"
      ]
    },
    {
      "cell_type": "markdown",
      "metadata": {
        "id": "trIg6TPEHi_k"
      },
      "source": [
        "# 2) Import the following modules yfinance, pandas, numpy and (binom, norm) from scipy.stats"
      ]
    },
    {
      "cell_type": "code",
      "execution_count": 147,
      "metadata": {
        "id": "7MDd-UUDHmlW"
      },
      "outputs": [],
      "source": [
        "import yfinance as yf\n",
        "import pandas as pd\n",
        "import numpy as np\n",
        "from scipy.stats import binom, norm"
      ]
    },
    {
      "cell_type": "markdown",
      "metadata": {
        "id": "uplX1GfPHkSv"
      },
      "source": [
        "# 3) Download the nifty data from yfinance\n",
        "\n",
        "Keep the records till 2021-11-21 only"
      ]
    },
    {
      "cell_type": "code",
      "execution_count": 148,
      "metadata": {
        "id": "dO677z76Hf5O"
      },
      "outputs": [
        {
          "name": "stdout",
          "output_type": "stream",
          "text": [
            "[*********************100%***********************]  1 of 1 completed\n"
          ]
        },
        {
          "data": {
            "text/html": [
              "<div>\n",
              "<style scoped>\n",
              "    .dataframe tbody tr th:only-of-type {\n",
              "        vertical-align: middle;\n",
              "    }\n",
              "\n",
              "    .dataframe tbody tr th {\n",
              "        vertical-align: top;\n",
              "    }\n",
              "\n",
              "    .dataframe thead th {\n",
              "        text-align: right;\n",
              "    }\n",
              "</style>\n",
              "<table border=\"1\" class=\"dataframe\">\n",
              "  <thead>\n",
              "    <tr style=\"text-align: right;\">\n",
              "      <th></th>\n",
              "      <th>Open</th>\n",
              "      <th>High</th>\n",
              "      <th>Low</th>\n",
              "      <th>Close</th>\n",
              "      <th>Adj Close</th>\n",
              "      <th>Volume</th>\n",
              "    </tr>\n",
              "    <tr>\n",
              "      <th>Date</th>\n",
              "      <th></th>\n",
              "      <th></th>\n",
              "      <th></th>\n",
              "      <th></th>\n",
              "      <th></th>\n",
              "      <th></th>\n",
              "    </tr>\n",
              "  </thead>\n",
              "  <tbody>\n",
              "    <tr>\n",
              "      <th>2021-11-12</th>\n",
              "      <td>17977.599609</td>\n",
              "      <td>18123.000000</td>\n",
              "      <td>17905.900391</td>\n",
              "      <td>18102.750000</td>\n",
              "      <td>18102.750000</td>\n",
              "      <td>249100</td>\n",
              "    </tr>\n",
              "    <tr>\n",
              "      <th>2021-11-15</th>\n",
              "      <td>18140.949219</td>\n",
              "      <td>18210.150391</td>\n",
              "      <td>18071.300781</td>\n",
              "      <td>18109.449219</td>\n",
              "      <td>18109.449219</td>\n",
              "      <td>280400</td>\n",
              "    </tr>\n",
              "    <tr>\n",
              "      <th>2021-11-16</th>\n",
              "      <td>18127.050781</td>\n",
              "      <td>18132.650391</td>\n",
              "      <td>17958.800781</td>\n",
              "      <td>17999.199219</td>\n",
              "      <td>17999.199219</td>\n",
              "      <td>267400</td>\n",
              "    </tr>\n",
              "    <tr>\n",
              "      <th>2021-11-17</th>\n",
              "      <td>17939.349609</td>\n",
              "      <td>18022.650391</td>\n",
              "      <td>17879.250000</td>\n",
              "      <td>17898.650391</td>\n",
              "      <td>17898.650391</td>\n",
              "      <td>295700</td>\n",
              "    </tr>\n",
              "    <tr>\n",
              "      <th>2021-11-18</th>\n",
              "      <td>17890.550781</td>\n",
              "      <td>17945.599609</td>\n",
              "      <td>17688.500000</td>\n",
              "      <td>17764.800781</td>\n",
              "      <td>17764.800781</td>\n",
              "      <td>278400</td>\n",
              "    </tr>\n",
              "  </tbody>\n",
              "</table>\n",
              "</div>"
            ],
            "text/plain": [
              "                    Open          High           Low         Close  \\\n",
              "Date                                                                 \n",
              "2021-11-12  17977.599609  18123.000000  17905.900391  18102.750000   \n",
              "2021-11-15  18140.949219  18210.150391  18071.300781  18109.449219   \n",
              "2021-11-16  18127.050781  18132.650391  17958.800781  17999.199219   \n",
              "2021-11-17  17939.349609  18022.650391  17879.250000  17898.650391   \n",
              "2021-11-18  17890.550781  17945.599609  17688.500000  17764.800781   \n",
              "\n",
              "               Adj Close  Volume  \n",
              "Date                              \n",
              "2021-11-12  18102.750000  249100  \n",
              "2021-11-15  18109.449219  280400  \n",
              "2021-11-16  17999.199219  267400  \n",
              "2021-11-17  17898.650391  295700  \n",
              "2021-11-18  17764.800781  278400  "
            ]
          },
          "execution_count": 148,
          "metadata": {},
          "output_type": "execute_result"
        }
      ],
      "source": [
        "nifty = yf.download('^NSEI', end='2021-11-21')\n",
        "\n",
        "nifty.tail()"
      ]
    },
    {
      "cell_type": "markdown",
      "metadata": {
        "id": "erAsg48XHnJJ"
      },
      "source": [
        "# 4) Replace the 0's in volume column with nan, fill na with previous values in all columns and drop the rows that still have na"
      ]
    },
    {
      "cell_type": "code",
      "execution_count": 149,
      "metadata": {
        "id": "KseaYfcwHpnQ"
      },
      "outputs": [
        {
          "name": "stdout",
          "output_type": "stream",
          "text": [
            "False\n"
          ]
        },
        {
          "data": {
            "text/plain": [
              "Date\n",
              "2013-01-21    130900.0\n",
              "2013-01-22    129000.0\n",
              "2013-01-23    137000.0\n",
              "2013-01-24    185200.0\n",
              "2013-01-25    147600.0\n",
              "                ...   \n",
              "2021-11-12    249100.0\n",
              "2021-11-15    280400.0\n",
              "2021-11-16    267400.0\n",
              "2021-11-17    295700.0\n",
              "2021-11-18    278400.0\n",
              "Name: Volume, Length: 2162, dtype: float64"
            ]
          },
          "execution_count": 149,
          "metadata": {},
          "output_type": "execute_result"
        }
      ],
      "source": [
        "nifty_price = nifty['Close']\n",
        "nifty_volume = nifty['Volume']\n",
        "\n",
        "nifty_volume.replace(0, np.nan, inplace=True)\n",
        "nifty_volume.fillna(method='ffill', inplace=True)\n",
        "\n",
        "nifty_volume.dropna(inplace=True)\n",
        "print(nifty_volume.isna().any())\n",
        "nifty_volume\n"
      ]
    },
    {
      "cell_type": "markdown",
      "metadata": {
        "id": "qYdKyMwEHp6z"
      },
      "source": [
        "# 5) Compute the daily returns & create daily return based signal\n",
        "\n",
        "\n",
        "After computing the daily returns, create a new column **'daily_ret_signal'** with 1 & 0 where \n",
        "\n",
        "**'1'** indicates the daily returns for the day are greater than or equal to q3 value (Value at 75th Quantile) (Daily ret >= (75th Quantile of Daily ret)\n",
        "\n",
        "**'0'** indicates the daily returns for the day are less than q3 value (Value at 75th Quantile) (Daily ret < (75th Quantile of Daily ret)"
      ]
    },
    {
      "cell_type": "code",
      "execution_count": 150,
      "metadata": {
        "id": "gpVis7mxHst_"
      },
      "outputs": [
        {
          "name": "stdout",
          "output_type": "stream",
          "text": [
            "0.6917728526201428\n",
            "0.25014442518775276\n"
          ]
        },
        {
          "data": {
            "text/html": [
              "<div>\n",
              "<style scoped>\n",
              "    .dataframe tbody tr th:only-of-type {\n",
              "        vertical-align: middle;\n",
              "    }\n",
              "\n",
              "    .dataframe tbody tr th {\n",
              "        vertical-align: top;\n",
              "    }\n",
              "\n",
              "    .dataframe thead th {\n",
              "        text-align: right;\n",
              "    }\n",
              "</style>\n",
              "<table border=\"1\" class=\"dataframe\">\n",
              "  <thead>\n",
              "    <tr style=\"text-align: right;\">\n",
              "      <th></th>\n",
              "      <th>daily_ret_signal</th>\n",
              "    </tr>\n",
              "    <tr>\n",
              "      <th>Date</th>\n",
              "      <th></th>\n",
              "    </tr>\n",
              "  </thead>\n",
              "  <tbody>\n",
              "    <tr>\n",
              "      <th>2007-09-17</th>\n",
              "      <td>0</td>\n",
              "    </tr>\n",
              "    <tr>\n",
              "      <th>2007-09-18</th>\n",
              "      <td>1</td>\n",
              "    </tr>\n",
              "    <tr>\n",
              "      <th>2007-09-19</th>\n",
              "      <td>1</td>\n",
              "    </tr>\n",
              "    <tr>\n",
              "      <th>2007-09-20</th>\n",
              "      <td>0</td>\n",
              "    </tr>\n",
              "    <tr>\n",
              "      <th>2007-09-21</th>\n",
              "      <td>1</td>\n",
              "    </tr>\n",
              "    <tr>\n",
              "      <th>...</th>\n",
              "      <td>...</td>\n",
              "    </tr>\n",
              "    <tr>\n",
              "      <th>2021-11-12</th>\n",
              "      <td>1</td>\n",
              "    </tr>\n",
              "    <tr>\n",
              "      <th>2021-11-15</th>\n",
              "      <td>0</td>\n",
              "    </tr>\n",
              "    <tr>\n",
              "      <th>2021-11-16</th>\n",
              "      <td>0</td>\n",
              "    </tr>\n",
              "    <tr>\n",
              "      <th>2021-11-17</th>\n",
              "      <td>0</td>\n",
              "    </tr>\n",
              "    <tr>\n",
              "      <th>2021-11-18</th>\n",
              "      <td>0</td>\n",
              "    </tr>\n",
              "  </tbody>\n",
              "</table>\n",
              "<p>3462 rows × 1 columns</p>\n",
              "</div>"
            ],
            "text/plain": [
              "            daily_ret_signal\n",
              "Date                        \n",
              "2007-09-17                 0\n",
              "2007-09-18                 1\n",
              "2007-09-19                 1\n",
              "2007-09-20                 0\n",
              "2007-09-21                 1\n",
              "...                      ...\n",
              "2021-11-12                 1\n",
              "2021-11-15                 0\n",
              "2021-11-16                 0\n",
              "2021-11-17                 0\n",
              "2021-11-18                 0\n",
              "\n",
              "[3462 rows x 1 columns]"
            ]
          },
          "execution_count": 150,
          "metadata": {},
          "output_type": "execute_result"
        }
      ],
      "source": [
        "# nifty['daily_returns'] = nifty.Close.pct_change().mul(100)\n",
        "# q75 = nifty['daily_returns'].quantile(0.75)\n",
        "# nifty['daily_ret_signal'] = nifty['daily_returns'] >= q75\n",
        "# nifty['daily_ret_signal'] = nifty['daily_ret_signal'].astype(int)\n",
        "# nifty\n",
        "\n",
        "daily_returns = nifty_price.pct_change().mul(100).copy()\n",
        "q75 = daily_returns.quantile(.75)\n",
        "print(q75)\n",
        "events = pd.Series([0]*len(daily_returns), index = daily_returns.index)\n",
        "events[daily_returns>=q75] = 1\n",
        "events\n",
        "\n",
        "pr_success = len(events[events>0]) / len(events)\n",
        "print(pr_success)\n",
        "\n",
        "df = pd.DataFrame()\n",
        "df['daily_ret_signal'] = events\n",
        "df"
      ]
    },
    {
      "cell_type": "markdown",
      "metadata": {
        "id": "UD7dDsh9HtDZ"
      },
      "source": [
        "# 6) Compute the change in volume & create volume change based signal\n",
        "\n",
        "\n",
        "After computing the pct change in volume, create a new column **'vol_change_signal'** with 1 & 0 where \n",
        "\n",
        "**'1'** indicates the pct change in volume for the day is greater than or equal to q3 value (Value at 75th Quantile) (pct change in volume >= (75th Quantile of pct change in volume)\n",
        "\n",
        "**'0'** indicates the pct change in volume for the day is less than q3 value (Value at 75th Quantile) (pct change in volume < (75th Quantile of pct change in volume)"
      ]
    },
    {
      "cell_type": "code",
      "execution_count": 151,
      "metadata": {
        "id": "30b-SplKHxgf"
      },
      "outputs": [
        {
          "name": "stdout",
          "output_type": "stream",
          "text": [
            "Date\n",
            "2013-01-21          NaN\n",
            "2013-01-22    -1.451490\n",
            "2013-01-23     6.201550\n",
            "2013-01-24    35.182482\n",
            "2013-01-25   -20.302376\n",
            "                ...    \n",
            "2021-11-12     7.324429\n",
            "2021-11-15    12.565235\n",
            "2021-11-16    -4.636234\n",
            "2021-11-17    10.583396\n",
            "2021-11-18    -5.850524\n",
            "Name: Volume, Length: 2162, dtype: float64\n",
            "14.52870304748406\n",
            "0.25023126734505086\n"
          ]
        },
        {
          "data": {
            "text/html": [
              "<div>\n",
              "<style scoped>\n",
              "    .dataframe tbody tr th:only-of-type {\n",
              "        vertical-align: middle;\n",
              "    }\n",
              "\n",
              "    .dataframe tbody tr th {\n",
              "        vertical-align: top;\n",
              "    }\n",
              "\n",
              "    .dataframe thead th {\n",
              "        text-align: right;\n",
              "    }\n",
              "</style>\n",
              "<table border=\"1\" class=\"dataframe\">\n",
              "  <thead>\n",
              "    <tr style=\"text-align: right;\">\n",
              "      <th></th>\n",
              "      <th>daily_ret_signal</th>\n",
              "      <th>vol_change_signal</th>\n",
              "    </tr>\n",
              "    <tr>\n",
              "      <th>Date</th>\n",
              "      <th></th>\n",
              "      <th></th>\n",
              "    </tr>\n",
              "  </thead>\n",
              "  <tbody>\n",
              "    <tr>\n",
              "      <th>2007-09-17</th>\n",
              "      <td>0</td>\n",
              "      <td>NaN</td>\n",
              "    </tr>\n",
              "    <tr>\n",
              "      <th>2007-09-18</th>\n",
              "      <td>1</td>\n",
              "      <td>NaN</td>\n",
              "    </tr>\n",
              "    <tr>\n",
              "      <th>2007-09-19</th>\n",
              "      <td>1</td>\n",
              "      <td>NaN</td>\n",
              "    </tr>\n",
              "    <tr>\n",
              "      <th>2007-09-20</th>\n",
              "      <td>0</td>\n",
              "      <td>NaN</td>\n",
              "    </tr>\n",
              "    <tr>\n",
              "      <th>2007-09-21</th>\n",
              "      <td>1</td>\n",
              "      <td>NaN</td>\n",
              "    </tr>\n",
              "    <tr>\n",
              "      <th>...</th>\n",
              "      <td>...</td>\n",
              "      <td>...</td>\n",
              "    </tr>\n",
              "    <tr>\n",
              "      <th>2021-11-12</th>\n",
              "      <td>1</td>\n",
              "      <td>0.0</td>\n",
              "    </tr>\n",
              "    <tr>\n",
              "      <th>2021-11-15</th>\n",
              "      <td>0</td>\n",
              "      <td>0.0</td>\n",
              "    </tr>\n",
              "    <tr>\n",
              "      <th>2021-11-16</th>\n",
              "      <td>0</td>\n",
              "      <td>0.0</td>\n",
              "    </tr>\n",
              "    <tr>\n",
              "      <th>2021-11-17</th>\n",
              "      <td>0</td>\n",
              "      <td>0.0</td>\n",
              "    </tr>\n",
              "    <tr>\n",
              "      <th>2021-11-18</th>\n",
              "      <td>0</td>\n",
              "      <td>0.0</td>\n",
              "    </tr>\n",
              "  </tbody>\n",
              "</table>\n",
              "<p>3462 rows × 2 columns</p>\n",
              "</div>"
            ],
            "text/plain": [
              "            daily_ret_signal  vol_change_signal\n",
              "Date                                           \n",
              "2007-09-17                 0                NaN\n",
              "2007-09-18                 1                NaN\n",
              "2007-09-19                 1                NaN\n",
              "2007-09-20                 0                NaN\n",
              "2007-09-21                 1                NaN\n",
              "...                      ...                ...\n",
              "2021-11-12                 1                0.0\n",
              "2021-11-15                 0                0.0\n",
              "2021-11-16                 0                0.0\n",
              "2021-11-17                 0                0.0\n",
              "2021-11-18                 0                0.0\n",
              "\n",
              "[3462 rows x 2 columns]"
            ]
          },
          "execution_count": 151,
          "metadata": {},
          "output_type": "execute_result"
        }
      ],
      "source": [
        "# nifty['vol_change'] = nifty.Volume.pct_change().mul(100)\n",
        "# q75 = nifty['vol_change'].quantile(0.75)\n",
        "# nifty['vol_change_signal'] = nifty['vol_change'] >= q75\n",
        "# nifty.replace(to_replace={\n",
        "#   'vol_change_signal': {True: 1, False: 0}\n",
        "# }, inplace=True)\n",
        "# nifty\n",
        "\n",
        "vol_change = nifty_volume.pct_change().mul(100).copy()\n",
        "print(vol_change)\n",
        "q75 = vol_change.quantile(.75)\n",
        "print(q75)\n",
        "vol_success = len(vol_change[vol_change>=q75]) / len(vol_change)\n",
        "print(vol_success)\n",
        "events = pd.Series([0]*len(vol_change), index = vol_change.index)\n",
        "events[vol_change>=q75] = 1\n",
        "events\n",
        "\n",
        "df['vol_change_signal'] = events\n",
        "df\n",
        "\n"
      ]
    },
    {
      "cell_type": "markdown",
      "metadata": {
        "id": "m5ZIRFDLHyJU"
      },
      "source": [
        "# 7) Create a contingency table of 'vol_change_signal' & 'daily_ret_signal'\n",
        "\n",
        "Hint: use pd.crosstab()\n",
        "\n",
        "Sample output: \n",
        "\n",
        "![image.png](data:image/png;base64,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)"
      ]
    },
    {
      "cell_type": "code",
      "execution_count": 169,
      "metadata": {
        "id": "IdsS1pPfH24t"
      },
      "outputs": [
        {
          "data": {
            "text/html": [
              "<div>\n",
              "<style scoped>\n",
              "    .dataframe tbody tr th:only-of-type {\n",
              "        vertical-align: middle;\n",
              "    }\n",
              "\n",
              "    .dataframe tbody tr th {\n",
              "        vertical-align: top;\n",
              "    }\n",
              "\n",
              "    .dataframe thead th {\n",
              "        text-align: right;\n",
              "    }\n",
              "</style>\n",
              "<table border=\"1\" class=\"dataframe\">\n",
              "  <thead>\n",
              "    <tr style=\"text-align: right;\">\n",
              "      <th>daily_ret_signal</th>\n",
              "      <th>0</th>\n",
              "      <th>1</th>\n",
              "    </tr>\n",
              "    <tr>\n",
              "      <th>vol_change_signal</th>\n",
              "      <th></th>\n",
              "      <th></th>\n",
              "    </tr>\n",
              "  </thead>\n",
              "  <tbody>\n",
              "    <tr>\n",
              "      <th>0.0</th>\n",
              "      <td>0.583256</td>\n",
              "      <td>0.166512</td>\n",
              "    </tr>\n",
              "    <tr>\n",
              "      <th>1.0</th>\n",
              "      <td>0.191952</td>\n",
              "      <td>0.058279</td>\n",
              "    </tr>\n",
              "  </tbody>\n",
              "</table>\n",
              "</div>"
            ],
            "text/plain": [
              "daily_ret_signal          0         1\n",
              "vol_change_signal                    \n",
              "0.0                0.583256  0.166512\n",
              "1.0                0.191952  0.058279"
            ]
          },
          "execution_count": 169,
          "metadata": {},
          "output_type": "execute_result"
        }
      ],
      "source": [
        "nifty_corr = pd.crosstab(df['vol_change_signal'], df['daily_ret_signal'], normalize=True)\n",
        "nifty_corr"
      ]
    },
    {
      "cell_type": "code",
      "execution_count": 154,
      "metadata": {},
      "outputs": [
        {
          "data": {
            "text/plain": [
              "0.3115222526632704"
            ]
          },
          "execution_count": 154,
          "metadata": {},
          "output_type": "execute_result"
        }
      ],
      "source": [
        "p_success = 0.25014442518775276\n",
        "days = 7\n",
        "\n",
        "prob_pmf = binom.pmf(2, days, p_success)\n",
        "prob_pmf\n",
        "# prob_cdf = binom.cdf(12, 30, p_success)"
      ]
    },
    {
      "cell_type": "code",
      "execution_count": 155,
      "metadata": {},
      "outputs": [
        {
          "data": {
            "text/plain": [
              "0.9991754177964449"
            ]
          },
          "execution_count": 155,
          "metadata": {},
          "output_type": "execute_result"
        }
      ],
      "source": [
        "prob_cdf = binom.cdf(15, 30, 0.25014442518775276)\n",
        "prob_cdf"
      ]
    },
    {
      "cell_type": "code",
      "execution_count": 156,
      "metadata": {},
      "outputs": [
        {
          "name": "stdout",
          "output_type": "stream",
          "text": [
            "mean    0.049678\n",
            "std     1.411459\n",
            "Name: Close, dtype: float64\n",
            "Value at Risk:  -0.02272010894442004\n"
          ]
        }
      ],
      "source": [
        "aggs = nifty['Close'].pct_change().mul(100).agg(['mean', 'std'])\n",
        "print(aggs)\n",
        "risk = norm.ppf(0.05, 0.000497, 0.014115)\n",
        "\n",
        "print(\"Value at Risk: \", risk)"
      ]
    },
    {
      "cell_type": "code",
      "execution_count": 157,
      "metadata": {},
      "outputs": [
        {
          "data": {
            "text/plain": [
              "0.022750131948179195"
            ]
          },
          "execution_count": 157,
          "metadata": {},
          "output_type": "execute_result"
        }
      ],
      "source": [
        "norm.cdf(-2)"
      ]
    },
    {
      "cell_type": "markdown",
      "metadata": {
        "id": "VHfHdGCP_n6Y"
      },
      "source": [
        "### Please answer the questions below to complete the experiment:\n",
        "\n",
        "\n"
      ]
    },
    {
      "cell_type": "code",
      "execution_count": 158,
      "metadata": {
        "id": "VgSwVENIPcM6"
      },
      "outputs": [],
      "source": [
        "#@title Question 1: Given that today's market returns are more than q3 value (More than 75th quantile) what is the probability that they have a change in volume greater than q3 (More than 75th quantile)?{ run: \"auto\", form-width: \"500px\", display-mode: \"form\" }\n",
        "Answer1 = \"\" #@param [\"\", \"10\", \"12.53\",\"20\",\"15\"]"
      ]
    },
    {
      "cell_type": "code",
      "execution_count": 159,
      "metadata": {
        "id": "xXrGP37VaB09"
      },
      "outputs": [],
      "source": [
        "#@title Question 2: What is the probability that we see two  days with change in volume more than q3 value (More than 75th Quantile) in a week? { run: \"auto\", form-width: \"500px\", display-mode: \"form\" }\n",
        "Answer2 = \"\" #@param [\"\",32.62,25,15,10]"
      ]
    },
    {
      "cell_type": "code",
      "execution_count": 160,
      "metadata": {
        "id": "PGwNTjizaCKV"
      },
      "outputs": [],
      "source": [
        "#@title Question 3: What is the probability that we see at most 15 days that have change in volume more that q3 value (More than 75th Quantile) in a month(30 Days)? { run: \"auto\", form-width: \"500px\", display-mode: \"form\" }\n",
        "Answer3 = \"\" #@param [\"\",50,45,28,67.47]"
      ]
    },
    {
      "cell_type": "code",
      "execution_count": 161,
      "metadata": {
        "id": "-p0cxLRhaE8R"
      },
      "outputs": [],
      "source": [
        "#@title Question 4: What is the probability that the market will fall more than 2 pct in a given day? { run: \"auto\", form-width: \"500px\", display-mode: \"form\" }\n",
        "Answer4 = \"\" #@param [\"\",1.5,2.5,2.93,3.23]"
      ]
    },
    {
      "cell_type": "code",
      "execution_count": 162,
      "metadata": {
        "id": "BXSVaBJdaFa5"
      },
      "outputs": [],
      "source": [
        "#@title Question 5: What is the level of return at which you can confidently say,there is 95% chance that the daily return will be higher than that? { run: \"auto\", form-width: \"500px\", display-mode: \"form\" }\n",
        "Answer5 = \"\" #@param [\"\", 1.7,-1.7,2,-2]"
      ]
    },
    {
      "cell_type": "code",
      "execution_count": 163,
      "metadata": {
        "id": "NMzKSbLIgFzQ"
      },
      "outputs": [],
      "source": [
        "#@title How was the experiment? { run: \"auto\", form-width: \"500px\", display-mode: \"form\" }\n",
        "Complexity = \"\" #@param [\"\",\"Too Simple, I am wasting time\", \"Good, But Not Challenging for me\", \"Good and Challenging for me\", \"Was Tough, but I did it\", \"Too Difficult for me\"]\n"
      ]
    },
    {
      "cell_type": "code",
      "execution_count": 164,
      "metadata": {
        "id": "DjcH1VWSFI2l"
      },
      "outputs": [],
      "source": [
        "#@title If it was too easy, what more would you have liked to be added? If it was very difficult, what would you have liked to have been removed? { run: \"auto\", display-mode: \"form\" }\n",
        "Additional = \"\" #@param {type:\"string\"}\n"
      ]
    },
    {
      "cell_type": "code",
      "execution_count": 165,
      "metadata": {
        "id": "4VBk_4VTAxCM"
      },
      "outputs": [],
      "source": [
        "#@title Can you identify the concepts from the lecture which this experiment covered? { run: \"auto\", vertical-output: true, display-mode: \"form\" }\n",
        "Concepts = \"\" #@param [\"\",\"Yes\", \"No\"]\n"
      ]
    },
    {
      "cell_type": "code",
      "execution_count": 166,
      "metadata": {
        "id": "XH91cL1JWH7m"
      },
      "outputs": [],
      "source": [
        "#@title  Text and image description/explanation and code comments within the experiment: { run: \"auto\", vertical-output: true, display-mode: \"form\" }\n",
        "Comments = \"\" #@param [\"\",\"Very Useful\", \"Somewhat Useful\", \"Not Useful\", \"Didn't use\"]\n"
      ]
    },
    {
      "cell_type": "code",
      "execution_count": 167,
      "metadata": {
        "id": "z8xLqj7VWIKW"
      },
      "outputs": [],
      "source": [
        "#@title Mentor Support: { run: \"auto\", vertical-output: true, display-mode: \"form\" }\n",
        "Mentor_support = \"\" #@param [\"\",\"Very Useful\", \"Somewhat Useful\", \"Not Useful\", \"Didn't use\"]\n"
      ]
    },
    {
      "cell_type": "code",
      "execution_count": 168,
      "metadata": {
        "cellView": "form",
        "id": "FzAZHt1zw-Y-"
      },
      "outputs": [
        {
          "name": "stdout",
          "output_type": "stream",
          "text": [
            "Please complete the setup first.\n"
          ]
        }
      ],
      "source": [
        "#@title Run this cell to submit your notebook for grading { vertical-output: true }\n",
        "try:\n",
        "  if submission_id:\n",
        "      return_id = submit_notebook()\n",
        "      if return_id : submission_id = return_id\n",
        "  else:\n",
        "      print(\"Please complete the setup first.\")\n",
        "except NameError as err:\n",
        "  print(err)\n",
        "  print (\"Please complete the setup first.\")"
      ]
    }
  ],
  "metadata": {
    "colab": {
      "collapsed_sections": [],
      "name": "20211122_AIFM_C1_Week3_ProbabilityDistributions.ipynb",
      "provenance": []
    },
    "kernelspec": {
      "display_name": "Python 3",
      "name": "python3"
    },
    "language_info": {
      "codemirror_mode": {
        "name": "ipython",
        "version": 3
      },
      "file_extension": ".py",
      "mimetype": "text/x-python",
      "name": "python",
      "nbconvert_exporter": "python",
      "pygments_lexer": "ipython3",
      "version": "3.9.7"
    }
  },
  "nbformat": 4,
  "nbformat_minor": 0
}
