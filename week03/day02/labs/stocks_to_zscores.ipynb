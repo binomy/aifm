{
  "cells": [
    {
      "cell_type": "markdown",
      "metadata": {
        "id": "zywVkwjGuOsk"
      },
      "source": [
        "# Adding new metrics to the dashboard\n",
        "\n",
        "Now that we have seen what z-scores are let us add the z-scores of returns to the dashboard"
      ]
    },
    {
      "cell_type": "markdown",
      "metadata": {
        "id": "73rCOnPuvIoI"
      },
      "source": [
        "# 2) Import required modules"
      ]
    },
    {
      "cell_type": "code",
      "execution_count": 2,
      "metadata": {
        "id": "daa65Ry1uWSt"
      },
      "outputs": [],
      "source": [
        "import yfinance as yf\n",
        "import pandas as pd\n",
        "\n",
        "import ipywidgets as widgets\n",
        "from datetime import datetime\n",
        "\n",
        "import matplotlib.pyplot as plt\n",
        "plt.style.use('ggplot')\n",
        "plt.rcParams['figure.dpi'] = 150\n",
        "\n",
        "import seaborn as sns"
      ]
    },
    {
      "cell_type": "markdown",
      "metadata": {
        "id": "iXsBg82BvTkq"
      },
      "source": [
        "# 3) List of required markets"
      ]
    },
    {
      "cell_type": "code",
      "execution_count": 3,
      "metadata": {
        "id": "fpb-x3_-uNuf"
      },
      "outputs": [],
      "source": [
        "Symbols = { \n",
        "  '^NSEI':'Nifty 50', \n",
        "  '^GSPC':'S&P 500',\n",
        "  '^DJI':'DOW',\n",
        "  '^RUT':'Russell',\n",
        "  '^IXIC':'NASDAQ',\n",
        "  '^FTSE':'FTSE 100',\n",
        "  '^GDAXI':'DAX',\n",
        "  '^FCHI':'CAC 40',\n",
        "  '^N225':'Nikkei 225',\n",
        "  '^HSI':'Hang Seng Index',\n",
        "  '^KS11':'Kospi',\n",
        "  '000001.SS':'Shanghai' \n",
        "}"
      ]
    },
    {
      "cell_type": "markdown",
      "metadata": {
        "id": "UfNygfB-vlYd"
      },
      "source": [
        "# 4) Download close prices and change the column names from symbols to short name"
      ]
    },
    {
      "cell_type": "code",
      "execution_count": 4,
      "metadata": {
        "id": "WVhJOIQAuNrU"
      },
      "outputs": [
        {
          "name": "stdout",
          "output_type": "stream",
          "text": [
            "[*********************100%***********************]  12 of 12 completed\n"
          ]
        }
      ],
      "source": [
        "tickers = Symbols.keys()\n",
        "ticker_list = [(lambda x: x)(x) for x in tickers]\n",
        "df = yf.download(tickers=ticker_list, period='5y')['Close'].fillna(method='ffill')"
      ]
    },
    {
      "cell_type": "code",
      "execution_count": 5,
      "metadata": {
        "id": "NBK_XAvmOXLt"
      },
      "outputs": [
        {
          "data": {
            "text/html": [
              "<div>\n",
              "<style scoped>\n",
              "    .dataframe tbody tr th:only-of-type {\n",
              "        vertical-align: middle;\n",
              "    }\n",
              "\n",
              "    .dataframe tbody tr th {\n",
              "        vertical-align: top;\n",
              "    }\n",
              "\n",
              "    .dataframe thead th {\n",
              "        text-align: right;\n",
              "    }\n",
              "</style>\n",
              "<table border=\"1\" class=\"dataframe\">\n",
              "  <thead>\n",
              "    <tr style=\"text-align: right;\">\n",
              "      <th></th>\n",
              "      <th>Shanghai</th>\n",
              "      <th>DOW</th>\n",
              "      <th>CAC 40</th>\n",
              "      <th>FTSE 100</th>\n",
              "      <th>DAX</th>\n",
              "      <th>S&amp;P 500</th>\n",
              "      <th>Hang Seng Index</th>\n",
              "      <th>NASDAQ</th>\n",
              "      <th>Kospi</th>\n",
              "      <th>Nikkei 225</th>\n",
              "      <th>Nifty 50</th>\n",
              "      <th>Russell</th>\n",
              "    </tr>\n",
              "    <tr>\n",
              "      <th>Date</th>\n",
              "      <th></th>\n",
              "      <th></th>\n",
              "      <th></th>\n",
              "      <th></th>\n",
              "      <th></th>\n",
              "      <th></th>\n",
              "      <th></th>\n",
              "      <th></th>\n",
              "      <th></th>\n",
              "      <th></th>\n",
              "      <th></th>\n",
              "      <th></th>\n",
              "    </tr>\n",
              "  </thead>\n",
              "  <tbody>\n",
              "    <tr>\n",
              "      <th>2016-11-18</th>\n",
              "      <td>NaN</td>\n",
              "      <td>NaN</td>\n",
              "      <td>NaN</td>\n",
              "      <td>NaN</td>\n",
              "      <td>NaN</td>\n",
              "      <td>NaN</td>\n",
              "      <td>NaN</td>\n",
              "      <td>NaN</td>\n",
              "      <td>NaN</td>\n",
              "      <td>NaN</td>\n",
              "      <td>8074.100098</td>\n",
              "      <td>NaN</td>\n",
              "    </tr>\n",
              "    <tr>\n",
              "      <th>2016-11-21</th>\n",
              "      <td>3218.147949</td>\n",
              "      <td>18956.689453</td>\n",
              "      <td>4529.580078</td>\n",
              "      <td>6778.000000</td>\n",
              "      <td>10685.129883</td>\n",
              "      <td>2198.179932</td>\n",
              "      <td>22357.779297</td>\n",
              "      <td>5368.859863</td>\n",
              "      <td>1966.050049</td>\n",
              "      <td>18106.019531</td>\n",
              "      <td>7929.100098</td>\n",
              "      <td>1322.229980</td>\n",
              "    </tr>\n",
              "    <tr>\n",
              "      <th>2016-11-22</th>\n",
              "      <td>3248.352051</td>\n",
              "      <td>19023.869141</td>\n",
              "      <td>4548.350098</td>\n",
              "      <td>6819.700195</td>\n",
              "      <td>10713.849609</td>\n",
              "      <td>2202.939941</td>\n",
              "      <td>22678.070312</td>\n",
              "      <td>5386.350098</td>\n",
              "      <td>1983.469971</td>\n",
              "      <td>18162.939453</td>\n",
              "      <td>8002.299805</td>\n",
              "      <td>1334.339966</td>\n",
              "    </tr>\n",
              "    <tr>\n",
              "      <th>2016-11-23</th>\n",
              "      <td>3241.136963</td>\n",
              "      <td>19083.179688</td>\n",
              "      <td>4529.209961</td>\n",
              "      <td>6817.700195</td>\n",
              "      <td>10662.440430</td>\n",
              "      <td>2204.719971</td>\n",
              "      <td>22676.689453</td>\n",
              "      <td>5380.680176</td>\n",
              "      <td>1987.949951</td>\n",
              "      <td>18162.939453</td>\n",
              "      <td>8033.299805</td>\n",
              "      <td>1342.089966</td>\n",
              "    </tr>\n",
              "    <tr>\n",
              "      <th>2016-11-24</th>\n",
              "      <td>3241.736084</td>\n",
              "      <td>19083.179688</td>\n",
              "      <td>4542.560059</td>\n",
              "      <td>6829.200195</td>\n",
              "      <td>10689.259766</td>\n",
              "      <td>2204.719971</td>\n",
              "      <td>22608.490234</td>\n",
              "      <td>5380.680176</td>\n",
              "      <td>1971.260010</td>\n",
              "      <td>18333.410156</td>\n",
              "      <td>7965.500000</td>\n",
              "      <td>1342.089966</td>\n",
              "    </tr>\n",
              "  </tbody>\n",
              "</table>\n",
              "</div>"
            ],
            "text/plain": [
              "               Shanghai           DOW       CAC 40     FTSE 100           DAX  \\\n",
              "Date                                                                            \n",
              "2016-11-18          NaN           NaN          NaN          NaN           NaN   \n",
              "2016-11-21  3218.147949  18956.689453  4529.580078  6778.000000  10685.129883   \n",
              "2016-11-22  3248.352051  19023.869141  4548.350098  6819.700195  10713.849609   \n",
              "2016-11-23  3241.136963  19083.179688  4529.209961  6817.700195  10662.440430   \n",
              "2016-11-24  3241.736084  19083.179688  4542.560059  6829.200195  10689.259766   \n",
              "\n",
              "                S&P 500  Hang Seng Index       NASDAQ        Kospi  \\\n",
              "Date                                                                 \n",
              "2016-11-18          NaN              NaN          NaN          NaN   \n",
              "2016-11-21  2198.179932     22357.779297  5368.859863  1966.050049   \n",
              "2016-11-22  2202.939941     22678.070312  5386.350098  1983.469971   \n",
              "2016-11-23  2204.719971     22676.689453  5380.680176  1987.949951   \n",
              "2016-11-24  2204.719971     22608.490234  5380.680176  1971.260010   \n",
              "\n",
              "              Nikkei 225     Nifty 50      Russell  \n",
              "Date                                                \n",
              "2016-11-18           NaN  8074.100098          NaN  \n",
              "2016-11-21  18106.019531  7929.100098  1322.229980  \n",
              "2016-11-22  18162.939453  8002.299805  1334.339966  \n",
              "2016-11-23  18162.939453  8033.299805  1342.089966  \n",
              "2016-11-24  18333.410156  7965.500000  1342.089966  "
            ]
          },
          "execution_count": 5,
          "metadata": {},
          "output_type": "execute_result"
        }
      ],
      "source": [
        "#Changing the name of the columns\n",
        "df = df.rename(columns=Symbols)\n",
        "df.head()"
      ]
    },
    {
      "cell_type": "markdown",
      "metadata": {
        "id": "KMALSDg1vy2q"
      },
      "source": [
        "# 5) Z-Scores for sample period"
      ]
    },
    {
      "cell_type": "markdown",
      "metadata": {
        "id": "pAA1CEhRxJev"
      },
      "source": [
        "## (i) Get the period returns"
      ]
    },
    {
      "cell_type": "code",
      "execution_count": 6,
      "metadata": {
        "id": "tfTwM3I7uNoY"
      },
      "outputs": [
        {
          "data": {
            "text/html": [
              "<div>\n",
              "<style scoped>\n",
              "    .dataframe tbody tr th:only-of-type {\n",
              "        vertical-align: middle;\n",
              "    }\n",
              "\n",
              "    .dataframe tbody tr th {\n",
              "        vertical-align: top;\n",
              "    }\n",
              "\n",
              "    .dataframe thead th {\n",
              "        text-align: right;\n",
              "    }\n",
              "</style>\n",
              "<table border=\"1\" class=\"dataframe\">\n",
              "  <thead>\n",
              "    <tr style=\"text-align: right;\">\n",
              "      <th></th>\n",
              "      <th>Shanghai</th>\n",
              "      <th>DOW</th>\n",
              "      <th>CAC 40</th>\n",
              "      <th>FTSE 100</th>\n",
              "      <th>DAX</th>\n",
              "      <th>S&amp;P 500</th>\n",
              "      <th>Hang Seng Index</th>\n",
              "      <th>NASDAQ</th>\n",
              "      <th>Kospi</th>\n",
              "      <th>Nikkei 225</th>\n",
              "      <th>Nifty 50</th>\n",
              "      <th>Russell</th>\n",
              "    </tr>\n",
              "    <tr>\n",
              "      <th>Date</th>\n",
              "      <th></th>\n",
              "      <th></th>\n",
              "      <th></th>\n",
              "      <th></th>\n",
              "      <th></th>\n",
              "      <th></th>\n",
              "      <th></th>\n",
              "      <th></th>\n",
              "      <th></th>\n",
              "      <th></th>\n",
              "      <th></th>\n",
              "      <th></th>\n",
              "    </tr>\n",
              "  </thead>\n",
              "  <tbody>\n",
              "    <tr>\n",
              "      <th>2021-11-15</th>\n",
              "      <td>0.990964</td>\n",
              "      <td>-0.946331</td>\n",
              "      <td>1.151474</td>\n",
              "      <td>0.705441</td>\n",
              "      <td>0.636400</td>\n",
              "      <td>-0.401991</td>\n",
              "      <td>2.532493</td>\n",
              "      <td>-0.804079</td>\n",
              "      <td>1.328291</td>\n",
              "      <td>0.914188</td>\n",
              "      <td>0.226352</td>\n",
              "      <td>-1.711605</td>\n",
              "    </tr>\n",
              "    <tr>\n",
              "      <th>2021-11-16</th>\n",
              "      <td>0.421729</td>\n",
              "      <td>-0.489432</td>\n",
              "      <td>1.552263</td>\n",
              "      <td>0.728622</td>\n",
              "      <td>1.292921</td>\n",
              "      <td>0.334025</td>\n",
              "      <td>3.629725</td>\n",
              "      <td>0.549650</td>\n",
              "      <td>1.173012</td>\n",
              "      <td>1.784702</td>\n",
              "      <td>-0.249668</td>\n",
              "      <td>-0.917485</td>\n",
              "    </tr>\n",
              "    <tr>\n",
              "      <th>2021-11-17</th>\n",
              "      <td>1.285918</td>\n",
              "      <td>-0.412669</td>\n",
              "      <td>1.585343</td>\n",
              "      <td>-0.667557</td>\n",
              "      <td>1.140788</td>\n",
              "      <td>0.903004</td>\n",
              "      <td>2.616162</td>\n",
              "      <td>1.912987</td>\n",
              "      <td>1.100619</td>\n",
              "      <td>1.997991</td>\n",
              "      <td>-0.657976</td>\n",
              "      <td>-0.526037</td>\n",
              "    </tr>\n",
              "    <tr>\n",
              "      <th>2021-11-18</th>\n",
              "      <td>-0.341942</td>\n",
              "      <td>-0.139976</td>\n",
              "      <td>1.167641</td>\n",
              "      <td>-1.736142</td>\n",
              "      <td>0.861899</td>\n",
              "      <td>1.188789</td>\n",
              "      <td>0.284104</td>\n",
              "      <td>1.842999</td>\n",
              "      <td>0.767883</td>\n",
              "      <td>1.095711</td>\n",
              "      <td>-0.608712</td>\n",
              "      <td>-1.890708</td>\n",
              "    </tr>\n",
              "    <tr>\n",
              "      <th>2021-11-19</th>\n",
              "      <td>0.601001</td>\n",
              "      <td>-1.380399</td>\n",
              "      <td>0.294584</td>\n",
              "      <td>-1.691637</td>\n",
              "      <td>0.409464</td>\n",
              "      <td>0.322664</td>\n",
              "      <td>-1.097601</td>\n",
              "      <td>1.238768</td>\n",
              "      <td>0.074777</td>\n",
              "      <td>0.458962</td>\n",
              "      <td>-1.866839</td>\n",
              "      <td>-2.845206</td>\n",
              "    </tr>\n",
              "  </tbody>\n",
              "</table>\n",
              "</div>"
            ],
            "text/plain": [
              "            Shanghai       DOW    CAC 40  FTSE 100       DAX   S&P 500  \\\n",
              "Date                                                                     \n",
              "2021-11-15  0.990964 -0.946331  1.151474  0.705441  0.636400 -0.401991   \n",
              "2021-11-16  0.421729 -0.489432  1.552263  0.728622  1.292921  0.334025   \n",
              "2021-11-17  1.285918 -0.412669  1.585343 -0.667557  1.140788  0.903004   \n",
              "2021-11-18 -0.341942 -0.139976  1.167641 -1.736142  0.861899  1.188789   \n",
              "2021-11-19  0.601001 -1.380399  0.294584 -1.691637  0.409464  0.322664   \n",
              "\n",
              "            Hang Seng Index    NASDAQ     Kospi  Nikkei 225  Nifty 50  \\\n",
              "Date                                                                    \n",
              "2021-11-15         2.532493 -0.804079  1.328291    0.914188  0.226352   \n",
              "2021-11-16         3.629725  0.549650  1.173012    1.784702 -0.249668   \n",
              "2021-11-17         2.616162  1.912987  1.100619    1.997991 -0.657976   \n",
              "2021-11-18         0.284104  1.842999  0.767883    1.095711 -0.608712   \n",
              "2021-11-19        -1.097601  1.238768  0.074777    0.458962 -1.866839   \n",
              "\n",
              "             Russell  \n",
              "Date                  \n",
              "2021-11-15 -1.711605  \n",
              "2021-11-16 -0.917485  \n",
              "2021-11-17 -0.526037  \n",
              "2021-11-18 -1.890708  \n",
              "2021-11-19 -2.845206  "
            ]
          },
          "execution_count": 6,
          "metadata": {},
          "output_type": "execute_result"
        }
      ],
      "source": [
        "period = 5 #For rolling weekly returns\n",
        "#Find the rolling period returns\n",
        "period_rets = df.pct_change(period).copy()\n",
        "period_rets.dropna(inplace=True)\n",
        "period_rets = period_rets*100\n",
        "period_rets.tail()"
      ]
    },
    {
      "cell_type": "markdown",
      "metadata": {
        "id": "ZyEZAohZxODj"
      },
      "source": [
        "## (ii) Get the mean of returns every day till that day"
      ]
    },
    {
      "cell_type": "code",
      "execution_count": 7,
      "metadata": {
        "id": "KwVnQ-Y7uNlL"
      },
      "outputs": [
        {
          "data": {
            "text/html": [
              "<div>\n",
              "<style scoped>\n",
              "    .dataframe tbody tr th:only-of-type {\n",
              "        vertical-align: middle;\n",
              "    }\n",
              "\n",
              "    .dataframe tbody tr th {\n",
              "        vertical-align: top;\n",
              "    }\n",
              "\n",
              "    .dataframe thead th {\n",
              "        text-align: right;\n",
              "    }\n",
              "</style>\n",
              "<table border=\"1\" class=\"dataframe\">\n",
              "  <thead>\n",
              "    <tr style=\"text-align: right;\">\n",
              "      <th></th>\n",
              "      <th>Shanghai</th>\n",
              "      <th>DOW</th>\n",
              "      <th>CAC 40</th>\n",
              "      <th>FTSE 100</th>\n",
              "      <th>DAX</th>\n",
              "      <th>S&amp;P 500</th>\n",
              "      <th>Hang Seng Index</th>\n",
              "      <th>NASDAQ</th>\n",
              "      <th>Kospi</th>\n",
              "      <th>Nikkei 225</th>\n",
              "      <th>Nifty 50</th>\n",
              "      <th>Russell</th>\n",
              "    </tr>\n",
              "    <tr>\n",
              "      <th>Date</th>\n",
              "      <th></th>\n",
              "      <th></th>\n",
              "      <th></th>\n",
              "      <th></th>\n",
              "      <th></th>\n",
              "      <th></th>\n",
              "      <th></th>\n",
              "      <th></th>\n",
              "      <th></th>\n",
              "      <th></th>\n",
              "      <th></th>\n",
              "      <th></th>\n",
              "    </tr>\n",
              "  </thead>\n",
              "  <tbody>\n",
              "    <tr>\n",
              "      <th>2021-11-15</th>\n",
              "      <td>0.059034</td>\n",
              "      <td>0.279415</td>\n",
              "      <td>0.209620</td>\n",
              "      <td>0.054667</td>\n",
              "      <td>0.196534</td>\n",
              "      <td>0.318306</td>\n",
              "      <td>0.073244</td>\n",
              "      <td>0.452058</td>\n",
              "      <td>0.188434</td>\n",
              "      <td>0.220236</td>\n",
              "      <td>0.345119</td>\n",
              "      <td>0.280594</td>\n",
              "    </tr>\n",
              "    <tr>\n",
              "      <th>2021-11-16</th>\n",
              "      <td>0.059315</td>\n",
              "      <td>0.278820</td>\n",
              "      <td>0.210658</td>\n",
              "      <td>0.055188</td>\n",
              "      <td>0.197381</td>\n",
              "      <td>0.318318</td>\n",
              "      <td>0.075993</td>\n",
              "      <td>0.452133</td>\n",
              "      <td>0.189194</td>\n",
              "      <td>0.221445</td>\n",
              "      <td>0.344659</td>\n",
              "      <td>0.279668</td>\n",
              "    </tr>\n",
              "    <tr>\n",
              "      <th>2021-11-17</th>\n",
              "      <td>0.060262</td>\n",
              "      <td>0.278286</td>\n",
              "      <td>0.211719</td>\n",
              "      <td>0.054630</td>\n",
              "      <td>0.198110</td>\n",
              "      <td>0.318769</td>\n",
              "      <td>0.077954</td>\n",
              "      <td>0.453261</td>\n",
              "      <td>0.189898</td>\n",
              "      <td>0.222817</td>\n",
              "      <td>0.343885</td>\n",
              "      <td>0.279046</td>\n",
              "    </tr>\n",
              "    <tr>\n",
              "      <th>2021-11-18</th>\n",
              "      <td>0.059951</td>\n",
              "      <td>0.277964</td>\n",
              "      <td>0.212457</td>\n",
              "      <td>0.053248</td>\n",
              "      <td>0.198622</td>\n",
              "      <td>0.319441</td>\n",
              "      <td>0.078113</td>\n",
              "      <td>0.454334</td>\n",
              "      <td>0.190344</td>\n",
              "      <td>0.223490</td>\n",
              "      <td>0.343150</td>\n",
              "      <td>0.277372</td>\n",
              "    </tr>\n",
              "    <tr>\n",
              "      <th>2021-11-19</th>\n",
              "      <td>0.060369</td>\n",
              "      <td>0.276685</td>\n",
              "      <td>0.212520</td>\n",
              "      <td>0.051903</td>\n",
              "      <td>0.198785</td>\n",
              "      <td>0.319443</td>\n",
              "      <td>0.077207</td>\n",
              "      <td>0.454938</td>\n",
              "      <td>0.190255</td>\n",
              "      <td>0.223672</td>\n",
              "      <td>0.341446</td>\n",
              "      <td>0.274965</td>\n",
              "    </tr>\n",
              "  </tbody>\n",
              "</table>\n",
              "</div>"
            ],
            "text/plain": [
              "            Shanghai       DOW    CAC 40  FTSE 100       DAX   S&P 500  \\\n",
              "Date                                                                     \n",
              "2021-11-15  0.059034  0.279415  0.209620  0.054667  0.196534  0.318306   \n",
              "2021-11-16  0.059315  0.278820  0.210658  0.055188  0.197381  0.318318   \n",
              "2021-11-17  0.060262  0.278286  0.211719  0.054630  0.198110  0.318769   \n",
              "2021-11-18  0.059951  0.277964  0.212457  0.053248  0.198622  0.319441   \n",
              "2021-11-19  0.060369  0.276685  0.212520  0.051903  0.198785  0.319443   \n",
              "\n",
              "            Hang Seng Index    NASDAQ     Kospi  Nikkei 225  Nifty 50  \\\n",
              "Date                                                                    \n",
              "2021-11-15         0.073244  0.452058  0.188434    0.220236  0.345119   \n",
              "2021-11-16         0.075993  0.452133  0.189194    0.221445  0.344659   \n",
              "2021-11-17         0.077954  0.453261  0.189898    0.222817  0.343885   \n",
              "2021-11-18         0.078113  0.454334  0.190344    0.223490  0.343150   \n",
              "2021-11-19         0.077207  0.454938  0.190255    0.223672  0.341446   \n",
              "\n",
              "             Russell  \n",
              "Date                  \n",
              "2021-11-15  0.280594  \n",
              "2021-11-16  0.279668  \n",
              "2021-11-17  0.279046  \n",
              "2021-11-18  0.277372  \n",
              "2021-11-19  0.274965  "
            ]
          },
          "execution_count": 7,
          "metadata": {},
          "output_type": "execute_result"
        }
      ],
      "source": [
        "#Find the expanding mean (Mean till the current date every day)\n",
        "period_returns_mean = period_rets.expanding().mean()\n",
        "period_returns_mean.tail()"
      ]
    },
    {
      "cell_type": "markdown",
      "metadata": {
        "id": "MZw_hmOZxV3E"
      },
      "source": [
        "## (iii) Get the standard deviation of returns every day till that day"
      ]
    },
    {
      "cell_type": "code",
      "execution_count": 8,
      "metadata": {
        "id": "Kv5XMXJMuNiN"
      },
      "outputs": [
        {
          "data": {
            "text/html": [
              "<div>\n",
              "<style scoped>\n",
              "    .dataframe tbody tr th:only-of-type {\n",
              "        vertical-align: middle;\n",
              "    }\n",
              "\n",
              "    .dataframe tbody tr th {\n",
              "        vertical-align: top;\n",
              "    }\n",
              "\n",
              "    .dataframe thead th {\n",
              "        text-align: right;\n",
              "    }\n",
              "</style>\n",
              "<table border=\"1\" class=\"dataframe\">\n",
              "  <thead>\n",
              "    <tr style=\"text-align: right;\">\n",
              "      <th></th>\n",
              "      <th>Shanghai</th>\n",
              "      <th>DOW</th>\n",
              "      <th>CAC 40</th>\n",
              "      <th>FTSE 100</th>\n",
              "      <th>DAX</th>\n",
              "      <th>S&amp;P 500</th>\n",
              "      <th>Hang Seng Index</th>\n",
              "      <th>NASDAQ</th>\n",
              "      <th>Kospi</th>\n",
              "      <th>Nikkei 225</th>\n",
              "      <th>Nifty 50</th>\n",
              "      <th>Russell</th>\n",
              "    </tr>\n",
              "    <tr>\n",
              "      <th>Date</th>\n",
              "      <th></th>\n",
              "      <th></th>\n",
              "      <th></th>\n",
              "      <th></th>\n",
              "      <th></th>\n",
              "      <th></th>\n",
              "      <th></th>\n",
              "      <th></th>\n",
              "      <th></th>\n",
              "      <th></th>\n",
              "      <th></th>\n",
              "      <th></th>\n",
              "    </tr>\n",
              "  </thead>\n",
              "  <tbody>\n",
              "    <tr>\n",
              "      <th>2021-11-15</th>\n",
              "      <td>2.331098</td>\n",
              "      <td>2.510673</td>\n",
              "      <td>2.720793</td>\n",
              "      <td>2.256127</td>\n",
              "      <td>2.734582</td>\n",
              "      <td>2.334167</td>\n",
              "      <td>2.521062</td>\n",
              "      <td>2.632900</td>\n",
              "      <td>2.529231</td>\n",
              "      <td>2.639537</td>\n",
              "      <td>2.460493</td>\n",
              "      <td>3.219266</td>\n",
              "    </tr>\n",
              "    <tr>\n",
              "      <th>2021-11-16</th>\n",
              "      <td>2.330218</td>\n",
              "      <td>2.509793</td>\n",
              "      <td>2.719996</td>\n",
              "      <td>2.255332</td>\n",
              "      <td>2.733694</td>\n",
              "      <td>2.333265</td>\n",
              "      <td>2.522025</td>\n",
              "      <td>2.631883</td>\n",
              "      <td>2.528401</td>\n",
              "      <td>2.638875</td>\n",
              "      <td>2.459597</td>\n",
              "      <td>3.218194</td>\n",
              "    </tr>\n",
              "    <tr>\n",
              "      <th>2021-11-17</th>\n",
              "      <td>2.329567</td>\n",
              "      <td>2.508896</td>\n",
              "      <td>2.719213</td>\n",
              "      <td>2.254550</td>\n",
              "      <td>2.732763</td>\n",
              "      <td>2.332420</td>\n",
              "      <td>2.522039</td>\n",
              "      <td>2.631179</td>\n",
              "      <td>2.527551</td>\n",
              "      <td>2.638317</td>\n",
              "      <td>2.458804</td>\n",
              "      <td>3.217028</td>\n",
              "    </tr>\n",
              "    <tr>\n",
              "      <th>2021-11-18</th>\n",
              "      <td>2.328694</td>\n",
              "      <td>2.507954</td>\n",
              "      <td>2.718293</td>\n",
              "      <td>2.254228</td>\n",
              "      <td>2.731770</td>\n",
              "      <td>2.331644</td>\n",
              "      <td>2.521071</td>\n",
              "      <td>2.630446</td>\n",
              "      <td>2.526626</td>\n",
              "      <td>2.637410</td>\n",
              "      <td>2.457997</td>\n",
              "      <td>3.216350</td>\n",
              "    </tr>\n",
              "    <tr>\n",
              "      <th>2021-11-19</th>\n",
              "      <td>2.327844</td>\n",
              "      <td>2.507409</td>\n",
              "      <td>2.717245</td>\n",
              "      <td>2.253879</td>\n",
              "      <td>2.730722</td>\n",
              "      <td>2.330744</td>\n",
              "      <td>2.520310</td>\n",
              "      <td>2.629521</td>\n",
              "      <td>2.525653</td>\n",
              "      <td>2.636400</td>\n",
              "      <td>2.457815</td>\n",
              "      <td>3.216278</td>\n",
              "    </tr>\n",
              "  </tbody>\n",
              "</table>\n",
              "</div>"
            ],
            "text/plain": [
              "            Shanghai       DOW    CAC 40  FTSE 100       DAX   S&P 500  \\\n",
              "Date                                                                     \n",
              "2021-11-15  2.331098  2.510673  2.720793  2.256127  2.734582  2.334167   \n",
              "2021-11-16  2.330218  2.509793  2.719996  2.255332  2.733694  2.333265   \n",
              "2021-11-17  2.329567  2.508896  2.719213  2.254550  2.732763  2.332420   \n",
              "2021-11-18  2.328694  2.507954  2.718293  2.254228  2.731770  2.331644   \n",
              "2021-11-19  2.327844  2.507409  2.717245  2.253879  2.730722  2.330744   \n",
              "\n",
              "            Hang Seng Index    NASDAQ     Kospi  Nikkei 225  Nifty 50  \\\n",
              "Date                                                                    \n",
              "2021-11-15         2.521062  2.632900  2.529231    2.639537  2.460493   \n",
              "2021-11-16         2.522025  2.631883  2.528401    2.638875  2.459597   \n",
              "2021-11-17         2.522039  2.631179  2.527551    2.638317  2.458804   \n",
              "2021-11-18         2.521071  2.630446  2.526626    2.637410  2.457997   \n",
              "2021-11-19         2.520310  2.629521  2.525653    2.636400  2.457815   \n",
              "\n",
              "             Russell  \n",
              "Date                  \n",
              "2021-11-15  3.219266  \n",
              "2021-11-16  3.218194  \n",
              "2021-11-17  3.217028  \n",
              "2021-11-18  3.216350  \n",
              "2021-11-19  3.216278  "
            ]
          },
          "execution_count": 8,
          "metadata": {},
          "output_type": "execute_result"
        }
      ],
      "source": [
        "#Find the expanding standard deviation (std till the current date every day)\n",
        "period_returns_std = period_rets.expanding().std()\n",
        "period_returns_std.tail()"
      ]
    },
    {
      "cell_type": "markdown",
      "metadata": {
        "id": "_ODMbgbDxeIp"
      },
      "source": [
        "## (iv) Get the Z-Score of returns using the returns, mean and standard deviation\n",
        "\n",
        "![image.png](data:image/png;base64,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)"
      ]
    },
    {
      "cell_type": "code",
      "execution_count": 9,
      "metadata": {
        "id": "UZtDFsZGuNad"
      },
      "outputs": [
        {
          "data": {
            "text/html": [
              "<div>\n",
              "<style scoped>\n",
              "    .dataframe tbody tr th:only-of-type {\n",
              "        vertical-align: middle;\n",
              "    }\n",
              "\n",
              "    .dataframe tbody tr th {\n",
              "        vertical-align: top;\n",
              "    }\n",
              "\n",
              "    .dataframe thead th {\n",
              "        text-align: right;\n",
              "    }\n",
              "</style>\n",
              "<table border=\"1\" class=\"dataframe\">\n",
              "  <thead>\n",
              "    <tr style=\"text-align: right;\">\n",
              "      <th></th>\n",
              "      <th>Shanghai</th>\n",
              "      <th>DOW</th>\n",
              "      <th>CAC 40</th>\n",
              "      <th>FTSE 100</th>\n",
              "      <th>DAX</th>\n",
              "      <th>S&amp;P 500</th>\n",
              "      <th>Hang Seng Index</th>\n",
              "      <th>NASDAQ</th>\n",
              "      <th>Kospi</th>\n",
              "      <th>Nikkei 225</th>\n",
              "      <th>Nifty 50</th>\n",
              "      <th>Russell</th>\n",
              "    </tr>\n",
              "    <tr>\n",
              "      <th>Date</th>\n",
              "      <th></th>\n",
              "      <th></th>\n",
              "      <th></th>\n",
              "      <th></th>\n",
              "      <th></th>\n",
              "      <th></th>\n",
              "      <th></th>\n",
              "      <th></th>\n",
              "      <th></th>\n",
              "      <th></th>\n",
              "      <th></th>\n",
              "      <th></th>\n",
              "    </tr>\n",
              "  </thead>\n",
              "  <tbody>\n",
              "    <tr>\n",
              "      <th>2021-11-15</th>\n",
              "      <td>0.399782</td>\n",
              "      <td>-0.488214</td>\n",
              "      <td>0.346169</td>\n",
              "      <td>0.288447</td>\n",
              "      <td>0.160853</td>\n",
              "      <td>-0.308588</td>\n",
              "      <td>0.975481</td>\n",
              "      <td>-0.477092</td>\n",
              "      <td>0.450674</td>\n",
              "      <td>0.262907</td>\n",
              "      <td>-0.048270</td>\n",
              "      <td>-0.618836</td>\n",
              "    </tr>\n",
              "    <tr>\n",
              "      <th>2021-11-16</th>\n",
              "      <td>0.155528</td>\n",
              "      <td>-0.306102</td>\n",
              "      <td>0.493238</td>\n",
              "      <td>0.298596</td>\n",
              "      <td>0.400754</td>\n",
              "      <td>0.006732</td>\n",
              "      <td>1.409079</td>\n",
              "      <td>0.037052</td>\n",
              "      <td>0.389106</td>\n",
              "      <td>0.592395</td>\n",
              "      <td>-0.241636</td>\n",
              "      <td>-0.371995</td>\n",
              "    </tr>\n",
              "    <tr>\n",
              "      <th>2021-11-17</th>\n",
              "      <td>0.526130</td>\n",
              "      <td>-0.275402</td>\n",
              "      <td>0.505155</td>\n",
              "      <td>-0.320324</td>\n",
              "      <td>0.344954</td>\n",
              "      <td>0.250484</td>\n",
              "      <td>1.006411</td>\n",
              "      <td>0.554780</td>\n",
              "      <td>0.360317</td>\n",
              "      <td>0.672843</td>\n",
              "      <td>-0.407459</td>\n",
              "      <td>-0.250257</td>\n",
              "    </tr>\n",
              "    <tr>\n",
              "      <th>2021-11-18</th>\n",
              "      <td>-0.172583</td>\n",
              "      <td>-0.166646</td>\n",
              "      <td>0.351391</td>\n",
              "      <td>-0.793793</td>\n",
              "      <td>0.242801</td>\n",
              "      <td>0.372848</td>\n",
              "      <td>0.081708</td>\n",
              "      <td>0.527920</td>\n",
              "      <td>0.228581</td>\n",
              "      <td>0.330711</td>\n",
              "      <td>-0.387251</td>\n",
              "      <td>-0.674081</td>\n",
              "    </tr>\n",
              "    <tr>\n",
              "      <th>2021-11-19</th>\n",
              "      <td>0.232246</td>\n",
              "      <td>-0.660875</td>\n",
              "      <td>0.030201</td>\n",
              "      <td>-0.773573</td>\n",
              "      <td>0.077151</td>\n",
              "      <td>0.001382</td>\n",
              "      <td>-0.466136</td>\n",
              "      <td>0.298088</td>\n",
              "      <td>-0.045722</td>\n",
              "      <td>0.089247</td>\n",
              "      <td>-0.898475</td>\n",
              "      <td>-0.970119</td>\n",
              "    </tr>\n",
              "  </tbody>\n",
              "</table>\n",
              "</div>"
            ],
            "text/plain": [
              "            Shanghai       DOW    CAC 40  FTSE 100       DAX   S&P 500  \\\n",
              "Date                                                                     \n",
              "2021-11-15  0.399782 -0.488214  0.346169  0.288447  0.160853 -0.308588   \n",
              "2021-11-16  0.155528 -0.306102  0.493238  0.298596  0.400754  0.006732   \n",
              "2021-11-17  0.526130 -0.275402  0.505155 -0.320324  0.344954  0.250484   \n",
              "2021-11-18 -0.172583 -0.166646  0.351391 -0.793793  0.242801  0.372848   \n",
              "2021-11-19  0.232246 -0.660875  0.030201 -0.773573  0.077151  0.001382   \n",
              "\n",
              "            Hang Seng Index    NASDAQ     Kospi  Nikkei 225  Nifty 50  \\\n",
              "Date                                                                    \n",
              "2021-11-15         0.975481 -0.477092  0.450674    0.262907 -0.048270   \n",
              "2021-11-16         1.409079  0.037052  0.389106    0.592395 -0.241636   \n",
              "2021-11-17         1.006411  0.554780  0.360317    0.672843 -0.407459   \n",
              "2021-11-18         0.081708  0.527920  0.228581    0.330711 -0.387251   \n",
              "2021-11-19        -0.466136  0.298088 -0.045722    0.089247 -0.898475   \n",
              "\n",
              "             Russell  \n",
              "Date                  \n",
              "2021-11-15 -0.618836  \n",
              "2021-11-16 -0.371995  \n",
              "2021-11-17 -0.250257  \n",
              "2021-11-18 -0.674081  \n",
              "2021-11-19 -0.970119  "
            ]
          },
          "execution_count": 9,
          "metadata": {},
          "output_type": "execute_result"
        }
      ],
      "source": [
        "#Find the Z-Scores using the returns, mean and standard deviation\n",
        "period_returns_z = (period_rets - period_returns_mean) / period_returns_std\n",
        "period_returns_z.tail()"
      ]
    },
    {
      "cell_type": "markdown",
      "metadata": {
        "id": "DwKNmueYzdH0"
      },
      "source": [
        "## (v) Arrange the data in the following way to make it easier to deal with adding multiple period z_scores\n",
        "\n",
        "Arrange the data in the following way\n",
        "\n",
        "Date, symbol, Return value, Z-Score"
      ]
    },
    {
      "cell_type": "markdown",
      "metadata": {
        "id": "LI7yXCYV0k9F"
      },
      "source": [
        "### (a) Reset the index of returns and z-scores data frame"
      ]
    },
    {
      "cell_type": "code",
      "execution_count": 10,
      "metadata": {
        "id": "4mrdht_9zcrr"
      },
      "outputs": [
        {
          "data": {
            "text/html": [
              "<div>\n",
              "<style scoped>\n",
              "    .dataframe tbody tr th:only-of-type {\n",
              "        vertical-align: middle;\n",
              "    }\n",
              "\n",
              "    .dataframe tbody tr th {\n",
              "        vertical-align: top;\n",
              "    }\n",
              "\n",
              "    .dataframe thead th {\n",
              "        text-align: right;\n",
              "    }\n",
              "</style>\n",
              "<table border=\"1\" class=\"dataframe\">\n",
              "  <thead>\n",
              "    <tr style=\"text-align: right;\">\n",
              "      <th></th>\n",
              "      <th>Date</th>\n",
              "      <th>Shanghai</th>\n",
              "      <th>DOW</th>\n",
              "      <th>CAC 40</th>\n",
              "      <th>FTSE 100</th>\n",
              "      <th>DAX</th>\n",
              "      <th>S&amp;P 500</th>\n",
              "      <th>Hang Seng Index</th>\n",
              "      <th>NASDAQ</th>\n",
              "      <th>Kospi</th>\n",
              "      <th>Nikkei 225</th>\n",
              "      <th>Nifty 50</th>\n",
              "      <th>Russell</th>\n",
              "    </tr>\n",
              "  </thead>\n",
              "  <tbody>\n",
              "    <tr>\n",
              "      <th>1292</th>\n",
              "      <td>2021-11-15</td>\n",
              "      <td>0.990964</td>\n",
              "      <td>-0.946331</td>\n",
              "      <td>1.151474</td>\n",
              "      <td>0.705441</td>\n",
              "      <td>0.636400</td>\n",
              "      <td>-0.401991</td>\n",
              "      <td>2.532493</td>\n",
              "      <td>-0.804079</td>\n",
              "      <td>1.328291</td>\n",
              "      <td>0.914188</td>\n",
              "      <td>0.226352</td>\n",
              "      <td>-1.711605</td>\n",
              "    </tr>\n",
              "    <tr>\n",
              "      <th>1293</th>\n",
              "      <td>2021-11-16</td>\n",
              "      <td>0.421729</td>\n",
              "      <td>-0.489432</td>\n",
              "      <td>1.552263</td>\n",
              "      <td>0.728622</td>\n",
              "      <td>1.292921</td>\n",
              "      <td>0.334025</td>\n",
              "      <td>3.629725</td>\n",
              "      <td>0.549650</td>\n",
              "      <td>1.173012</td>\n",
              "      <td>1.784702</td>\n",
              "      <td>-0.249668</td>\n",
              "      <td>-0.917485</td>\n",
              "    </tr>\n",
              "    <tr>\n",
              "      <th>1294</th>\n",
              "      <td>2021-11-17</td>\n",
              "      <td>1.285918</td>\n",
              "      <td>-0.412669</td>\n",
              "      <td>1.585343</td>\n",
              "      <td>-0.667557</td>\n",
              "      <td>1.140788</td>\n",
              "      <td>0.903004</td>\n",
              "      <td>2.616162</td>\n",
              "      <td>1.912987</td>\n",
              "      <td>1.100619</td>\n",
              "      <td>1.997991</td>\n",
              "      <td>-0.657976</td>\n",
              "      <td>-0.526037</td>\n",
              "    </tr>\n",
              "    <tr>\n",
              "      <th>1295</th>\n",
              "      <td>2021-11-18</td>\n",
              "      <td>-0.341942</td>\n",
              "      <td>-0.139976</td>\n",
              "      <td>1.167641</td>\n",
              "      <td>-1.736142</td>\n",
              "      <td>0.861899</td>\n",
              "      <td>1.188789</td>\n",
              "      <td>0.284104</td>\n",
              "      <td>1.842999</td>\n",
              "      <td>0.767883</td>\n",
              "      <td>1.095711</td>\n",
              "      <td>-0.608712</td>\n",
              "      <td>-1.890708</td>\n",
              "    </tr>\n",
              "    <tr>\n",
              "      <th>1296</th>\n",
              "      <td>2021-11-19</td>\n",
              "      <td>0.601001</td>\n",
              "      <td>-1.380399</td>\n",
              "      <td>0.294584</td>\n",
              "      <td>-1.691637</td>\n",
              "      <td>0.409464</td>\n",
              "      <td>0.322664</td>\n",
              "      <td>-1.097601</td>\n",
              "      <td>1.238768</td>\n",
              "      <td>0.074777</td>\n",
              "      <td>0.458962</td>\n",
              "      <td>-1.866839</td>\n",
              "      <td>-2.845206</td>\n",
              "    </tr>\n",
              "  </tbody>\n",
              "</table>\n",
              "</div>"
            ],
            "text/plain": [
              "           Date  Shanghai       DOW    CAC 40  FTSE 100       DAX   S&P 500  \\\n",
              "1292 2021-11-15  0.990964 -0.946331  1.151474  0.705441  0.636400 -0.401991   \n",
              "1293 2021-11-16  0.421729 -0.489432  1.552263  0.728622  1.292921  0.334025   \n",
              "1294 2021-11-17  1.285918 -0.412669  1.585343 -0.667557  1.140788  0.903004   \n",
              "1295 2021-11-18 -0.341942 -0.139976  1.167641 -1.736142  0.861899  1.188789   \n",
              "1296 2021-11-19  0.601001 -1.380399  0.294584 -1.691637  0.409464  0.322664   \n",
              "\n",
              "      Hang Seng Index    NASDAQ     Kospi  Nikkei 225  Nifty 50   Russell  \n",
              "1292         2.532493 -0.804079  1.328291    0.914188  0.226352 -1.711605  \n",
              "1293         3.629725  0.549650  1.173012    1.784702 -0.249668 -0.917485  \n",
              "1294         2.616162  1.912987  1.100619    1.997991 -0.657976 -0.526037  \n",
              "1295         0.284104  1.842999  0.767883    1.095711 -0.608712 -1.890708  \n",
              "1296        -1.097601  1.238768  0.074777    0.458962 -1.866839 -2.845206  "
            ]
          },
          "execution_count": 10,
          "metadata": {},
          "output_type": "execute_result"
        }
      ],
      "source": [
        "#Reset the index of returns\n",
        "period_rets.reset_index(inplace=True)\n",
        "period_rets.tail()"
      ]
    },
    {
      "cell_type": "code",
      "execution_count": 11,
      "metadata": {
        "id": "GICtczfs0V3R"
      },
      "outputs": [
        {
          "data": {
            "text/html": [
              "<div>\n",
              "<style scoped>\n",
              "    .dataframe tbody tr th:only-of-type {\n",
              "        vertical-align: middle;\n",
              "    }\n",
              "\n",
              "    .dataframe tbody tr th {\n",
              "        vertical-align: top;\n",
              "    }\n",
              "\n",
              "    .dataframe thead th {\n",
              "        text-align: right;\n",
              "    }\n",
              "</style>\n",
              "<table border=\"1\" class=\"dataframe\">\n",
              "  <thead>\n",
              "    <tr style=\"text-align: right;\">\n",
              "      <th></th>\n",
              "      <th>Date</th>\n",
              "      <th>Shanghai</th>\n",
              "      <th>DOW</th>\n",
              "      <th>CAC 40</th>\n",
              "      <th>FTSE 100</th>\n",
              "      <th>DAX</th>\n",
              "      <th>S&amp;P 500</th>\n",
              "      <th>Hang Seng Index</th>\n",
              "      <th>NASDAQ</th>\n",
              "      <th>Kospi</th>\n",
              "      <th>Nikkei 225</th>\n",
              "      <th>Nifty 50</th>\n",
              "      <th>Russell</th>\n",
              "    </tr>\n",
              "  </thead>\n",
              "  <tbody>\n",
              "    <tr>\n",
              "      <th>1292</th>\n",
              "      <td>2021-11-15</td>\n",
              "      <td>0.399782</td>\n",
              "      <td>-0.488214</td>\n",
              "      <td>0.346169</td>\n",
              "      <td>0.288447</td>\n",
              "      <td>0.160853</td>\n",
              "      <td>-0.308588</td>\n",
              "      <td>0.975481</td>\n",
              "      <td>-0.477092</td>\n",
              "      <td>0.450674</td>\n",
              "      <td>0.262907</td>\n",
              "      <td>-0.048270</td>\n",
              "      <td>-0.618836</td>\n",
              "    </tr>\n",
              "    <tr>\n",
              "      <th>1293</th>\n",
              "      <td>2021-11-16</td>\n",
              "      <td>0.155528</td>\n",
              "      <td>-0.306102</td>\n",
              "      <td>0.493238</td>\n",
              "      <td>0.298596</td>\n",
              "      <td>0.400754</td>\n",
              "      <td>0.006732</td>\n",
              "      <td>1.409079</td>\n",
              "      <td>0.037052</td>\n",
              "      <td>0.389106</td>\n",
              "      <td>0.592395</td>\n",
              "      <td>-0.241636</td>\n",
              "      <td>-0.371995</td>\n",
              "    </tr>\n",
              "    <tr>\n",
              "      <th>1294</th>\n",
              "      <td>2021-11-17</td>\n",
              "      <td>0.526130</td>\n",
              "      <td>-0.275402</td>\n",
              "      <td>0.505155</td>\n",
              "      <td>-0.320324</td>\n",
              "      <td>0.344954</td>\n",
              "      <td>0.250484</td>\n",
              "      <td>1.006411</td>\n",
              "      <td>0.554780</td>\n",
              "      <td>0.360317</td>\n",
              "      <td>0.672843</td>\n",
              "      <td>-0.407459</td>\n",
              "      <td>-0.250257</td>\n",
              "    </tr>\n",
              "    <tr>\n",
              "      <th>1295</th>\n",
              "      <td>2021-11-18</td>\n",
              "      <td>-0.172583</td>\n",
              "      <td>-0.166646</td>\n",
              "      <td>0.351391</td>\n",
              "      <td>-0.793793</td>\n",
              "      <td>0.242801</td>\n",
              "      <td>0.372848</td>\n",
              "      <td>0.081708</td>\n",
              "      <td>0.527920</td>\n",
              "      <td>0.228581</td>\n",
              "      <td>0.330711</td>\n",
              "      <td>-0.387251</td>\n",
              "      <td>-0.674081</td>\n",
              "    </tr>\n",
              "    <tr>\n",
              "      <th>1296</th>\n",
              "      <td>2021-11-19</td>\n",
              "      <td>0.232246</td>\n",
              "      <td>-0.660875</td>\n",
              "      <td>0.030201</td>\n",
              "      <td>-0.773573</td>\n",
              "      <td>0.077151</td>\n",
              "      <td>0.001382</td>\n",
              "      <td>-0.466136</td>\n",
              "      <td>0.298088</td>\n",
              "      <td>-0.045722</td>\n",
              "      <td>0.089247</td>\n",
              "      <td>-0.898475</td>\n",
              "      <td>-0.970119</td>\n",
              "    </tr>\n",
              "  </tbody>\n",
              "</table>\n",
              "</div>"
            ],
            "text/plain": [
              "           Date  Shanghai       DOW    CAC 40  FTSE 100       DAX   S&P 500  \\\n",
              "1292 2021-11-15  0.399782 -0.488214  0.346169  0.288447  0.160853 -0.308588   \n",
              "1293 2021-11-16  0.155528 -0.306102  0.493238  0.298596  0.400754  0.006732   \n",
              "1294 2021-11-17  0.526130 -0.275402  0.505155 -0.320324  0.344954  0.250484   \n",
              "1295 2021-11-18 -0.172583 -0.166646  0.351391 -0.793793  0.242801  0.372848   \n",
              "1296 2021-11-19  0.232246 -0.660875  0.030201 -0.773573  0.077151  0.001382   \n",
              "\n",
              "      Hang Seng Index    NASDAQ     Kospi  Nikkei 225  Nifty 50   Russell  \n",
              "1292         0.975481 -0.477092  0.450674    0.262907 -0.048270 -0.618836  \n",
              "1293         1.409079  0.037052  0.389106    0.592395 -0.241636 -0.371995  \n",
              "1294         1.006411  0.554780  0.360317    0.672843 -0.407459 -0.250257  \n",
              "1295         0.081708  0.527920  0.228581    0.330711 -0.387251 -0.674081  \n",
              "1296        -0.466136  0.298088 -0.045722    0.089247 -0.898475 -0.970119  "
            ]
          },
          "execution_count": 11,
          "metadata": {},
          "output_type": "execute_result"
        }
      ],
      "source": [
        "#Reset the index of z-scores\n",
        "period_returns_z.reset_index(inplace=True)\n",
        "period_returns_z.tail()"
      ]
    },
    {
      "cell_type": "markdown",
      "metadata": {
        "id": "js4uFaTH0tPE"
      },
      "source": [
        "### (b) Melt the returns & z-score data frame & Sort by date"
      ]
    },
    {
      "cell_type": "code",
      "execution_count": 12,
      "metadata": {
        "id": "eBpOq88100NJ"
      },
      "outputs": [
        {
          "data": {
            "text/html": [
              "<div>\n",
              "<style scoped>\n",
              "    .dataframe tbody tr th:only-of-type {\n",
              "        vertical-align: middle;\n",
              "    }\n",
              "\n",
              "    .dataframe tbody tr th {\n",
              "        vertical-align: top;\n",
              "    }\n",
              "\n",
              "    .dataframe thead th {\n",
              "        text-align: right;\n",
              "    }\n",
              "</style>\n",
              "<table border=\"1\" class=\"dataframe\">\n",
              "  <thead>\n",
              "    <tr style=\"text-align: right;\">\n",
              "      <th></th>\n",
              "      <th>Date</th>\n",
              "      <th>Symbol</th>\n",
              "      <th>Returns</th>\n",
              "    </tr>\n",
              "  </thead>\n",
              "  <tbody>\n",
              "    <tr>\n",
              "      <th>0</th>\n",
              "      <td>2016-11-28</td>\n",
              "      <td>Shanghai</td>\n",
              "      <td>1.828755</td>\n",
              "    </tr>\n",
              "    <tr>\n",
              "      <th>1</th>\n",
              "      <td>2016-11-29</td>\n",
              "      <td>Shanghai</td>\n",
              "      <td>1.064294</td>\n",
              "    </tr>\n",
              "    <tr>\n",
              "      <th>2</th>\n",
              "      <td>2016-11-30</td>\n",
              "      <td>Shanghai</td>\n",
              "      <td>0.274502</td>\n",
              "    </tr>\n",
              "    <tr>\n",
              "      <th>3</th>\n",
              "      <td>2016-12-01</td>\n",
              "      <td>Shanghai</td>\n",
              "      <td>0.973953</td>\n",
              "    </tr>\n",
              "    <tr>\n",
              "      <th>4</th>\n",
              "      <td>2016-12-02</td>\n",
              "      <td>Shanghai</td>\n",
              "      <td>-0.554731</td>\n",
              "    </tr>\n",
              "  </tbody>\n",
              "</table>\n",
              "</div>"
            ],
            "text/plain": [
              "        Date    Symbol   Returns\n",
              "0 2016-11-28  Shanghai  1.828755\n",
              "1 2016-11-29  Shanghai  1.064294\n",
              "2 2016-11-30  Shanghai  0.274502\n",
              "3 2016-12-01  Shanghai  0.973953\n",
              "4 2016-12-02  Shanghai -0.554731"
            ]
          },
          "execution_count": 12,
          "metadata": {},
          "output_type": "execute_result"
        }
      ],
      "source": [
        "#Melt the returns data frame\n",
        "period_rets = pd.melt(period_rets, id_vars=['Date'], var_name='Symbol', value_name=\"Returns\")\n",
        "period_rets.head()"
      ]
    },
    {
      "cell_type": "code",
      "execution_count": 13,
      "metadata": {
        "id": "NfKt91kR1vX2"
      },
      "outputs": [
        {
          "data": {
            "text/html": [
              "<div>\n",
              "<style scoped>\n",
              "    .dataframe tbody tr th:only-of-type {\n",
              "        vertical-align: middle;\n",
              "    }\n",
              "\n",
              "    .dataframe tbody tr th {\n",
              "        vertical-align: top;\n",
              "    }\n",
              "\n",
              "    .dataframe thead th {\n",
              "        text-align: right;\n",
              "    }\n",
              "</style>\n",
              "<table border=\"1\" class=\"dataframe\">\n",
              "  <thead>\n",
              "    <tr style=\"text-align: right;\">\n",
              "      <th></th>\n",
              "      <th>Date</th>\n",
              "      <th>Symbol</th>\n",
              "      <th>Returns</th>\n",
              "    </tr>\n",
              "  </thead>\n",
              "  <tbody>\n",
              "    <tr>\n",
              "      <th>0</th>\n",
              "      <td>2016-11-28</td>\n",
              "      <td>Shanghai</td>\n",
              "      <td>NaN</td>\n",
              "    </tr>\n",
              "    <tr>\n",
              "      <th>1</th>\n",
              "      <td>2016-11-29</td>\n",
              "      <td>Shanghai</td>\n",
              "      <td>-0.707107</td>\n",
              "    </tr>\n",
              "    <tr>\n",
              "      <th>2</th>\n",
              "      <td>2016-11-30</td>\n",
              "      <td>Shanghai</td>\n",
              "      <td>-1.005388</td>\n",
              "    </tr>\n",
              "    <tr>\n",
              "      <th>3</th>\n",
              "      <td>2016-12-01</td>\n",
              "      <td>Shanghai</td>\n",
              "      <td>-0.096596</td>\n",
              "    </tr>\n",
              "    <tr>\n",
              "      <th>4</th>\n",
              "      <td>2016-12-02</td>\n",
              "      <td>Shanghai</td>\n",
              "      <td>-1.414358</td>\n",
              "    </tr>\n",
              "  </tbody>\n",
              "</table>\n",
              "</div>"
            ],
            "text/plain": [
              "        Date    Symbol   Returns\n",
              "0 2016-11-28  Shanghai       NaN\n",
              "1 2016-11-29  Shanghai -0.707107\n",
              "2 2016-11-30  Shanghai -1.005388\n",
              "3 2016-12-01  Shanghai -0.096596\n",
              "4 2016-12-02  Shanghai -1.414358"
            ]
          },
          "execution_count": 13,
          "metadata": {},
          "output_type": "execute_result"
        }
      ],
      "source": [
        "#Melt the z_score data frame\n",
        "period_returns_z = pd.melt(period_returns_z, id_vars=['Date'], var_name='Symbol', value_name=\"Returns\")\n",
        "period_returns_z.head()"
      ]
    },
    {
      "cell_type": "code",
      "execution_count": 14,
      "metadata": {
        "id": "lxYAh7nj3Duw"
      },
      "outputs": [
        {
          "data": {
            "text/html": [
              "<div>\n",
              "<style scoped>\n",
              "    .dataframe tbody tr th:only-of-type {\n",
              "        vertical-align: middle;\n",
              "    }\n",
              "\n",
              "    .dataframe tbody tr th {\n",
              "        vertical-align: top;\n",
              "    }\n",
              "\n",
              "    .dataframe thead th {\n",
              "        text-align: right;\n",
              "    }\n",
              "</style>\n",
              "<table border=\"1\" class=\"dataframe\">\n",
              "  <thead>\n",
              "    <tr style=\"text-align: right;\">\n",
              "      <th></th>\n",
              "      <th>Date</th>\n",
              "      <th>Symbol</th>\n",
              "      <th>Returns</th>\n",
              "    </tr>\n",
              "  </thead>\n",
              "  <tbody>\n",
              "    <tr>\n",
              "      <th>0</th>\n",
              "      <td>2016-11-28</td>\n",
              "      <td>Shanghai</td>\n",
              "      <td>NaN</td>\n",
              "    </tr>\n",
              "    <tr>\n",
              "      <th>1</th>\n",
              "      <td>2016-11-29</td>\n",
              "      <td>Shanghai</td>\n",
              "      <td>-0.707107</td>\n",
              "    </tr>\n",
              "    <tr>\n",
              "      <th>2</th>\n",
              "      <td>2016-11-30</td>\n",
              "      <td>Shanghai</td>\n",
              "      <td>-1.005388</td>\n",
              "    </tr>\n",
              "    <tr>\n",
              "      <th>3</th>\n",
              "      <td>2016-12-01</td>\n",
              "      <td>Shanghai</td>\n",
              "      <td>-0.096596</td>\n",
              "    </tr>\n",
              "    <tr>\n",
              "      <th>4</th>\n",
              "      <td>2016-12-02</td>\n",
              "      <td>Shanghai</td>\n",
              "      <td>-1.414358</td>\n",
              "    </tr>\n",
              "  </tbody>\n",
              "</table>\n",
              "</div>"
            ],
            "text/plain": [
              "        Date    Symbol   Returns\n",
              "0 2016-11-28  Shanghai       NaN\n",
              "1 2016-11-29  Shanghai -0.707107\n",
              "2 2016-11-30  Shanghai -1.005388\n",
              "3 2016-12-01  Shanghai -0.096596\n",
              "4 2016-12-02  Shanghai -1.414358"
            ]
          },
          "execution_count": 14,
          "metadata": {},
          "output_type": "execute_result"
        }
      ],
      "source": [
        "#Sort returns and z scores by date\n",
        "period_rets = period_rets.sort_index()\n",
        "period_rets.head()\n",
        "\n",
        "period_returns_z = period_returns_z.sort_index()\n",
        "period_returns_z.head()"
      ]
    },
    {
      "cell_type": "markdown",
      "metadata": {
        "id": "TsdyaHub2KzQ"
      },
      "source": [
        "### (c) Set the date and symbol as multi index for returns and z-scores"
      ]
    },
    {
      "cell_type": "code",
      "execution_count": 15,
      "metadata": {
        "id": "_ZUBx1Ty2Kgq"
      },
      "outputs": [
        {
          "data": {
            "text/html": [
              "<div>\n",
              "<style scoped>\n",
              "    .dataframe tbody tr th:only-of-type {\n",
              "        vertical-align: middle;\n",
              "    }\n",
              "\n",
              "    .dataframe tbody tr th {\n",
              "        vertical-align: top;\n",
              "    }\n",
              "\n",
              "    .dataframe thead th {\n",
              "        text-align: right;\n",
              "    }\n",
              "</style>\n",
              "<table border=\"1\" class=\"dataframe\">\n",
              "  <thead>\n",
              "    <tr style=\"text-align: right;\">\n",
              "      <th></th>\n",
              "      <th></th>\n",
              "      <th>Returns</th>\n",
              "    </tr>\n",
              "    <tr>\n",
              "      <th>Date</th>\n",
              "      <th>Symbol</th>\n",
              "      <th></th>\n",
              "    </tr>\n",
              "  </thead>\n",
              "  <tbody>\n",
              "    <tr>\n",
              "      <th>2021-11-15</th>\n",
              "      <th>Russell</th>\n",
              "      <td>-1.711605</td>\n",
              "    </tr>\n",
              "    <tr>\n",
              "      <th>2021-11-16</th>\n",
              "      <th>Russell</th>\n",
              "      <td>-0.917485</td>\n",
              "    </tr>\n",
              "    <tr>\n",
              "      <th>2021-11-17</th>\n",
              "      <th>Russell</th>\n",
              "      <td>-0.526037</td>\n",
              "    </tr>\n",
              "    <tr>\n",
              "      <th>2021-11-18</th>\n",
              "      <th>Russell</th>\n",
              "      <td>-1.890708</td>\n",
              "    </tr>\n",
              "    <tr>\n",
              "      <th>2021-11-19</th>\n",
              "      <th>Russell</th>\n",
              "      <td>-2.845206</td>\n",
              "    </tr>\n",
              "  </tbody>\n",
              "</table>\n",
              "</div>"
            ],
            "text/plain": [
              "                     Returns\n",
              "Date       Symbol           \n",
              "2021-11-15 Russell -1.711605\n",
              "2021-11-16 Russell -0.917485\n",
              "2021-11-17 Russell -0.526037\n",
              "2021-11-18 Russell -1.890708\n",
              "2021-11-19 Russell -2.845206"
            ]
          },
          "execution_count": 15,
          "metadata": {},
          "output_type": "execute_result"
        }
      ],
      "source": [
        "#Set the multi index for returns\n",
        "period_rets.set_index(['Date', 'Symbol'], inplace=True)\n",
        "period_rets.tail()"
      ]
    },
    {
      "cell_type": "code",
      "execution_count": 16,
      "metadata": {
        "id": "k37Barnl2fkj"
      },
      "outputs": [],
      "source": [
        "#Set the multi index for z-score\n"
      ]
    },
    {
      "cell_type": "markdown",
      "metadata": {
        "id": "rK_QpPnw2rFk"
      },
      "source": [
        "### (d) Combine the returns and the z_scores"
      ]
    },
    {
      "cell_type": "code",
      "execution_count": null,
      "metadata": {
        "id": "2bGThu1m2qrA"
      },
      "outputs": [],
      "source": []
    },
    {
      "cell_type": "markdown",
      "metadata": {
        "id": "W4kIYX9p4R1c"
      },
      "source": [
        "### (e) Add period information to combined data frame"
      ]
    },
    {
      "cell_type": "code",
      "execution_count": null,
      "metadata": {
        "id": "e9CFClLP4QlR"
      },
      "outputs": [],
      "source": []
    },
    {
      "cell_type": "markdown",
      "metadata": {
        "id": "qDHiYKymx4GQ"
      },
      "source": [
        "# 6) Create function to get Z-Score\n",
        "\n",
        "Input: Close prices, Period, Name for the period\n",
        "\n",
        "Output: Returnns and z_scores"
      ]
    },
    {
      "cell_type": "code",
      "execution_count": 17,
      "metadata": {
        "id": "oaRNM4oSuNXu"
      },
      "outputs": [],
      "source": [
        "def get_zscores(close_prices, period_val, period_name):\n",
        "\n",
        "  #Period returns\n",
        "  \n",
        "\n",
        "  #Expanding mean of returns\n",
        "  \n",
        "\n",
        "  #Expanding std of returns\n",
        "  \n",
        "\n",
        "  #Z-Score of returns\n",
        "  \n",
        "\n",
        "  #Melt the returns data frame\n",
        "  \n",
        "  \n",
        "  #Melt the zcores data frame\n",
        "  \n",
        "\n",
        "  #Sort the returns by date in ascending order\n",
        "  \n",
        "\n",
        "  #Sort the returns by date in ascending order\n",
        "  \n",
        "\n",
        "  #Set the index to be date & symbol for returns\n",
        "  \n",
        "  \n",
        "  #Set the index to be date & symbol for z scores\n",
        "  \n",
        "\n",
        "  #Combine returns and Z Scores\n",
        "  \n",
        "\n",
        "  #Add period name to the columns\n",
        "  \n",
        "\n",
        "  return combined_rets_zscores"
      ]
    },
    {
      "cell_type": "code",
      "execution_count": 18,
      "metadata": {
        "id": "t-k3O_GD5Hba"
      },
      "outputs": [],
      "source": [
        "#Test the function\n"
      ]
    },
    {
      "cell_type": "markdown",
      "metadata": {
        "id": "YMEZZtC75j1u"
      },
      "source": [
        "# 7) Using the Function get the vals for weekly, monthly and quarterly"
      ]
    },
    {
      "cell_type": "code",
      "execution_count": 19,
      "metadata": {
        "id": "EF3HsUSxuNU4"
      },
      "outputs": [],
      "source": [
        "#Weekly returns\n"
      ]
    },
    {
      "cell_type": "code",
      "execution_count": 20,
      "metadata": {
        "id": "xZEo9GJyuNR6"
      },
      "outputs": [],
      "source": [
        "#Monthly returns\n"
      ]
    },
    {
      "cell_type": "code",
      "execution_count": 21,
      "metadata": {
        "id": "QlrtxmXwuNO8"
      },
      "outputs": [],
      "source": [
        "#Quarterly returns\n"
      ]
    },
    {
      "cell_type": "markdown",
      "metadata": {
        "id": "BjsGEYTh6lGz"
      },
      "source": [
        "# 8) Combine all periods values"
      ]
    },
    {
      "cell_type": "code",
      "execution_count": null,
      "metadata": {
        "id": "Z5liRnXbuNMP"
      },
      "outputs": [],
      "source": []
    },
    {
      "cell_type": "markdown",
      "metadata": {
        "id": "eeNNO5sc66iC"
      },
      "source": [
        "# 9) Reset the index to get the values as on a particluar day"
      ]
    },
    {
      "cell_type": "code",
      "execution_count": null,
      "metadata": {
        "id": "M7Rc6H8_uNJV"
      },
      "outputs": [],
      "source": []
    },
    {
      "cell_type": "markdown",
      "metadata": {
        "id": "A0gDIX7z7I7T"
      },
      "source": [
        "# 10) Get the data for a particular day"
      ]
    },
    {
      "cell_type": "markdown",
      "metadata": {
        "id": "m6tFSRgQ76Jo"
      },
      "source": [
        "## (i) For a particular date, get the last data available date till that date"
      ]
    },
    {
      "cell_type": "code",
      "execution_count": 22,
      "metadata": {
        "id": "rLHfk6DzuNGX"
      },
      "outputs": [],
      "source": [
        "#Convert the string to datetime\n"
      ]
    },
    {
      "cell_type": "code",
      "execution_count": 23,
      "metadata": {
        "id": "gHoAIJDq71wk"
      },
      "outputs": [],
      "source": [
        "#List of all unique dates available\n"
      ]
    },
    {
      "cell_type": "code",
      "execution_count": 24,
      "metadata": {
        "id": "AaNENCM4uNCk"
      },
      "outputs": [],
      "source": [
        "#Sort the available dates\n"
      ]
    },
    {
      "cell_type": "code",
      "execution_count": 25,
      "metadata": {
        "id": "7dAuyGdfuM3Q"
      },
      "outputs": [],
      "source": [
        "#last data available date till the input date\n"
      ]
    },
    {
      "cell_type": "markdown",
      "metadata": {
        "id": "i6vPgODm898k"
      },
      "source": [
        "## (ii) Get the summary as on the required date"
      ]
    },
    {
      "cell_type": "code",
      "execution_count": 26,
      "metadata": {
        "id": "xuyw7y0L872D"
      },
      "outputs": [],
      "source": [
        "# filter the summary as on required date"
      ]
    },
    {
      "cell_type": "markdown",
      "metadata": {
        "id": "RjDmAveR9oDF"
      },
      "source": [
        "# 11) Plot a scatter plot with weekly z_scores on x-axis, monthly z_scores on y-axis and size & color indicating the quarterly returns"
      ]
    },
    {
      "cell_type": "markdown",
      "metadata": {
        "id": "1sdy6dTg-Tsp"
      },
      "source": [
        "## (i) Create a copy of date's data as plot df"
      ]
    },
    {
      "cell_type": "code",
      "execution_count": null,
      "metadata": {
        "id": "Mv1wr_bq87zX"
      },
      "outputs": [],
      "source": []
    },
    {
      "cell_type": "markdown",
      "metadata": {
        "id": "gTcwpPRz-gDW"
      },
      "source": [
        "## (ii) Create a column indicating the color of quartely returns\n",
        "\n",
        "Red if the returns are negative & green if the returns are positive"
      ]
    },
    {
      "cell_type": "code",
      "execution_count": null,
      "metadata": {
        "id": "1DWDCBzv87ww"
      },
      "outputs": [],
      "source": []
    },
    {
      "cell_type": "markdown",
      "metadata": {
        "id": "gDC4y-Ib_Ckq"
      },
      "source": [
        "## (iii) Create a column of absolute quartely retuns as there cannot be negative size "
      ]
    },
    {
      "cell_type": "code",
      "execution_count": null,
      "metadata": {
        "id": "cyfn7AbZ87uR"
      },
      "outputs": [],
      "source": []
    },
    {
      "cell_type": "markdown",
      "metadata": {
        "id": "jgbSwx1j_YD9"
      },
      "source": [
        "## (iv) Create a basic scatter plot to see what all need to be changed"
      ]
    },
    {
      "cell_type": "code",
      "execution_count": 27,
      "metadata": {
        "id": "TdGxDVQd87rt"
      },
      "outputs": [],
      "source": [
        "# use plt.scatter"
      ]
    },
    {
      "cell_type": "markdown",
      "metadata": {
        "id": "9EcppKU0AXtl"
      },
      "source": [
        "## (v) Add all the remaining elements to the plot"
      ]
    },
    {
      "cell_type": "code",
      "execution_count": 28,
      "metadata": {
        "id": "WJn_iuU-87pH"
      },
      "outputs": [],
      "source": [
        "\n",
        "#Add title to summarize the plot\n",
        "\n",
        "#Add appropriate x-label\n",
        "\n",
        "#Add appropriate y-label\n",
        "\n",
        "#Add lables to the data points in scatter plot\n",
        "\n"
      ]
    },
    {
      "cell_type": "markdown",
      "metadata": {
        "id": "JqzArMXEBqiA"
      },
      "source": [
        "# 12) Function to get the plot based on input date"
      ]
    },
    {
      "cell_type": "code",
      "execution_count": 29,
      "metadata": {
        "id": "JEbFpXd287mx"
      },
      "outputs": [],
      "source": [
        "def get_plot_for_date(all_periods_summary,req_date):\n",
        "\n",
        "  #converting the input string to date\n",
        "  \n",
        "  \n",
        "  #All available dates\n",
        "  \n",
        "  \n",
        "  #All dates sorted\n",
        "  \n",
        "  \n",
        "  #Last data available date till the input date\n",
        "  \n",
        "  \n",
        "  #Data as on the required date\n",
        "  \n",
        "  \n",
        "  #Copy of the req_date_data\n",
        "  \n",
        "\n",
        "  #Creating a color col to indicate quarterly returns\n",
        "  \n",
        "\n",
        "  #Creating a abs val of quarterly returns to indicate the depth of returns \n",
        "  \n",
        "\n",
        "\n",
        "  \n",
        "\n",
        "  #Add title to summarize the plot\n",
        "  \n",
        "\n",
        "  #Add appropriate x-label\n",
        "  \n",
        "\n",
        "  #Add appropriate y-label\n",
        "  \n",
        "\n",
        "  #Add lables to the data points in scatter plot\n",
        "  \n",
        "\n",
        "  return req_date_data"
      ]
    },
    {
      "cell_type": "code",
      "execution_count": 30,
      "metadata": {
        "id": "XzFEQ60887kM"
      },
      "outputs": [],
      "source": [
        "#Test the function\n"
      ]
    },
    {
      "cell_type": "markdown",
      "metadata": {
        "id": "pgF_puCmFuJP"
      },
      "source": [
        "# 13) Collect all the functions together to easily test for various market combinations"
      ]
    },
    {
      "cell_type": "code",
      "execution_count": 31,
      "metadata": {
        "id": "irWCV1jvIahq"
      },
      "outputs": [],
      "source": [
        "def get_all_periods_summary(Symbols):\n",
        "  #list of input symbols\n",
        "  \n",
        "  \n",
        "  #Download data from yahoo finance\n",
        "\n",
        "  \n",
        "  #Keep only the close prices\n",
        "  \n",
        "  \n",
        "  #Change the column names to be names instead of symbols\n",
        "  \n",
        "  \n",
        "  #Weekly returns\n",
        "  \n",
        "  \n",
        "  #Monthly returns\n",
        "  \n",
        "  \n",
        "  #Quarterly returns\n",
        "  \n",
        "  \n",
        "  #Combine all period returns\n",
        "  \n",
        "  \n",
        "  #Reset the index\n",
        "  \n",
        "\n",
        "  return all_periods_summary"
      ]
    },
    {
      "cell_type": "code",
      "execution_count": 32,
      "metadata": {
        "id": "fE0mlLOlFjnZ"
      },
      "outputs": [],
      "source": [
        "Symbols = {'^NSEI':'Nifty 50',\n",
        "           '^NSEBANK':'NIFTY BANK',\n",
        "           '^CNXIT':'NIFTY IT',\n",
        "           'RELIANCE.NS':'RELIANCE',\n",
        "           'ICICIBANK.NS':'ICICI Bank',\n",
        "           'SBIN.NS':'SBI Bank'\n",
        "           }"
      ]
    },
    {
      "cell_type": "code",
      "execution_count": 33,
      "metadata": {
        "id": "GzcaE4UxGI0K"
      },
      "outputs": [
        {
          "ename": "NameError",
          "evalue": "name 'all_periods_summary' is not defined",
          "output_type": "error",
          "traceback": [
            "\u001b[0;31m---------------------------------------------------------------------------\u001b[0m",
            "\u001b[0;31mNameError\u001b[0m                                 Traceback (most recent call last)",
            "\u001b[0;32m/tmp/ipykernel_594600/3365446706.py\u001b[0m in \u001b[0;36m<module>\u001b[0;34m\u001b[0m\n\u001b[0;32m----> 1\u001b[0;31m \u001b[0mall_periods_summary\u001b[0m \u001b[0;34m=\u001b[0m \u001b[0mget_all_periods_summary\u001b[0m\u001b[0;34m(\u001b[0m\u001b[0mSymbols\u001b[0m\u001b[0;34m)\u001b[0m\u001b[0;34m\u001b[0m\u001b[0;34m\u001b[0m\u001b[0m\n\u001b[0m\u001b[1;32m      2\u001b[0m \u001b[0mall_periods_summary\u001b[0m\u001b[0;34m.\u001b[0m\u001b[0mtail\u001b[0m\u001b[0;34m(\u001b[0m\u001b[0;34m)\u001b[0m\u001b[0;34m\u001b[0m\u001b[0;34m\u001b[0m\u001b[0m\n",
            "\u001b[0;32m/tmp/ipykernel_594600/498867035.py\u001b[0m in \u001b[0;36mget_all_periods_summary\u001b[0;34m(Symbols)\u001b[0m\n\u001b[1;32m     27\u001b[0m \u001b[0;34m\u001b[0m\u001b[0m\n\u001b[1;32m     28\u001b[0m \u001b[0;34m\u001b[0m\u001b[0m\n\u001b[0;32m---> 29\u001b[0;31m   \u001b[0;32mreturn\u001b[0m \u001b[0mall_periods_summary\u001b[0m\u001b[0;34m\u001b[0m\u001b[0;34m\u001b[0m\u001b[0m\n\u001b[0m",
            "\u001b[0;31mNameError\u001b[0m: name 'all_periods_summary' is not defined"
          ]
        }
      ],
      "source": [
        "all_periods_summary = get_all_periods_summary(Symbols)\n",
        "all_periods_summary.tail()"
      ]
    },
    {
      "cell_type": "code",
      "execution_count": null,
      "metadata": {
        "id": "w3HgTXg6G2sn"
      },
      "outputs": [],
      "source": [
        "summary_data = get_plot_for_date(all_periods_summary,'2021-09-30')\n",
        "summary_data"
      ]
    },
    {
      "cell_type": "code",
      "execution_count": null,
      "metadata": {
        "id": "DecoNrZROvCj"
      },
      "outputs": [],
      "source": []
    }
  ],
  "metadata": {
    "colab": {
      "collapsed_sections": [],
      "name": "20211121_AIFM_C1_Dashboard_WithZScore_StudentVersion.ipynb",
      "provenance": []
    },
    "kernelspec": {
      "display_name": "Python 3",
      "language": "python",
      "name": "python3"
    },
    "language_info": {
      "codemirror_mode": {
        "name": "ipython",
        "version": 3
      },
      "file_extension": ".py",
      "mimetype": "text/x-python",
      "name": "python",
      "nbconvert_exporter": "python",
      "pygments_lexer": "ipython3",
      "version": "3.9.5"
    }
  },
  "nbformat": 4,
  "nbformat_minor": 0
}
