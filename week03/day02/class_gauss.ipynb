{
 "cells": [
  {
   "cell_type": "markdown",
   "metadata": {},
   "source": [
    "### what is the level of return at which you can confidently say, there is 95% chance that index performance will be higher than that?"
   ]
  },
  {
   "cell_type": "code",
   "execution_count": 2,
   "metadata": {},
   "outputs": [
    {
     "name": "stdout",
     "output_type": "stream",
     "text": [
      "Value at Risk:  -3.5931633419883875\n"
     ]
    }
   ],
   "source": [
    "from scipy import stats\n",
    "\n",
    "mean_return = 0.19\n",
    "std = 2.3\n",
    "\n",
    "risk = stats.norm.ppf(0.05, mean_return, std)\n",
    "\n",
    "print(\"Value at Risk: \", risk)"
   ]
  },
  {
   "cell_type": "code",
   "execution_count": 3,
   "metadata": {},
   "outputs": [],
   "source": [
    "import vectorbt as vbt"
   ]
  },
  {
   "cell_type": "code",
   "execution_count": 4,
   "metadata": {},
   "outputs": [],
   "source": [
    "price=vbt.YFData.download('GE')"
   ]
  },
  {
   "cell_type": "code",
   "execution_count": 8,
   "metadata": {},
   "outputs": [
    {
     "data": {
      "text/plain": [
       "Date\n",
       "1962-01-02 00:00:00+00:00      1.012673\n",
       "1962-01-03 00:00:00+00:00      1.002513\n",
       "1962-01-04 00:00:00+00:00      0.990659\n",
       "1962-01-05 00:00:00+00:00      0.965257\n",
       "1962-01-08 00:00:00+00:00      0.963564\n",
       "                                ...    \n",
       "2021-11-15 00:00:00+00:00    106.669998\n",
       "2021-11-16 00:00:00+00:00    103.349998\n",
       "2021-11-17 00:00:00+00:00    101.989998\n",
       "2021-11-18 00:00:00+00:00    100.669998\n",
       "2021-11-19 00:00:00+00:00     99.959999\n",
       "Name: Close, Length: 15077, dtype: float64"
      ]
     },
     "execution_count": 8,
     "metadata": {},
     "output_type": "execute_result"
    }
   ],
   "source": [
    "close_prices = price.get('Close')\n",
    "close_prices"
   ]
  },
  {
   "cell_type": "code",
   "execution_count": 9,
   "metadata": {},
   "outputs": [
    {
     "data": {
      "text/plain": [
       "<AxesSubplot:xlabel='Date'>"
      ]
     },
     "execution_count": 9,
     "metadata": {},
     "output_type": "execute_result"
    },
    {
     "data": {
      "image/png": "[encoded data removed]",
      "text/plain": [
       "<Figure size 432x288 with 1 Axes>"
      ]
     },
     "metadata": {
      "needs_background": "light"
     },
     "output_type": "display_data"
    }
   ],
   "source": [
    "close_prices.plot()"
   ]
  },
  {
   "cell_type": "code",
   "execution_count": 10,
   "metadata": {},
   "outputs": [],
   "source": [
    "b_bands = vbt.BBANDS.run(close_prices)"
   ]
  },
  {
   "cell_type": "code",
   "execution_count": 12,
   "metadata": {},
   "outputs": [
    {
     "data": {
      "application/vnd.jupyter.widget-view+json": {
       "model_id": "060a079bfa694b84bf1c0276ff8ae1b5",
       "version_major": 2,
       "version_minor": 0
      },
      "text/plain": [
       "FigureWidget({\n",
       "    'data': [{'line': {'color': 'rgba(127,127,127,0.7500)'},\n",
       "              'name': 'Lower Band'…"
      ]
     },
     "metadata": {},
     "output_type": "display_data"
    }
   ],
   "source": [
    "b_bands['2020'].plot()"
   ]
  },
  {
   "cell_type": "code",
   "execution_count": null,
   "metadata": {},
   "outputs": [],
   "source": []
  }
 ],
 "metadata": {
  "interpreter": {
   "hash": "55d0b4ccffeb9b154e341e407456d5cea6d771368bb7675a33e5fa1472ae1b00"
  },
  "kernelspec": {
   "display_name": "Python 3.9.5 64-bit ('3.9.5': pyenv)",
   "language": "python",
   "name": "python3"
  },
  "language_info": {
   "codemirror_mode": {
    "name": "ipython",
    "version": 3
   },
   "file_extension": ".py",
   "mimetype": "text/x-python",
   "name": "python",
   "nbconvert_exporter": "python",
   "pygments_lexer": "ipython3",
   "version": "3.9.5"
  },
  "orig_nbformat": 4
 },
 "nbformat": 4,
 "nbformat_minor": 2
}
