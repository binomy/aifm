{
 "cells": [
  {
   "cell_type": "code",
   "execution_count": null,
   "metadata": {},
   "outputs": [],
   "source": [
    "import numpy as np\n",
    "import matplotlib.pyplot as plt\n",
    "from sklearn import PolynomialFeatures"
   ]
  },
  {
   "cell_type": "code",
   "execution_count": null,
   "metadata": {},
   "outputs": [],
   "source": [
    "def PolynomialFit(TrainSet, TestSet, nOrder):\n",
    "  xtrain=TrainSet.x\n",
    "  ytrain=TrainSet.y\n",
    "  xtest=TestSet.x\n",
    "  ytest=TestSet.y\n",
    "\n",
    "  polynomial_features = PolynomialFeatures(degree=nOrder)\n",
    "  xp_train = polynomial_features.fit_transform(np.array(xtrain).reshape(-1, 1))\n",
    "\n",
    "  model = sm.OLS(ytrain, xp_train).fit()\n",
    "  xp_test = polynomial_features.fit_transform(np.array(xtest).reshape(-1, 1))"
   ]
  }
 ],
 "metadata": {
  "language_info": {
   "name": "python"
  },
  "orig_nbformat": 4
 },
 "nbformat": 4,
 "nbformat_minor": 2
}
