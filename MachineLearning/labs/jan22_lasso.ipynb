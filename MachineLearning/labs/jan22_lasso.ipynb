{
 "cells": [
  {
   "cell_type": "markdown",
   "metadata": {},
   "source": [
    "## 1) Import modules"
   ]
  },
  {
   "cell_type": "code",
   "execution_count": 2,
   "metadata": {},
   "outputs": [],
   "source": [
    "import pickle\n",
    "import re\n",
    "import pandas as pd\n",
    "from sklearn.preprocessing import StandardScaler\n",
    "from sklearn import linear_model\n",
    "import numpy as np\n",
    "from sklearn.metrics import r2_score, mean_absolute_percentage_error\n",
    "import pprint\n",
    "pp = pprint.PrettyPrinter()\n",
    "\n",
    "import matplotlib.pyplot as plt\n",
    "plt.style.use('ggplot')"
   ]
  },
  {
   "cell_type": "markdown",
   "metadata": {},
   "source": [
    "## 2) Read the data\n",
    "\n",
    "#### Read the FED indicators & understand the structure"
   ]
  },
  {
   "cell_type": "code",
   "execution_count": 4,
   "metadata": {},
   "outputs": [
    {
     "data": {
      "text/plain": [
       "(86, 963)"
      ]
     },
     "execution_count": 4,
     "metadata": {},
     "output_type": "execute_result"
    }
   ],
   "source": [
    "fed_indcs_wmt_rps = pd.read_csv('../data/fed_wmt_data_final.csv',parse_dates=True,index_col='fillingDate')\n",
    "fed_indcs_wmt_rps.shape"
   ]
  },
  {
   "cell_type": "code",
   "execution_count": 5,
   "metadata": {},
   "outputs": [
    {
     "data": {
      "text/html": [
       "<div>\n",
       "<style scoped>\n",
       "    .dataframe tbody tr th:only-of-type {\n",
       "        vertical-align: middle;\n",
       "    }\n",
       "\n",
       "    .dataframe tbody tr th {\n",
       "        vertical-align: top;\n",
       "    }\n",
       "\n",
       "    .dataframe thead th {\n",
       "        text-align: right;\n",
       "    }\n",
       "</style>\n",
       "<table border=\"1\" class=\"dataframe\">\n",
       "  <thead>\n",
       "    <tr style=\"text-align: right;\">\n",
       "      <th></th>\n",
       "      <th>1</th>\n",
       "      <th>3</th>\n",
       "      <th>5</th>\n",
       "      <th>6</th>\n",
       "      <th>7</th>\n",
       "      <th>9</th>\n",
       "      <th>11</th>\n",
       "      <th>14</th>\n",
       "      <th>16</th>\n",
       "      <th>19</th>\n",
       "      <th>...</th>\n",
       "      <th>1229_lag1</th>\n",
       "      <th>1238_lag1</th>\n",
       "      <th>1240_lag1</th>\n",
       "      <th>1243_lag1</th>\n",
       "      <th>1244_lag1</th>\n",
       "      <th>1253_lag1</th>\n",
       "      <th>revenuePerShare_lag1</th>\n",
       "      <th>revenuePerShare_lag2</th>\n",
       "      <th>revenuePerShare_lag3</th>\n",
       "      <th>revenuePerShare_lag4</th>\n",
       "    </tr>\n",
       "    <tr>\n",
       "      <th>fillingDate</th>\n",
       "      <th></th>\n",
       "      <th></th>\n",
       "      <th></th>\n",
       "      <th></th>\n",
       "      <th></th>\n",
       "      <th></th>\n",
       "      <th></th>\n",
       "      <th></th>\n",
       "      <th></th>\n",
       "      <th></th>\n",
       "      <th></th>\n",
       "      <th></th>\n",
       "      <th></th>\n",
       "      <th></th>\n",
       "      <th></th>\n",
       "      <th></th>\n",
       "      <th></th>\n",
       "      <th></th>\n",
       "      <th></th>\n",
       "      <th></th>\n",
       "      <th></th>\n",
       "    </tr>\n",
       "  </thead>\n",
       "  <tbody>\n",
       "    <tr>\n",
       "      <th>2000-04-30</th>\n",
       "      <td>-0.41</td>\n",
       "      <td>0.014810</td>\n",
       "      <td>-0.177778</td>\n",
       "      <td>-0.100601</td>\n",
       "      <td>6.02</td>\n",
       "      <td>0.028571</td>\n",
       "      <td>0.025400</td>\n",
       "      <td>-0.001065</td>\n",
       "      <td>0.17</td>\n",
       "      <td>0.002994</td>\n",
       "      <td>...</td>\n",
       "      <td>5.3</td>\n",
       "      <td>90.1</td>\n",
       "      <td>89.5</td>\n",
       "      <td>90.1</td>\n",
       "      <td>90.1</td>\n",
       "      <td>-31.8</td>\n",
       "      <td>2.454245</td>\n",
       "      <td>2.217499</td>\n",
       "      <td>2.168347</td>\n",
       "      <td>2.066177</td>\n",
       "    </tr>\n",
       "    <tr>\n",
       "      <th>2000-07-31</th>\n",
       "      <td>-0.29</td>\n",
       "      <td>0.008757</td>\n",
       "      <td>0.135135</td>\n",
       "      <td>0.010017</td>\n",
       "      <td>6.54</td>\n",
       "      <td>-0.006700</td>\n",
       "      <td>0.031022</td>\n",
       "      <td>-0.020343</td>\n",
       "      <td>-0.09</td>\n",
       "      <td>0.008955</td>\n",
       "      <td>...</td>\n",
       "      <td>4.2</td>\n",
       "      <td>90.1</td>\n",
       "      <td>89.3</td>\n",
       "      <td>90.1</td>\n",
       "      <td>90.1</td>\n",
       "      <td>-10.8</td>\n",
       "      <td>2.277066</td>\n",
       "      <td>2.454245</td>\n",
       "      <td>2.217499</td>\n",
       "      <td>2.168347</td>\n",
       "    </tr>\n",
       "    <tr>\n",
       "      <th>2000-10-31</th>\n",
       "      <td>-0.17</td>\n",
       "      <td>0.006944</td>\n",
       "      <td>-0.142857</td>\n",
       "      <td>-0.051240</td>\n",
       "      <td>6.51</td>\n",
       "      <td>0.016758</td>\n",
       "      <td>0.018974</td>\n",
       "      <td>-0.009612</td>\n",
       "      <td>-0.55</td>\n",
       "      <td>-0.010355</td>\n",
       "      <td>...</td>\n",
       "      <td>5.7</td>\n",
       "      <td>95.3</td>\n",
       "      <td>94.5</td>\n",
       "      <td>95.3</td>\n",
       "      <td>95.3</td>\n",
       "      <td>-7.2</td>\n",
       "      <td>2.345074</td>\n",
       "      <td>2.277066</td>\n",
       "      <td>2.454245</td>\n",
       "      <td>2.217499</td>\n",
       "    </tr>\n",
       "    <tr>\n",
       "      <th>2001-01-31</th>\n",
       "      <td>0.40</td>\n",
       "      <td>0.006322</td>\n",
       "      <td>0.305556</td>\n",
       "      <td>-0.101045</td>\n",
       "      <td>5.98</td>\n",
       "      <td>0.025670</td>\n",
       "      <td>0.013785</td>\n",
       "      <td>0.007508</td>\n",
       "      <td>-0.13</td>\n",
       "      <td>-0.001495</td>\n",
       "      <td>...</td>\n",
       "      <td>5.1</td>\n",
       "      <td>94.6</td>\n",
       "      <td>93.8</td>\n",
       "      <td>94.6</td>\n",
       "      <td>94.6</td>\n",
       "      <td>9.3</td>\n",
       "      <td>2.335628</td>\n",
       "      <td>2.345074</td>\n",
       "      <td>2.277066</td>\n",
       "      <td>2.454245</td>\n",
       "    </tr>\n",
       "    <tr>\n",
       "      <th>2001-04-30</th>\n",
       "      <td>0.91</td>\n",
       "      <td>0.010280</td>\n",
       "      <td>-0.106383</td>\n",
       "      <td>-0.003876</td>\n",
       "      <td>4.80</td>\n",
       "      <td>0.039168</td>\n",
       "      <td>0.018624</td>\n",
       "      <td>0.023900</td>\n",
       "      <td>1.17</td>\n",
       "      <td>-0.001497</td>\n",
       "      <td>...</td>\n",
       "      <td>6.1</td>\n",
       "      <td>99.1</td>\n",
       "      <td>98.1</td>\n",
       "      <td>99.1</td>\n",
       "      <td>99.1</td>\n",
       "      <td>-31.1</td>\n",
       "      <td>2.546824</td>\n",
       "      <td>2.335628</td>\n",
       "      <td>2.345074</td>\n",
       "      <td>2.277066</td>\n",
       "    </tr>\n",
       "  </tbody>\n",
       "</table>\n",
       "<p>5 rows × 963 columns</p>\n",
       "</div>"
      ],
      "text/plain": [
       "                1         3         5         6     7         9        11  \\\n",
       "fillingDate                                                                 \n",
       "2000-04-30  -0.41  0.014810 -0.177778 -0.100601  6.02  0.028571  0.025400   \n",
       "2000-07-31  -0.29  0.008757  0.135135  0.010017  6.54 -0.006700  0.031022   \n",
       "2000-10-31  -0.17  0.006944 -0.142857 -0.051240  6.51  0.016758  0.018974   \n",
       "2001-01-31   0.40  0.006322  0.305556 -0.101045  5.98  0.025670  0.013785   \n",
       "2001-04-30   0.91  0.010280 -0.106383 -0.003876  4.80  0.039168  0.018624   \n",
       "\n",
       "                   14    16        19  ...  1229_lag1  1238_lag1  1240_lag1  \\\n",
       "fillingDate                            ...                                    \n",
       "2000-04-30  -0.001065  0.17  0.002994  ...        5.3       90.1       89.5   \n",
       "2000-07-31  -0.020343 -0.09  0.008955  ...        4.2       90.1       89.3   \n",
       "2000-10-31  -0.009612 -0.55 -0.010355  ...        5.7       95.3       94.5   \n",
       "2001-01-31   0.007508 -0.13 -0.001495  ...        5.1       94.6       93.8   \n",
       "2001-04-30   0.023900  1.17 -0.001497  ...        6.1       99.1       98.1   \n",
       "\n",
       "             1243_lag1  1244_lag1  1253_lag1  revenuePerShare_lag1  \\\n",
       "fillingDate                                                          \n",
       "2000-04-30        90.1       90.1      -31.8              2.454245   \n",
       "2000-07-31        90.1       90.1      -10.8              2.277066   \n",
       "2000-10-31        95.3       95.3       -7.2              2.345074   \n",
       "2001-01-31        94.6       94.6        9.3              2.335628   \n",
       "2001-04-30        99.1       99.1      -31.1              2.546824   \n",
       "\n",
       "             revenuePerShare_lag2  revenuePerShare_lag3  revenuePerShare_lag4  \n",
       "fillingDate                                                                    \n",
       "2000-04-30               2.217499              2.168347              2.066177  \n",
       "2000-07-31               2.454245              2.217499              2.168347  \n",
       "2000-10-31               2.277066              2.454245              2.217499  \n",
       "2001-01-31               2.345074              2.277066              2.454245  \n",
       "2001-04-30               2.335628              2.345074              2.277066  \n",
       "\n",
       "[5 rows x 963 columns]"
      ]
     },
     "execution_count": 5,
     "metadata": {},
     "output_type": "execute_result"
    }
   ],
   "source": [
    "fed_indcs_wmt_rps.head()"
   ]
  },
  {
   "cell_type": "markdown",
   "metadata": {},
   "source": [
    "## 3) Separate X & Y Variables"
   ]
  },
  {
   "cell_type": "code",
   "execution_count": 6,
   "metadata": {},
   "outputs": [],
   "source": [
    "x_train = fed_indcs_wmt_rps.drop('revenuePerShare',axis=1).copy()\n",
    "y_train = fed_indcs_wmt_rps['revenuePerShare'].copy()"
   ]
  },
  {
   "cell_type": "markdown",
   "metadata": {},
   "source": [
    "### 4) Scale X & Y Variables"
   ]
  },
  {
   "cell_type": "code",
   "execution_count": 7,
   "metadata": {},
   "outputs": [],
   "source": [
    "scaler = StandardScaler()\n",
    "x_train_scaled = scaler.fit_transform(x_train)"
   ]
  },
  {
   "cell_type": "code",
   "execution_count": 8,
   "metadata": {},
   "outputs": [
    {
     "data": {
      "text/plain": [
       "fillingDate\n",
       "2000-04-30   -2.182955\n",
       "2000-07-31   -2.036617\n",
       "2000-10-31   -2.056943\n",
       "2001-01-31   -1.602495\n",
       "2001-04-30   -1.950078\n",
       "                ...   \n",
       "2020-07-31    1.275669\n",
       "2020-10-31    1.226983\n",
       "2021-01-31    1.487973\n",
       "2021-04-30    1.297479\n",
       "2021-07-31    1.351925\n",
       "Name: revenuePerShare, Length: 86, dtype: float64"
      ]
     },
     "execution_count": 8,
     "metadata": {},
     "output_type": "execute_result"
    }
   ],
   "source": [
    "y_scaler = StandardScaler()\n",
    "y_train_scaled = y_train.copy()\n",
    "y_train_scaled = pd.DataFrame(y_scaler.fit_transform(pd.DataFrame(y_train_scaled)),\n",
    "                              index = y_train.index,columns=[y_train.name])\n",
    "y_train_scaled = y_train_scaled['revenuePerShare']\n",
    "y_train_scaled"
   ]
  },
  {
   "cell_type": "markdown",
   "metadata": {},
   "source": [
    "### 5) Build basic linear regression"
   ]
  },
  {
   "cell_type": "code",
   "execution_count": 9,
   "metadata": {},
   "outputs": [
    {
     "data": {
      "text/plain": [
       "1                      -0.012670\n",
       "3                      -0.001269\n",
       "5                       0.001719\n",
       "6                       0.002008\n",
       "7                      -0.006706\n",
       "                          ...   \n",
       "1253_lag1               0.003912\n",
       "revenuePerShare_lag1    0.028847\n",
       "revenuePerShare_lag2    0.029087\n",
       "revenuePerShare_lag3    0.028957\n",
       "revenuePerShare_lag4    0.029562\n",
       "Length: 962, dtype: float64"
      ]
     },
     "execution_count": 9,
     "metadata": {},
     "output_type": "execute_result"
    }
   ],
   "source": [
    "clf = linear_model.LinearRegression()\n",
    "clf.fit(x_train_scaled, y_train_scaled)\n",
    "coeffs = pd.Series(clf.coef_,index=x_train.columns)\n",
    "coeffs"
   ]
  },
  {
   "cell_type": "code",
   "execution_count": 10,
   "metadata": {},
   "outputs": [
    {
     "data": {
      "text/plain": [
       "962"
      ]
     },
     "execution_count": 10,
     "metadata": {},
     "output_type": "execute_result"
    }
   ],
   "source": [
    "(abs(coeffs) > 0).sum()"
   ]
  },
  {
   "cell_type": "markdown",
   "metadata": {},
   "source": [
    "### 6) Basic Lasso Regression"
   ]
  },
  {
   "cell_type": "code",
   "execution_count": 11,
   "metadata": {},
   "outputs": [
    {
     "name": "stderr",
     "output_type": "stream",
     "text": [
      "/Users/mahendra/.pyenv/versions/3.9.7/lib/python3.9/site-packages/sklearn/linear_model/_coordinate_descent.py:647: ConvergenceWarning: Objective did not converge. You might want to increase the number of iterations, check the scale of the features or consider increasing regularisation. Duality gap: 1.886e-02, tolerance: 8.600e-03\n",
      "  model = cd_fast.enet_coordinate_descent(\n"
     ]
    },
    {
     "data": {
      "text/plain": [
       "1                      -0.000000\n",
       "3                      -0.018121\n",
       "5                       0.000000\n",
       "6                       0.000000\n",
       "7                      -0.408867\n",
       "                          ...   \n",
       "1253_lag1               0.000000\n",
       "revenuePerShare_lag1    0.000000\n",
       "revenuePerShare_lag2    0.000000\n",
       "revenuePerShare_lag3    0.000000\n",
       "revenuePerShare_lag4    0.005501\n",
       "Length: 962, dtype: float64"
      ]
     },
     "execution_count": 11,
     "metadata": {},
     "output_type": "execute_result"
    }
   ],
   "source": [
    "clf = linear_model.Lasso(alpha=0.0001)\n",
    "clf.fit(x_train_scaled, y_train_scaled)\n",
    "coeffs = pd.Series(clf.coef_,index=x_train.columns)\n",
    "coeffs"
   ]
  },
  {
   "cell_type": "code",
   "execution_count": 12,
   "metadata": {},
   "outputs": [
    {
     "data": {
      "text/plain": [
       "165"
      ]
     },
     "execution_count": 12,
     "metadata": {},
     "output_type": "execute_result"
    }
   ],
   "source": [
    "(abs(coeffs) > 0).sum()"
   ]
  },
  {
   "cell_type": "markdown",
   "metadata": {},
   "source": [
    "### 7) Choosing alpha such that we have <=20 vars with coefficients"
   ]
  },
  {
   "cell_type": "code",
   "execution_count": 13,
   "metadata": {},
   "outputs": [
    {
     "name": "stdout",
     "output_type": "stream",
     "text": [
      "22\n"
     ]
    },
    {
     "data": {
      "text/plain": [
       "84                     -0.001274\n",
       "102                     0.006562\n",
       "133                    -0.007981\n",
       "391                    -0.008150\n",
       "453                    -0.000135\n",
       "1316                    0.009238\n",
       "1360                    0.006277\n",
       "327                    -0.009570\n",
       "529                     0.001478\n",
       "1061                   -0.007107\n",
       "1436                   -0.002283\n",
       "494                    -0.004155\n",
       "752                    -0.007043\n",
       "1237                   -0.005436\n",
       "223_lag1                0.000787\n",
       "915_lag1                0.016552\n",
       "1360_lag1               0.007343\n",
       "1259_lag1               0.124149\n",
       "1240_lag1               0.006717\n",
       "revenuePerShare_lag1    0.020567\n",
       "revenuePerShare_lag2    0.053951\n",
       "revenuePerShare_lag4    0.760102\n",
       "dtype: float64"
      ]
     },
     "execution_count": 13,
     "metadata": {},
     "output_type": "execute_result"
    }
   ],
   "source": [
    "alphathresh = 0.01\n",
    "train = True\n",
    "while train:\n",
    "  clf = linear_model.Lasso(alpha=alphathresh,max_iter = 1000000)\n",
    "  clf.fit(x_train_scaled,y_train_scaled)\n",
    "  coeffs = pd.Series(clf.coef_,index=x_train.columns)\n",
    "  if (abs(coeffs)>0).sum() <= 25:\n",
    "    train = False\n",
    "  else:\n",
    "    alphathresh = alphathresh*2\n",
    "coeffs = coeffs[abs(coeffs)>0]\n",
    "print(len(coeffs))\n",
    "coeffs\n"
   ]
  },
  {
   "cell_type": "markdown",
   "metadata": {},
   "source": [
    "### 8) Get the y preds and inverse scale and inverse transform the preds and actual values"
   ]
  },
  {
   "cell_type": "code",
   "execution_count": 14,
   "metadata": {},
   "outputs": [
    {
     "data": {
      "text/plain": [
       "fillingDate\n",
       "2000-04-30     9.748037\n",
       "2000-07-31    10.434043\n",
       "2000-10-31    10.335944\n",
       "2001-01-31    12.766495\n",
       "2001-04-30    10.862223\n",
       "                ...    \n",
       "2020-07-31    48.637712\n",
       "2020-10-31    47.549594\n",
       "2021-01-31    53.681257\n",
       "2021-04-30    49.133215\n",
       "2021-07-31    50.392283\n",
       "Name: revenuePerShare, Length: 86, dtype: float64"
      ]
     },
     "execution_count": 14,
     "metadata": {},
     "output_type": "execute_result"
    }
   ],
   "source": [
    "y_train_preds = pd.DataFrame(clf.predict(x_train_scaled),index = y_train.index,columns = ['revenuePerShare'])\n",
    "y_train_preds = pd.DataFrame(y_scaler.inverse_transform(y_train_preds),index= y_train.index,columns = ['revenuePerShare'])\n",
    "y_train_preds = y_train_preds['revenuePerShare']\n",
    "\n",
    "y_train_preds = np.exp(y_train_preds)\n",
    "y_train = np.exp(y_train)\n",
    "y_train\n"
   ]
  },
  {
   "cell_type": "markdown",
   "metadata": {},
   "source": [
    "### 9) Get the error metrics"
   ]
  },
  {
   "cell_type": "code",
   "execution_count": 15,
   "metadata": {},
   "outputs": [
    {
     "data": {
      "text/plain": [
       "'0.9979 1.39'"
      ]
     },
     "execution_count": 15,
     "metadata": {},
     "output_type": "execute_result"
    }
   ],
   "source": [
    "r2 = r2_score(y_train, y_train_preds)\n",
    "r2 = round(r2, 4)\n",
    "\n",
    "mape = mean_absolute_percentage_error(y_train, y_train_preds)\n",
    "mape = round(mape*100, 2)\n",
    "\n",
    "f'{r2} {mape}'"
   ]
  },
  {
   "cell_type": "markdown",
   "metadata": {},
   "source": [
    "### 10) Plot the actuals and preds"
   ]
  },
  {
   "cell_type": "code",
   "execution_count": 16,
   "metadata": {},
   "outputs": [
    {
     "data": {
      "image/png": "[encoded data removed]",
      "text/plain": [
       "<Figure size 432x288 with 1 Axes>"
      ]
     },
     "metadata": {},
     "output_type": "display_data"
    }
   ],
   "source": [
    "actual_preds = pd.concat([y_train,y_train_preds],axis=1)\n",
    "actual_preds.columns = ['Actuals', 'Preds']\n",
    "actual_preds.plot()\n",
    "plt.show()"
   ]
  },
  {
   "cell_type": "markdown",
   "metadata": {},
   "source": [
    "### 11) Read the FED Indcs description"
   ]
  },
  {
   "cell_type": "code",
   "execution_count": 3,
   "metadata": {},
   "outputs": [
    {
     "data": {
      "text/plain": [
       "(1462, 2)"
      ]
     },
     "execution_count": 3,
     "metadata": {},
     "output_type": "execute_result"
    }
   ],
   "source": [
    "fed_indcs = pd.read_csv('../data/fed_description.csv')\n",
    "fed_indcs.columns = ['id', 'title']\n",
    "fed_indcs.shape"
   ]
  },
  {
   "cell_type": "markdown",
   "metadata": {},
   "source": [
    "### 12) Map the name of the indicators to coefficients"
   ]
  },
  {
   "cell_type": "code",
   "execution_count": 18,
   "metadata": {},
   "outputs": [
    {
     "data": {
      "text/html": [
       "<div>\n",
       "<style scoped>\n",
       "    .dataframe tbody tr th:only-of-type {\n",
       "        vertical-align: middle;\n",
       "    }\n",
       "\n",
       "    .dataframe tbody tr th {\n",
       "        vertical-align: top;\n",
       "    }\n",
       "\n",
       "    .dataframe thead th {\n",
       "        text-align: right;\n",
       "    }\n",
       "</style>\n",
       "<table border=\"1\" class=\"dataframe\">\n",
       "  <thead>\n",
       "    <tr style=\"text-align: right;\">\n",
       "      <th></th>\n",
       "      <th>id</th>\n",
       "      <th>title</th>\n",
       "    </tr>\n",
       "  </thead>\n",
       "  <tbody>\n",
       "    <tr>\n",
       "      <th>84</th>\n",
       "      <td>84</td>\n",
       "      <td>China / U.S. Foreign Exchange Rate</td>\n",
       "    </tr>\n",
       "    <tr>\n",
       "      <th>102</th>\n",
       "      <td>102</td>\n",
       "      <td>Global price of Sunflower Oil</td>\n",
       "    </tr>\n",
       "    <tr>\n",
       "      <th>133</th>\n",
       "      <td>133</td>\n",
       "      <td>Population</td>\n",
       "    </tr>\n",
       "    <tr>\n",
       "      <th>223</th>\n",
       "      <td>223</td>\n",
       "      <td>Cass Freight Index: Shipments</td>\n",
       "    </tr>\n",
       "    <tr>\n",
       "      <th>327</th>\n",
       "      <td>327</td>\n",
       "      <td>Consumer Loans, All Commercial Banks</td>\n",
       "    </tr>\n",
       "    <tr>\n",
       "      <th>391</th>\n",
       "      <td>391</td>\n",
       "      <td>S&amp;P/Case-Shiller MA-Boston Home Price Index</td>\n",
       "    </tr>\n",
       "    <tr>\n",
       "      <th>453</th>\n",
       "      <td>453</td>\n",
       "      <td>S&amp;P/Case-Shiller DC-Washington Home Price Index</td>\n",
       "    </tr>\n",
       "    <tr>\n",
       "      <th>494</th>\n",
       "      <td>494</td>\n",
       "      <td>Real Estate Loans: Residential Real Estate Loa...</td>\n",
       "    </tr>\n",
       "    <tr>\n",
       "      <th>529</th>\n",
       "      <td>529</td>\n",
       "      <td>Producer Price Index by Commodity: Pulp, Paper...</td>\n",
       "    </tr>\n",
       "    <tr>\n",
       "      <th>752</th>\n",
       "      <td>752</td>\n",
       "      <td>M1 for Japan</td>\n",
       "    </tr>\n",
       "    <tr>\n",
       "      <th>915</th>\n",
       "      <td>915</td>\n",
       "      <td>Consumer Price Index: Total All Items for China</td>\n",
       "    </tr>\n",
       "    <tr>\n",
       "      <th>1061</th>\n",
       "      <td>1061</td>\n",
       "      <td>Retail Sales: Furniture and Home Furnishings S...</td>\n",
       "    </tr>\n",
       "    <tr>\n",
       "      <th>1237</th>\n",
       "      <td>1237</td>\n",
       "      <td>Ratio of Exports to Imports for China</td>\n",
       "    </tr>\n",
       "    <tr>\n",
       "      <th>1240</th>\n",
       "      <td>1240</td>\n",
       "      <td>Producer Price Index by Commodity: Farm Produc...</td>\n",
       "    </tr>\n",
       "    <tr>\n",
       "      <th>1259</th>\n",
       "      <td>1259</td>\n",
       "      <td>Consumer Price Index: Harmonized Prices: Total...</td>\n",
       "    </tr>\n",
       "    <tr>\n",
       "      <th>1316</th>\n",
       "      <td>1316</td>\n",
       "      <td>Manufacturers Inventories</td>\n",
       "    </tr>\n",
       "    <tr>\n",
       "      <th>1360</th>\n",
       "      <td>1360</td>\n",
       "      <td>Producer Price Index by Commodity: Farm Produc...</td>\n",
       "    </tr>\n",
       "    <tr>\n",
       "      <th>1436</th>\n",
       "      <td>1436</td>\n",
       "      <td>Real Broad Effective Exchange Rate for India</td>\n",
       "    </tr>\n",
       "  </tbody>\n",
       "</table>\n",
       "</div>"
      ],
      "text/plain": [
       "        id                                              title\n",
       "84      84                 China / U.S. Foreign Exchange Rate\n",
       "102    102                      Global price of Sunflower Oil\n",
       "133    133                                         Population\n",
       "223    223                      Cass Freight Index: Shipments\n",
       "327    327               Consumer Loans, All Commercial Banks\n",
       "391    391        S&P/Case-Shiller MA-Boston Home Price Index\n",
       "453    453    S&P/Case-Shiller DC-Washington Home Price Index\n",
       "494    494  Real Estate Loans: Residential Real Estate Loa...\n",
       "529    529  Producer Price Index by Commodity: Pulp, Paper...\n",
       "752    752                                       M1 for Japan\n",
       "915    915    Consumer Price Index: Total All Items for China\n",
       "1061  1061  Retail Sales: Furniture and Home Furnishings S...\n",
       "1237  1237              Ratio of Exports to Imports for China\n",
       "1240  1240  Producer Price Index by Commodity: Farm Produc...\n",
       "1259  1259  Consumer Price Index: Harmonized Prices: Total...\n",
       "1316  1316                          Manufacturers Inventories\n",
       "1360  1360  Producer Price Index by Commodity: Farm Produc...\n",
       "1436  1436       Real Broad Effective Exchange Rate for India"
      ]
     },
     "execution_count": 18,
     "metadata": {},
     "output_type": "execute_result"
    }
   ],
   "source": [
    "remove_lag_string = lambda x: re.sub(r'_lag.*$', '', str(x))\n",
    "\n",
    "def get_fed_details(coeffs_list):\n",
    "  result = map(remove_lag_string, coeffs_list)\n",
    "  return fed_indcs.loc[fed_indcs['id'].astype('str').isin(result),:]\n",
    "\n",
    "coeff_details = get_fed_details(list(dict(coeffs).keys()))\n",
    "\n",
    "coeff_details"
   ]
  },
  {
   "cell_type": "code",
   "execution_count": null,
   "metadata": {},
   "outputs": [],
   "source": []
  }
 ],
 "metadata": {
  "interpreter": {
   "hash": "55d0b4ccffeb9b154e341e407456d5cea6d771368bb7675a33e5fa1472ae1b00"
  },
  "kernelspec": {
   "display_name": "Python 3.9.5 64-bit ('3.9.5': pyenv)",
   "language": "python",
   "name": "python3"
  },
  "language_info": {
   "codemirror_mode": {
    "name": "ipython",
    "version": 3
   },
   "file_extension": ".py",
   "mimetype": "text/x-python",
   "name": "python",
   "nbconvert_exporter": "python",
   "pygments_lexer": "ipython3",
   "version": "3.9.7"
  },
  "orig_nbformat": 4
 },
 "nbformat": 4,
 "nbformat_minor": 2
}
